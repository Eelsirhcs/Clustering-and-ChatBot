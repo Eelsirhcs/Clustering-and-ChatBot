{
 "cells": [
  {
   "cell_type": "code",
   "execution_count": 1,
   "metadata": {
    "colab": {
     "base_uri": "https://localhost:8080/"
    },
    "executionInfo": {
     "elapsed": 2548,
     "status": "ok",
     "timestamp": 1604872995621,
     "user": {
      "displayName": "Serkan Çomu",
      "photoUrl": "",
      "userId": "02670640288823918462"
     },
     "user_tz": 300
    },
    "id": "aLGyDiDaonfQ",
    "outputId": "1f848623-f8f3-4d86-8185-423cb802fb96"
   },
   "outputs": [
    {
     "name": "stdout",
     "output_type": "stream",
     "text": [
      "[nltk_data] Downloading package punkt to /root/nltk_data...\n",
      "[nltk_data]   Package punkt is already up-to-date!\n",
      "[nltk_data] Downloading package stopwords to /root/nltk_data...\n",
      "[nltk_data]   Package stopwords is already up-to-date!\n",
      "[nltk_data] Downloading package wordnet to /root/nltk_data...\n",
      "[nltk_data]   Package wordnet is already up-to-date!\n"
     ]
    },
    {
     "data": {
      "text/plain": [
       "True"
      ]
     },
     "execution_count": 1,
     "metadata": {
      "tags": []
     },
     "output_type": "execute_result"
    }
   ],
   "source": [
    "import pandas as pd\n",
    "from pandas import Series\n",
    "import nltk\n",
    "import string\n",
    "import numpy as np\n",
    "\n",
    "from sklearn.model_selection import train_test_split\n",
    "from sklearn.feature_extraction.text import TfidfVectorizer\n",
    "from nltk.tokenize import word_tokenize\n",
    "from nltk.stem import PorterStemmer\n",
    "from nltk.corpus import stopwords\n",
    "from nltk.stem import WordNetLemmatizer\n",
    "from collections import Counter\n",
    "from nltk import ngrams\n",
    "\n",
    "import keras.backend as K\n",
    "from keras.layers import Dense, Embedding, LSTM\n",
    "from keras.models import Sequential\n",
    "from keras.preprocessing.text import Tokenizer\n",
    "from keras.preprocessing.sequence import pad_sequences\n",
    "import nltk\n",
    "nltk.download('punkt')\n",
    "nltk.download('stopwords')\n",
    "nltk.download('wordnet')"
   ]
  },
  {
   "cell_type": "markdown",
   "metadata": {
    "id": "gbHKrrZkongr"
   },
   "source": [
    "Using RNN"
   ]
  },
  {
   "cell_type": "code",
   "execution_count": 2,
   "metadata": {
    "colab": {
     "base_uri": "https://localhost:8080/"
    },
    "executionInfo": {
     "elapsed": 26611,
     "status": "ok",
     "timestamp": 1604872227565,
     "user": {
      "displayName": "Serkan Çomu",
      "photoUrl": "",
      "userId": "02670640288823918462"
     },
     "user_tz": 300
    },
    "id": "53rx8L9lpp1E",
    "outputId": "7ffbecf9-572f-4bc8-aec8-adab6a00c4be"
   },
   "outputs": [
    {
     "name": "stdout",
     "output_type": "stream",
     "text": [
      "Mounted at /content/drive\n"
     ]
    }
   ],
   "source": [
    "#This code was done on google colab\n",
    "from google.colab import drive\n",
    "drive.mount('/content/drive')"
   ]
  },
  {
   "cell_type": "code",
   "execution_count": 2,
   "metadata": {
    "executionInfo": {
     "elapsed": 1951,
     "status": "ok",
     "timestamp": 1604872999557,
     "user": {
      "displayName": "Serkan Çomu",
      "photoUrl": "",
      "userId": "02670640288823918462"
     },
     "user_tz": 300
    },
    "id": "QbMLjjqTongt"
   },
   "outputs": [],
   "source": [
    "import pandas as pd\n",
    "textdata = pd.read_csv('/content/drive/My Drive/GSU/Fall 2020/Advanced Deep Learning/HW 2/labeled.csv')"
   ]
  },
  {
   "cell_type": "code",
   "execution_count": 3,
   "metadata": {
    "executionInfo": {
     "elapsed": 771,
     "status": "ok",
     "timestamp": 1604872999557,
     "user": {
      "displayName": "Serkan Çomu",
      "photoUrl": "",
      "userId": "02670640288823918462"
     },
     "user_tz": 300
    },
    "id": "a1x2JOxj4HYm"
   },
   "outputs": [],
   "source": [
    "messages = textdata.dropna()"
   ]
  },
  {
   "cell_type": "code",
   "execution_count": 4,
   "metadata": {
    "executionInfo": {
     "elapsed": 458,
     "status": "ok",
     "timestamp": 1604872999794,
     "user": {
      "displayName": "Serkan Çomu",
      "photoUrl": "",
      "userId": "02670640288823918462"
     },
     "user_tz": 300
    },
    "id": "iqKFlikx4HdM"
   },
   "outputs": [],
   "source": [
    "#Get rid of sentences longer than 4000 words\n",
    "messages = messages[messages['Clean'].str.len().lt(4000)]"
   ]
  },
  {
   "cell_type": "code",
   "execution_count": 5,
   "metadata": {
    "executionInfo": {
     "elapsed": 896,
     "status": "ok",
     "timestamp": 1604873000750,
     "user": {
      "displayName": "Serkan Çomu",
      "photoUrl": "",
      "userId": "02670640288823918462"
     },
     "user_tz": 300
    },
    "id": "UaHPqxlp4Hfd"
   },
   "outputs": [],
   "source": [
    "# Read in data and split into training and test set (once labeled) and fix naming.\n",
    "X_train, X_test, y_train, y_test = train_test_split(messages['Clean'], messages['labeln'], test_size = 0.1)"
   ]
  },
  {
   "cell_type": "code",
   "execution_count": 6,
   "metadata": {
    "colab": {
     "base_uri": "https://localhost:8080/"
    },
    "executionInfo": {
     "elapsed": 388,
     "status": "ok",
     "timestamp": 1604873000952,
     "user": {
      "displayName": "Serkan Çomu",
      "photoUrl": "",
      "userId": "02670640288823918462"
     },
     "user_tz": 300
    },
    "id": "QoMeMfOr4Hh1",
    "outputId": "6f2c5fe1-51c4-46c7-c1e2-8fe2d3c56b9c"
   },
   "outputs": [
    {
     "name": "stdout",
     "output_type": "stream",
     "text": [
      "# of X_train:  106475\n",
      "# of X_test:  11831\n"
     ]
    }
   ],
   "source": [
    "print('# of X_train: ', len(X_train))\n",
    "print('# of X_test: ', len(X_test))"
   ]
  },
  {
   "cell_type": "code",
   "execution_count": 16,
   "metadata": {
    "executionInfo": {
     "elapsed": 713,
     "status": "ok",
     "timestamp": 1604873189265,
     "user": {
      "displayName": "Serkan Çomu",
      "photoUrl": "",
      "userId": "02670640288823918462"
     },
     "user_tz": 300
    },
    "id": "_gfX7JuF5Iol"
   },
   "outputs": [],
   "source": [
    "#Setup dummies for the result \n",
    "\n",
    "y_train = pd.get_dummies(y_train)\n",
    "y_test = pd.get_dummies(y_test)"
   ]
  },
  {
   "cell_type": "code",
   "execution_count": 7,
   "metadata": {
    "colab": {
     "base_uri": "https://localhost:8080/",
     "height": 214
    },
    "executionInfo": {
     "elapsed": 2428,
     "status": "ok",
     "timestamp": 1604873004304,
     "user": {
      "displayName": "Serkan Çomu",
      "photoUrl": "",
      "userId": "02670640288823918462"
     },
     "user_tz": 300
    },
    "id": "tgsS2FU54HkZ",
    "outputId": "aedcbc68-28c0-4524-98c1-3891b5ff908e"
   },
   "outputs": [
    {
     "data": {
      "image/png": "[encoded data removed]",
      "text/plain": [
       "<Figure size 288x216 with 1 Axes>"
      ]
     },
     "metadata": {
      "needs_background": "light",
      "tags": []
     },
     "output_type": "display_data"
    }
   ],
   "source": [
    "import matplotlib.pyplot as plt\n",
    "max_sequence_len = max([len(x) for x in X_train])\n",
    "plt.figure(figsize=(4,3))\n",
    "plt.hist([len(x) for x in X_train], bins=1000)\n",
    "plt.axvline(max_sequence_len, c=\"r\")\n",
    "#plt.title(\"Positive Review Sequence Length\")\n",
    "plt.show()"
   ]
  },
  {
   "cell_type": "code",
   "execution_count": 8,
   "metadata": {
    "executionInfo": {
     "elapsed": 8243,
     "status": "ok",
     "timestamp": 1604873012237,
     "user": {
      "displayName": "Serkan Çomu",
      "photoUrl": "",
      "userId": "02670640288823918462"
     },
     "user_tz": 300
    },
    "id": "OU9MQrQh4HnP"
   },
   "outputs": [],
   "source": [
    "# Initialize and fit the tokenizer\n",
    "tokenizer = Tokenizer()\n",
    "tokenizer.fit_on_texts(X_train)"
   ]
  },
  {
   "cell_type": "code",
   "execution_count": 9,
   "metadata": {
    "executionInfo": {
     "elapsed": 14741,
     "status": "ok",
     "timestamp": 1604873019362,
     "user": {
      "displayName": "Serkan Çomu",
      "photoUrl": "",
      "userId": "02670640288823918462"
     },
     "user_tz": 300
    },
    "id": "uw9BbGtk4HpX"
   },
   "outputs": [],
   "source": [
    "# Use tokenizer to transform the text messages in the training and test sets\n",
    "X_train_seq = tokenizer.texts_to_sequences(X_train)\n",
    "X_test_seq = tokenizer.texts_to_sequences(X_test)"
   ]
  },
  {
   "cell_type": "code",
   "execution_count": 10,
   "metadata": {
    "executionInfo": {
     "elapsed": 15497,
     "status": "ok",
     "timestamp": 1604873020807,
     "user": {
      "displayName": "Serkan Çomu",
      "photoUrl": "",
      "userId": "02670640288823918462"
     },
     "user_tz": 300
    },
    "id": "3u7z-ywG4Hrj"
   },
   "outputs": [],
   "source": [
    "# Pad the sequences so each sequence is the same length\n",
    "X_train_seq_padded = pad_sequences(X_train_seq, 4001)\n",
    "X_test_seq_padded = pad_sequences(X_test_seq, 4001)"
   ]
  },
  {
   "cell_type": "code",
   "execution_count": 20,
   "metadata": {
    "colab": {
     "base_uri": "https://localhost:8080/"
    },
    "executionInfo": {
     "elapsed": 990,
     "status": "ok",
     "timestamp": 1604878494057,
     "user": {
      "displayName": "Serkan Çomu",
      "photoUrl": "",
      "userId": "02670640288823918462"
     },
     "user_tz": 300
    },
    "id": "0Mu8MGOR4HuA",
    "outputId": "f2365e10-36ad-4e18-c6eb-8822f2c92d5c"
   },
   "outputs": [
    {
     "name": "stdout",
     "output_type": "stream",
     "text": [
      "Model: \"sequential_2\"\n",
      "_________________________________________________________________\n",
      "Layer (type)                 Output Shape              Param #   \n",
      "=================================================================\n",
      "embedding_2 (Embedding)      (None, None, 30)          599790    \n",
      "_________________________________________________________________\n",
      "lstm_2 (LSTM)                (None, 30)                7320      \n",
      "_________________________________________________________________\n",
      "dense_4 (Dense)              (None, 30)                930       \n",
      "_________________________________________________________________\n",
      "dense_5 (Dense)              (None, 15)                465       \n",
      "=================================================================\n",
      "Total params: 608,505\n",
      "Trainable params: 608,505\n",
      "Non-trainable params: 0\n",
      "_________________________________________________________________\n"
     ]
    }
   ],
   "source": [
    "# Construct a simple RNN model\n",
    "model = Sequential()\n",
    "model.add(Embedding(len(tokenizer.index_word)+1, 30))\n",
    "model.add(LSTM(30, dropout=0, recurrent_dropout=0))\n",
    "model.add(Dense(30, activation='relu'))\n",
    "model.add(Dense(15, activation='sigmoid'))\n",
    "model.summary()"
   ]
  },
  {
   "cell_type": "code",
   "execution_count": 21,
   "metadata": {
    "executionInfo": {
     "elapsed": 475,
     "status": "ok",
     "timestamp": 1604878497094,
     "user": {
      "displayName": "Serkan Çomu",
      "photoUrl": "",
      "userId": "02670640288823918462"
     },
     "user_tz": 300
    },
    "id": "hTR4E3X74Q08"
   },
   "outputs": [],
   "source": [
    "# Compile the model\n",
    "model.compile(optimizer = 'adam', loss = 'binary_crossentropy', metrics =['accuracy']) "
   ]
  },
  {
   "cell_type": "code",
   "execution_count": 22,
   "metadata": {
    "colab": {
     "base_uri": "https://localhost:8080/"
    },
    "executionInfo": {
     "elapsed": 433791,
     "status": "ok",
     "timestamp": 1604878931802,
     "user": {
      "displayName": "Serkan Çomu",
      "photoUrl": "",
      "userId": "02670640288823918462"
     },
     "user_tz": 300
    },
    "id": "w_S0LleZ4Q3M",
    "outputId": "8410d8c2-5461-4ff6-9262-0224a21ad30d"
   },
   "outputs": [
    {
     "name": "stdout",
     "output_type": "stream",
     "text": [
      "3328/3328 [==============================] - 431s 130ms/step - loss: 0.1153 - accuracy: 0.6655 - val_loss: 0.0286 - val_accuracy: 0.9435\n"
     ]
    }
   ],
   "source": [
    "# Fit the RNN model\n",
    "history = model.fit(X_train_seq_padded, y_train, batch_size=32, epochs=1, validation_data=(X_test_seq_padded, y_test))"
   ]
  }
 ],
 "metadata": {
  "accelerator": "GPU",
  "colab": {
   "collapsed_sections": [],
   "machine_shape": "hm",
   "name": "Copy of TAH2-1-new.ipynb",
   "provenance": [
    {
     "file_id": "1vM-T3YpI-B7mNZH8OaqT_1Mc2q2zendQ",
     "timestamp": 1604883055797
    }
   ]
  },
  "kernelspec": {
   "display_name": "Python 3",
   "language": "python",
   "name": "python3"
  },
  "language_info": {
   "codemirror_mode": {
    "name": "ipython",
    "version": 3
   },
   "file_extension": ".py",
   "mimetype": "text/x-python",
   "name": "python",
   "nbconvert_exporter": "python",
   "pygments_lexer": "ipython3",
   "version": "3.8.3"
  }
 },
 "nbformat": 4,
 "nbformat_minor": 1
}
