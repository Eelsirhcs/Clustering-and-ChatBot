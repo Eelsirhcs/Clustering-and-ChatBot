{
 "cells": [
  {
   "cell_type": "markdown",
   "metadata": {},
   "source": [
    "# Load Dependencies"
   ]
  },
  {
   "cell_type": "code",
   "execution_count": 1,
   "metadata": {},
   "outputs": [
    {
     "name": "stderr",
     "output_type": "stream",
     "text": [
      "C:\\Users\\leech\\AppData\\Local\\Continuum\\anaconda3\\lib\\site-packages\\statsmodels\\tools\\_testing.py:19: FutureWarning: pandas.util.testing is deprecated. Use the functions in the public API at pandas.testing instead.\n",
      "  import pandas.util.testing as tm\n",
      "C:\\Users\\leech\\AppData\\Local\\Continuum\\anaconda3\\lib\\site-packages\\statsmodels\\compat\\pandas.py:23: FutureWarning: The Panel class is removed from pandas. Accessing it from the top-level namespace will also be removed in the next version\n",
      "  data_klasses = (pandas.Series, pandas.DataFrame, pandas.Panel)\n"
     ]
    }
   ],
   "source": [
    "import pandas as pd\n",
    "import numpy as np\n",
    "import matplotlib\n",
    "import matplotlib.pylab as plt\n",
    "import seaborn as sns\n",
    "import statsmodels.api as sm\n",
    "import time\n",
    "from matplotlib.colors import LinearSegmentedColormap\n",
    "from itertools import cycle\n",
    "from pandas.api.types import CategoricalDtype\n",
    "from collections import defaultdict\n",
    "\n",
    "%matplotlib inline\n",
    "from sklearn.model_selection import train_test_split\n",
    "from sklearn.linear_model import LinearRegression\n",
    "from sklearn.feature_selection import RFE\n",
    "from sklearn.linear_model import RidgeCV, LassoCV, Ridge, Lasso\n",
    "\n",
    "import warnings\n",
    "warnings.filterwarnings(\"ignore\")"
   ]
  },
  {
   "cell_type": "code",
   "execution_count": 2,
   "metadata": {},
   "outputs": [],
   "source": [
    "pd.options.display.float_format = '{:.2f}'.format\n",
    "pd.set_option('display.max_columns', None)"
   ]
  },
  {
   "cell_type": "markdown",
   "metadata": {},
   "source": [
    "# Load Data"
   ]
  },
  {
   "cell_type": "code",
   "execution_count": 3,
   "metadata": {},
   "outputs": [],
   "source": [
    "df = pd.read_csv('All_Joined.csv')"
   ]
  },
  {
   "cell_type": "code",
   "execution_count": 4,
   "metadata": {},
   "outputs": [
    {
     "data": {
      "text/html": [
       "<div>\n",
       "<style scoped>\n",
       "    .dataframe tbody tr th:only-of-type {\n",
       "        vertical-align: middle;\n",
       "    }\n",
       "\n",
       "    .dataframe tbody tr th {\n",
       "        vertical-align: top;\n",
       "    }\n",
       "\n",
       "    .dataframe thead th {\n",
       "        text-align: right;\n",
       "    }\n",
       "</style>\n",
       "<table border=\"1\" class=\"dataframe\">\n",
       "  <thead>\n",
       "    <tr style=\"text-align: right;\">\n",
       "      <th></th>\n",
       "      <th>Unnamed: 0</th>\n",
       "      <th>Unnamed: 0.1</th>\n",
       "      <th>Accessorial Miscellaneous Customer</th>\n",
       "      <th>Average Sales Cycle</th>\n",
       "      <th>Active Opportunites Count</th>\n",
       "      <th>Existing Sales Initiative</th>\n",
       "      <th># Activity in Last 90Days</th>\n",
       "      <th>Annual Revenue</th>\n",
       "      <th>Billing State/Province</th>\n",
       "      <th>Product Commercial Customer</th>\n",
       "      <th>DnB Base Year Sales Qty</th>\n",
       "      <th>DnB Bus Num Of Clients</th>\n",
       "      <th>DnB Bus Property Size</th>\n",
       "      <th>DnB Bus State Province Name</th>\n",
       "      <th>DnB Bus Total Gross Revenue</th>\n",
       "      <th>DnB Primary NAICS Industry Sub Segment Level2 Description</th>\n",
       "      <th>DnB Primary SIC Industry 4 Description</th>\n",
       "      <th>Deferred Air Customer</th>\n",
       "      <th>Activity exists in Last 90Days</th>\n",
       "      <th>Lost Opps exist in Last 90Days</th>\n",
       "      <th>Won Opps exist in Last 90Days</th>\n",
       "      <th>Ground CWT Customer</th>\n",
       "      <th>Account ID</th>\n",
       "      <th>Industry</th>\n",
       "      <th>Industry Updated</th>\n",
       "      <th>Number of Preceding Account Tasks</th>\n",
       "      <th># Lost Opps in Last 90Days</th>\n",
       "      <th>Next Day Air Customer</th>\n",
       "      <th>Residential Customer</th>\n",
       "      <th>Spend Scope</th>\n",
       "      <th>State/Province</th>\n",
       "      <th>Competitor Non Addressable</th>\n",
       "      <th>Competitor Spend</th>\n",
       "      <th>Customer Spend</th>\n",
       "      <th>TCS.UPS_Revenue_Manual__c</th>\n",
       "      <th>US Miscellaneous Competitor Spend</th>\n",
       "      <th>US Miscellaneous CustomerSpend</th>\n",
       "      <th>TCS_US_Access.UPS_Revenue_Manual__c</th>\n",
       "      <th>US Air Competitor Spend</th>\n",
       "      <th>US Air Customer Spend</th>\n",
       "      <th>US Air UPS Revenue</th>\n",
       "      <th>US Ground Competitor Spend</th>\n",
       "      <th>US Ground Customer Spend</th>\n",
       "      <th>US Ground UPS Revenue</th>\n",
       "      <th>International Competitor Spend</th>\n",
       "      <th>International Customer Spend</th>\n",
       "      <th>TCS_US_Intl.UPS_Revenue_Manual__c</th>\n",
       "      <th>UPS SurePost Customer</th>\n",
       "      <th>USPK Competitor Spend</th>\n",
       "      <th>USPK Customer Spend</th>\n",
       "      <th>USPK Spend Scope</th>\n",
       "      <th>USPK UPS Spend</th>\n",
       "      <th>US International IFC Customer</th>\n",
       "      <th>VNR.Rev_Net_USD</th>\n",
       "      <th>VNR.Volume_Qty</th>\n",
       "      <th>WW Economy Customer</th>\n",
       "      <th>WW Expedited Transborder Customer</th>\n",
       "      <th>WW Express Freight Customer</th>\n",
       "      <th>WW Express Freight IFC Customer</th>\n",
       "      <th>WW Express Saver Customer</th>\n",
       "      <th>Window Won</th>\n",
       "      <th># Won Opps in Last 90Days</th>\n",
       "      <th>iparcel Select Customer</th>\n",
       "      <th>Prod_1_Rev_Net_USD</th>\n",
       "      <th>Prod_3_Rev_Net_USD</th>\n",
       "      <th>Prod_27_Rev_Net_USD</th>\n",
       "      <th>Prod_33_Rev_Net_USD</th>\n",
       "      <th>Prod_35_Rev_Net_USD</th>\n",
       "      <th>Prod_38_Rev_Net_USD</th>\n",
       "      <th>Prod_79_Rev_Net_USD</th>\n",
       "      <th>Prod_102_Rev_Net_USD</th>\n",
       "      <th>Prod_117_Rev_Net_USD</th>\n",
       "      <th>Prod_118_Rev_Net_USD</th>\n",
       "      <th>Prod_126_Rev_Net_USD</th>\n",
       "      <th>Prod_352_Rev_Net_USD</th>\n",
       "      <th>Prod_360_Rev_Net_USD</th>\n",
       "      <th>Prod_1_Volume_Qty</th>\n",
       "      <th>Prod_3_Volume_Qty</th>\n",
       "      <th>Prod_27_Volume_Qty</th>\n",
       "      <th>Prod_33_Volume_Qty</th>\n",
       "      <th>Prod_35_Volume_Qty</th>\n",
       "      <th>Prod_38_Volume_Qty</th>\n",
       "      <th>Prod_79_Volume_Qty</th>\n",
       "      <th>Prod_102_Volume_Qty</th>\n",
       "      <th>Prod_117_Volume_Qty</th>\n",
       "      <th>Prod_118_Volume_Qty</th>\n",
       "      <th>Prod_126_Volume_Qty</th>\n",
       "      <th>Prod_352_Volume_Qty</th>\n",
       "      <th>Prod_360_Volume_Qty</th>\n",
       "      <th>Prod_577_Rev_Net_USD</th>\n",
       "      <th>Prod_577_Volume_Qty</th>\n",
       "      <th>Id</th>\n",
       "    </tr>\n",
       "  </thead>\n",
       "  <tbody>\n",
       "    <tr>\n",
       "      <th>0</th>\n",
       "      <td>0</td>\n",
       "      <td>0</td>\n",
       "      <td>Yes</td>\n",
       "      <td>0.00</td>\n",
       "      <td>0.00</td>\n",
       "      <td>No</td>\n",
       "      <td>0</td>\n",
       "      <td>0</td>\n",
       "      <td>Texas</td>\n",
       "      <td>Yes</td>\n",
       "      <td>0</td>\n",
       "      <td>0</td>\n",
       "      <td>0</td>\n",
       "      <td>NaN</td>\n",
       "      <td>0.00</td>\n",
       "      <td>NaN</td>\n",
       "      <td>NaN</td>\n",
       "      <td>Yes</td>\n",
       "      <td>No</td>\n",
       "      <td>No</td>\n",
       "      <td>No</td>\n",
       "      <td>No</td>\n",
       "      <td>0012A00001wR97TQAS</td>\n",
       "      <td>Industrial Products</td>\n",
       "      <td>Industrial Products</td>\n",
       "      <td>0</td>\n",
       "      <td>0</td>\n",
       "      <td>Yes</td>\n",
       "      <td>Yes</td>\n",
       "      <td>0.00</td>\n",
       "      <td>TEXAS</td>\n",
       "      <td>0.00</td>\n",
       "      <td>0.00</td>\n",
       "      <td>0</td>\n",
       "      <td>0.00</td>\n",
       "      <td>$0.00</td>\n",
       "      <td>$0.00</td>\n",
       "      <td>0.00</td>\n",
       "      <td>$0.00</td>\n",
       "      <td>$0.00</td>\n",
       "      <td>$0.00</td>\n",
       "      <td>$0.00</td>\n",
       "      <td>$0.00</td>\n",
       "      <td>$0.00</td>\n",
       "      <td>$0.00</td>\n",
       "      <td>$0.00</td>\n",
       "      <td>0.00</td>\n",
       "      <td>No</td>\n",
       "      <td>0.00</td>\n",
       "      <td>0.00</td>\n",
       "      <td>0.00</td>\n",
       "      <td>0.00</td>\n",
       "      <td>No</td>\n",
       "      <td>14004.99</td>\n",
       "      <td>806.00</td>\n",
       "      <td>No</td>\n",
       "      <td>No</td>\n",
       "      <td>No</td>\n",
       "      <td>No</td>\n",
       "      <td>No</td>\n",
       "      <td>No</td>\n",
       "      <td>0</td>\n",
       "      <td>No</td>\n",
       "      <td>17943.93</td>\n",
       "      <td>0.00</td>\n",
       "      <td>1739.45</td>\n",
       "      <td>0.00</td>\n",
       "      <td>3636.37</td>\n",
       "      <td>1803.94</td>\n",
       "      <td>0.00</td>\n",
       "      <td>0.00</td>\n",
       "      <td>0.00</td>\n",
       "      <td>0.00</td>\n",
       "      <td>0.00</td>\n",
       "      <td>1018.74</td>\n",
       "      <td>0.00</td>\n",
       "      <td>1311.00</td>\n",
       "      <td>0.00</td>\n",
       "      <td>0.00</td>\n",
       "      <td>0.00</td>\n",
       "      <td>55.00</td>\n",
       "      <td>72.00</td>\n",
       "      <td>0.00</td>\n",
       "      <td>0.00</td>\n",
       "      <td>0.00</td>\n",
       "      <td>0.00</td>\n",
       "      <td>0.00</td>\n",
       "      <td>62.00</td>\n",
       "      <td>0.00</td>\n",
       "      <td>0.00</td>\n",
       "      <td>0.00</td>\n",
       "      <td>0012A00001wR97TQAS</td>\n",
       "    </tr>\n",
       "    <tr>\n",
       "      <th>1</th>\n",
       "      <td>1</td>\n",
       "      <td>1</td>\n",
       "      <td>Yes</td>\n",
       "      <td>0.00</td>\n",
       "      <td>0.00</td>\n",
       "      <td>No</td>\n",
       "      <td>0</td>\n",
       "      <td>0</td>\n",
       "      <td>Arizona</td>\n",
       "      <td>Yes</td>\n",
       "      <td>0</td>\n",
       "      <td>0</td>\n",
       "      <td>0</td>\n",
       "      <td>NaN</td>\n",
       "      <td>0.00</td>\n",
       "      <td>NaN</td>\n",
       "      <td>NaN</td>\n",
       "      <td>Yes</td>\n",
       "      <td>No</td>\n",
       "      <td>No</td>\n",
       "      <td>No</td>\n",
       "      <td>No</td>\n",
       "      <td>0012A00001wR97cQAC</td>\n",
       "      <td>Apparel and Consumer Goods</td>\n",
       "      <td>Apparel and Consumer Goods</td>\n",
       "      <td>0</td>\n",
       "      <td>0</td>\n",
       "      <td>Yes</td>\n",
       "      <td>Yes</td>\n",
       "      <td>0.00</td>\n",
       "      <td>ARIZONA</td>\n",
       "      <td>0.00</td>\n",
       "      <td>0.00</td>\n",
       "      <td>0</td>\n",
       "      <td>0.00</td>\n",
       "      <td>$0.00</td>\n",
       "      <td>$0.00</td>\n",
       "      <td>0.00</td>\n",
       "      <td>$0.00</td>\n",
       "      <td>$0.00</td>\n",
       "      <td>$0.00</td>\n",
       "      <td>$0.00</td>\n",
       "      <td>$0.00</td>\n",
       "      <td>$0.00</td>\n",
       "      <td>$0.00</td>\n",
       "      <td>$0.00</td>\n",
       "      <td>0.00</td>\n",
       "      <td>No</td>\n",
       "      <td>0.00</td>\n",
       "      <td>0.00</td>\n",
       "      <td>0.00</td>\n",
       "      <td>0.00</td>\n",
       "      <td>No</td>\n",
       "      <td>9742.68</td>\n",
       "      <td>405.00</td>\n",
       "      <td>No</td>\n",
       "      <td>No</td>\n",
       "      <td>No</td>\n",
       "      <td>No</td>\n",
       "      <td>No</td>\n",
       "      <td>No</td>\n",
       "      <td>0</td>\n",
       "      <td>No</td>\n",
       "      <td>9925.79</td>\n",
       "      <td>0.00</td>\n",
       "      <td>1421.72</td>\n",
       "      <td>0.00</td>\n",
       "      <td>1507.20</td>\n",
       "      <td>639.12</td>\n",
       "      <td>0.00</td>\n",
       "      <td>0.00</td>\n",
       "      <td>0.00</td>\n",
       "      <td>0.00</td>\n",
       "      <td>0.00</td>\n",
       "      <td>1652.73</td>\n",
       "      <td>0.00</td>\n",
       "      <td>591.00</td>\n",
       "      <td>0.00</td>\n",
       "      <td>0.00</td>\n",
       "      <td>0.00</td>\n",
       "      <td>9.00</td>\n",
       "      <td>9.00</td>\n",
       "      <td>0.00</td>\n",
       "      <td>0.00</td>\n",
       "      <td>0.00</td>\n",
       "      <td>0.00</td>\n",
       "      <td>0.00</td>\n",
       "      <td>73.00</td>\n",
       "      <td>0.00</td>\n",
       "      <td>0.00</td>\n",
       "      <td>0.00</td>\n",
       "      <td>0012A00001wR97cQAC</td>\n",
       "    </tr>\n",
       "  </tbody>\n",
       "</table>\n",
       "</div>"
      ],
      "text/plain": [
       "   Unnamed: 0  Unnamed: 0.1 Accessorial Miscellaneous Customer  \\\n",
       "0           0             0                                Yes   \n",
       "1           1             1                                Yes   \n",
       "\n",
       "   Average Sales Cycle  Active Opportunites Count Existing Sales Initiative  \\\n",
       "0                 0.00                       0.00                        No   \n",
       "1                 0.00                       0.00                        No   \n",
       "\n",
       "   # Activity in Last 90Days  Annual Revenue Billing State/Province  \\\n",
       "0                          0               0                  Texas   \n",
       "1                          0               0                Arizona   \n",
       "\n",
       "  Product Commercial Customer  DnB Base Year Sales Qty  \\\n",
       "0                         Yes                        0   \n",
       "1                         Yes                        0   \n",
       "\n",
       "   DnB Bus Num Of Clients  DnB Bus Property Size DnB Bus State Province Name  \\\n",
       "0                       0                      0                         NaN   \n",
       "1                       0                      0                         NaN   \n",
       "\n",
       "   DnB Bus Total Gross Revenue  \\\n",
       "0                         0.00   \n",
       "1                         0.00   \n",
       "\n",
       "  DnB Primary NAICS Industry Sub Segment Level2 Description  \\\n",
       "0                                                NaN          \n",
       "1                                                NaN          \n",
       "\n",
       "  DnB Primary SIC Industry 4 Description Deferred Air Customer  \\\n",
       "0                                    NaN                   Yes   \n",
       "1                                    NaN                   Yes   \n",
       "\n",
       "  Activity exists in Last 90Days Lost Opps exist in Last 90Days  \\\n",
       "0                             No                             No   \n",
       "1                             No                             No   \n",
       "\n",
       "  Won Opps exist in Last 90Days Ground CWT Customer          Account ID  \\\n",
       "0                            No                  No  0012A00001wR97TQAS   \n",
       "1                            No                  No  0012A00001wR97cQAC   \n",
       "\n",
       "                     Industry            Industry Updated  \\\n",
       "0         Industrial Products         Industrial Products   \n",
       "1  Apparel and Consumer Goods  Apparel and Consumer Goods   \n",
       "\n",
       "   Number of Preceding Account Tasks  # Lost Opps in Last 90Days  \\\n",
       "0                                  0                           0   \n",
       "1                                  0                           0   \n",
       "\n",
       "  Next Day Air Customer Residential Customer  Spend Scope State/Province  \\\n",
       "0                   Yes                  Yes         0.00          TEXAS   \n",
       "1                   Yes                  Yes         0.00        ARIZONA   \n",
       "\n",
       "   Competitor Non Addressable  Competitor Spend  Customer Spend  \\\n",
       "0                        0.00              0.00               0   \n",
       "1                        0.00              0.00               0   \n",
       "\n",
       "   TCS.UPS_Revenue_Manual__c US Miscellaneous Competitor Spend  \\\n",
       "0                       0.00                             $0.00   \n",
       "1                       0.00                             $0.00   \n",
       "\n",
       "  US Miscellaneous CustomerSpend  TCS_US_Access.UPS_Revenue_Manual__c  \\\n",
       "0                          $0.00                                 0.00   \n",
       "1                          $0.00                                 0.00   \n",
       "\n",
       "  US Air Competitor Spend US Air Customer Spend US Air UPS Revenue  \\\n",
       "0                   $0.00                 $0.00              $0.00   \n",
       "1                   $0.00                 $0.00              $0.00   \n",
       "\n",
       "  US Ground Competitor Spend US Ground Customer Spend US Ground UPS Revenue  \\\n",
       "0                      $0.00                    $0.00                 $0.00   \n",
       "1                      $0.00                    $0.00                 $0.00   \n",
       "\n",
       "  International Competitor Spend International Customer Spend  \\\n",
       "0                          $0.00                        $0.00   \n",
       "1                          $0.00                        $0.00   \n",
       "\n",
       "   TCS_US_Intl.UPS_Revenue_Manual__c UPS SurePost Customer  \\\n",
       "0                               0.00                    No   \n",
       "1                               0.00                    No   \n",
       "\n",
       "   USPK Competitor Spend  USPK Customer Spend  USPK Spend Scope  \\\n",
       "0                   0.00                 0.00              0.00   \n",
       "1                   0.00                 0.00              0.00   \n",
       "\n",
       "   USPK UPS Spend US International IFC Customer  VNR.Rev_Net_USD  \\\n",
       "0            0.00                            No         14004.99   \n",
       "1            0.00                            No          9742.68   \n",
       "\n",
       "   VNR.Volume_Qty WW Economy Customer WW Expedited Transborder Customer  \\\n",
       "0          806.00                  No                                No   \n",
       "1          405.00                  No                                No   \n",
       "\n",
       "  WW Express Freight Customer WW Express Freight IFC Customer  \\\n",
       "0                          No                              No   \n",
       "1                          No                              No   \n",
       "\n",
       "  WW Express Saver Customer Window Won  # Won Opps in Last 90Days  \\\n",
       "0                        No         No                          0   \n",
       "1                        No         No                          0   \n",
       "\n",
       "  iparcel Select Customer  Prod_1_Rev_Net_USD  Prod_3_Rev_Net_USD  \\\n",
       "0                      No            17943.93                0.00   \n",
       "1                      No             9925.79                0.00   \n",
       "\n",
       "   Prod_27_Rev_Net_USD  Prod_33_Rev_Net_USD  Prod_35_Rev_Net_USD  \\\n",
       "0              1739.45                 0.00              3636.37   \n",
       "1              1421.72                 0.00              1507.20   \n",
       "\n",
       "   Prod_38_Rev_Net_USD  Prod_79_Rev_Net_USD  Prod_102_Rev_Net_USD  \\\n",
       "0              1803.94                 0.00                  0.00   \n",
       "1               639.12                 0.00                  0.00   \n",
       "\n",
       "   Prod_117_Rev_Net_USD  Prod_118_Rev_Net_USD  Prod_126_Rev_Net_USD  \\\n",
       "0                  0.00                  0.00                  0.00   \n",
       "1                  0.00                  0.00                  0.00   \n",
       "\n",
       "   Prod_352_Rev_Net_USD  Prod_360_Rev_Net_USD  Prod_1_Volume_Qty  \\\n",
       "0               1018.74                  0.00            1311.00   \n",
       "1               1652.73                  0.00             591.00   \n",
       "\n",
       "   Prod_3_Volume_Qty  Prod_27_Volume_Qty  Prod_33_Volume_Qty  \\\n",
       "0               0.00                0.00                0.00   \n",
       "1               0.00                0.00                0.00   \n",
       "\n",
       "   Prod_35_Volume_Qty  Prod_38_Volume_Qty  Prod_79_Volume_Qty  \\\n",
       "0               55.00               72.00                0.00   \n",
       "1                9.00                9.00                0.00   \n",
       "\n",
       "   Prod_102_Volume_Qty  Prod_117_Volume_Qty  Prod_118_Volume_Qty  \\\n",
       "0                 0.00                 0.00                 0.00   \n",
       "1                 0.00                 0.00                 0.00   \n",
       "\n",
       "   Prod_126_Volume_Qty  Prod_352_Volume_Qty  Prod_360_Volume_Qty  \\\n",
       "0                 0.00                62.00                 0.00   \n",
       "1                 0.00                73.00                 0.00   \n",
       "\n",
       "   Prod_577_Rev_Net_USD  Prod_577_Volume_Qty                  Id  \n",
       "0                  0.00                 0.00  0012A00001wR97TQAS  \n",
       "1                  0.00                 0.00  0012A00001wR97cQAC  "
      ]
     },
     "execution_count": 4,
     "metadata": {},
     "output_type": "execute_result"
    }
   ],
   "source": [
    "df.head(2)"
   ]
  },
  {
   "cell_type": "code",
   "execution_count": 5,
   "metadata": {
    "scrolled": true
   },
   "outputs": [
    {
     "name": "stdout",
     "output_type": "stream",
     "text": [
      "<class 'pandas.core.frame.DataFrame'>\n",
      "RangeIndex: 10000 entries, 0 to 9999\n",
      "Data columns (total 92 columns):\n",
      " #   Column                                                     Non-Null Count  Dtype  \n",
      "---  ------                                                     --------------  -----  \n",
      " 0   Unnamed: 0                                                 10000 non-null  int64  \n",
      " 1   Unnamed: 0.1                                               10000 non-null  int64  \n",
      " 2   Accessorial Miscellaneous Customer                         10000 non-null  object \n",
      " 3   Average Sales Cycle                                        10000 non-null  float64\n",
      " 4   Active Opportunites Count                                  10000 non-null  float64\n",
      " 5   Existing Sales Initiative                                  10000 non-null  object \n",
      " 6   # Activity in Last 90Days                                  10000 non-null  int64  \n",
      " 7   Annual Revenue                                             10000 non-null  int64  \n",
      " 8   Billing State/Province                                     6776 non-null   object \n",
      " 9   Product Commercial Customer                                10000 non-null  object \n",
      " 10  DnB Base Year Sales Qty                                    10000 non-null  int64  \n",
      " 11  DnB Bus Num Of Clients                                     10000 non-null  int64  \n",
      " 12  DnB Bus Property Size                                      10000 non-null  int64  \n",
      " 13  DnB Bus State Province Name                                5985 non-null   object \n",
      " 14  DnB Bus Total Gross Revenue                                10000 non-null  float64\n",
      " 15  DnB Primary NAICS Industry Sub Segment Level2 Description  5985 non-null   object \n",
      " 16  DnB Primary SIC Industry 4 Description                     5985 non-null   object \n",
      " 17  Deferred Air Customer                                      10000 non-null  object \n",
      " 18  Activity exists in Last 90Days                             10000 non-null  object \n",
      " 19  Lost Opps exist in Last 90Days                             10000 non-null  object \n",
      " 20  Won Opps exist in Last 90Days                              10000 non-null  object \n",
      " 21  Ground CWT Customer                                        10000 non-null  object \n",
      " 22  Account ID                                                 10000 non-null  object \n",
      " 23  Industry                                                   10000 non-null  object \n",
      " 24  Industry Updated                                           10000 non-null  object \n",
      " 25  Number of Preceding Account Tasks                          10000 non-null  int64  \n",
      " 26  # Lost Opps in Last 90Days                                 10000 non-null  int64  \n",
      " 27  Next Day Air Customer                                      10000 non-null  object \n",
      " 28  Residential Customer                                       10000 non-null  object \n",
      " 29  Spend Scope                                                10000 non-null  float64\n",
      " 30  State/Province                                             8768 non-null   object \n",
      " 31  Competitor Non Addressable                                 10000 non-null  float64\n",
      " 32  Competitor Spend                                           10000 non-null  float64\n",
      " 33  Customer Spend                                             10000 non-null  int64  \n",
      " 34  TCS.UPS_Revenue_Manual__c                                  10000 non-null  float64\n",
      " 35  US Miscellaneous Competitor Spend                          10000 non-null  object \n",
      " 36  US Miscellaneous CustomerSpend                             10000 non-null  object \n",
      " 37  TCS_US_Access.UPS_Revenue_Manual__c                        10000 non-null  float64\n",
      " 38  US Air Competitor Spend                                    10000 non-null  object \n",
      " 39  US Air Customer Spend                                      10000 non-null  object \n",
      " 40  US Air UPS Revenue                                         10000 non-null  object \n",
      " 41  US Ground Competitor Spend                                 10000 non-null  object \n",
      " 42  US Ground Customer Spend                                   10000 non-null  object \n",
      " 43  US Ground UPS Revenue                                      10000 non-null  object \n",
      " 44  International Competitor Spend                             10000 non-null  object \n",
      " 45  International Customer Spend                               10000 non-null  object \n",
      " 46  TCS_US_Intl.UPS_Revenue_Manual__c                          10000 non-null  float64\n",
      " 47  UPS SurePost Customer                                      10000 non-null  object \n",
      " 48  USPK Competitor Spend                                      10000 non-null  float64\n",
      " 49  USPK Customer Spend                                        10000 non-null  float64\n",
      " 50  USPK Spend Scope                                           10000 non-null  float64\n",
      " 51  USPK UPS Spend                                             10000 non-null  float64\n",
      " 52  US International IFC Customer                              10000 non-null  object \n",
      " 53  VNR.Rev_Net_USD                                            10000 non-null  float64\n",
      " 54  VNR.Volume_Qty                                             10000 non-null  float64\n",
      " 55  WW Economy Customer                                        10000 non-null  object \n",
      " 56  WW Expedited Transborder Customer                          10000 non-null  object \n",
      " 57  WW Express Freight Customer                                10000 non-null  object \n",
      " 58  WW Express Freight IFC Customer                            10000 non-null  object \n",
      " 59  WW Express Saver Customer                                  10000 non-null  object \n",
      " 60  Window Won                                                 10000 non-null  object \n",
      " 61  # Won Opps in Last 90Days                                  10000 non-null  int64  \n",
      " 62  iparcel Select Customer                                    10000 non-null  object \n",
      " 63  Prod_1_Rev_Net_USD                                         10000 non-null  float64\n",
      " 64  Prod_3_Rev_Net_USD                                         10000 non-null  float64\n",
      " 65  Prod_27_Rev_Net_USD                                        10000 non-null  float64\n",
      " 66  Prod_33_Rev_Net_USD                                        10000 non-null  float64\n",
      " 67  Prod_35_Rev_Net_USD                                        10000 non-null  float64\n",
      " 68  Prod_38_Rev_Net_USD                                        10000 non-null  float64\n",
      " 69  Prod_79_Rev_Net_USD                                        10000 non-null  float64\n",
      " 70  Prod_102_Rev_Net_USD                                       10000 non-null  float64\n",
      " 71  Prod_117_Rev_Net_USD                                       10000 non-null  float64\n",
      " 72  Prod_118_Rev_Net_USD                                       10000 non-null  float64\n",
      " 73  Prod_126_Rev_Net_USD                                       10000 non-null  float64\n",
      " 74  Prod_352_Rev_Net_USD                                       10000 non-null  float64\n",
      " 75  Prod_360_Rev_Net_USD                                       10000 non-null  float64\n",
      " 76  Prod_1_Volume_Qty                                          10000 non-null  float64\n",
      " 77  Prod_3_Volume_Qty                                          10000 non-null  float64\n",
      " 78  Prod_27_Volume_Qty                                         10000 non-null  float64\n",
      " 79  Prod_33_Volume_Qty                                         10000 non-null  float64\n",
      " 80  Prod_35_Volume_Qty                                         10000 non-null  float64\n",
      " 81  Prod_38_Volume_Qty                                         10000 non-null  float64\n",
      " 82  Prod_79_Volume_Qty                                         10000 non-null  float64\n",
      " 83  Prod_102_Volume_Qty                                        10000 non-null  float64\n",
      " 84  Prod_117_Volume_Qty                                        10000 non-null  float64\n",
      " 85  Prod_118_Volume_Qty                                        10000 non-null  float64\n",
      " 86  Prod_126_Volume_Qty                                        10000 non-null  float64\n",
      " 87  Prod_352_Volume_Qty                                        10000 non-null  float64\n",
      " 88  Prod_360_Volume_Qty                                        10000 non-null  float64\n",
      " 89  Prod_577_Rev_Net_USD                                       9981 non-null   float64\n",
      " 90  Prod_577_Volume_Qty                                        9981 non-null   float64\n",
      " 91  Id                                                         10000 non-null  object \n",
      "dtypes: float64(43), int64(11), object(38)\n",
      "memory usage: 7.0+ MB\n"
     ]
    }
   ],
   "source": [
    "df.info()"
   ]
  },
  {
   "cell_type": "markdown",
   "metadata": {},
   "source": [
    "* All data from 2019\n",
    "* All account-level data\n",
    "* Window Won = yes or no, did this account sign a contract with UPS in 2019\n",
    "* In general, we should have competitor spend + UPS spend = Customer Spend"
   ]
  },
  {
   "cell_type": "code",
   "execution_count": 6,
   "metadata": {
    "scrolled": true
   },
   "outputs": [
    {
     "name": "stdout",
     "output_type": "stream",
     "text": [
      "1 Unnamed: 0 ---- 10000 [0 1 2 3 4]\n",
      "2 Unnamed: 0.1 ---- 10000 [0 1 2 3 4]\n",
      "3 Accessorial Miscellaneous Customer ---- 2 ['Yes' 'No']\n",
      "4 Average Sales Cycle ---- 567 [0.000e+00 3.000e+00 1.500e+01 1.578e+03 1.000e+00]\n",
      "5 Active Opportunites Count ---- 11 [0. 1. 2. 8. 6.]\n",
      "6 Existing Sales Initiative ---- 2 ['No' 'Yes']\n",
      "7 # Activity in Last 90Days ---- 12 [0 1 2 4 3]\n",
      "8 Annual Revenue ---- 1 [0]\n",
      "9 Billing State/Province ---- 56 ['Texas' 'Arizona' nan 'Arkansas' 'North Carolina']\n",
      "10 Product Commercial Customer ---- 2 ['Yes' 'No']\n",
      "11 DnB Base Year Sales Qty ---- 2625 [       0  2302644  8061618 13445879   750000]\n",
      "12 DnB Bus Num Of Clients ---- 145 [   0  200 2600 2000   40]\n",
      "13 DnB Bus Property Size ---- 471 [    0  8913 24000  7200  4000]\n",
      "14 DnB Bus State Province Name ---- 52 [nan 'ARIZONA' 'ARKANSAS' 'CALIFORNIA' 'NORTH CAROLINA']\n",
      "15 DnB Bus Total Gross Revenue ---- 3443 [ 0.000000e+00 -1.000000e+13  2.127273e+06  8.061618e+06  3.520600e+04]\n",
      "16 DnB Primary NAICS Industry Sub Segment Level2 Description ---- 89 [nan 'Industrial Distributor' 'Automotive Sales & Distribution'\n",
      " 'Wholesale' 'Non-Targeted']\n",
      "17 DnB Primary SIC Industry 4 Description ---- 663 [nan 'Refrigeration equipment and supplies'\n",
      " 'Motor vehicle supplies and new parts'\n",
      " 'Electronic Parts and Equipment, Nec' 'Civic and Social Associations']\n",
      "18 Deferred Air Customer ---- 2 ['Yes' 'No']\n",
      "19 Activity exists in Last 90Days ---- 2 ['No' 'Yes']\n",
      "20 Lost Opps exist in Last 90Days ---- 2 ['No' 'Yes']\n",
      "21 Won Opps exist in Last 90Days ---- 2 ['No' 'Yes']\n",
      "22 Ground CWT Customer ---- 2 ['No' 'Yes']\n",
      "23 Account ID ---- 10000 ['0012A00001wR97TQAS' '0012A00001wR97cQAC' '0012A00001wR97dQAC'\n",
      " '0012A00001wR97qQAC' '0012A00001wR97rQAC']\n",
      "24 Industry ---- 9 ['Industrial Products' 'Apparel and Consumer Goods'\n",
      " 'Diversified Vehicles & Parts' 'High Tech' 'Professional Services']\n",
      "25 Industry Updated ---- 9 ['Industrial Products' 'Apparel and Consumer Goods'\n",
      " 'Diversified Vehicles & Parts' 'High Tech' 'Professional Services']\n",
      "26 Number of Preceding Account Tasks ---- 8 [0 4 1 3 2]\n",
      "27 # Lost Opps in Last 90Days ---- 4 [0 2 1 4]\n",
      "28 Next Day Air Customer ---- 2 ['Yes' 'No']\n",
      "29 Residential Customer ---- 2 ['Yes' 'No']\n",
      "30 Spend Scope ---- 604 [     0. -50400.  17350.    782.   3574.]\n",
      "31 State/Province ---- 56 ['TEXAS' 'ARIZONA' 'ARKANSAS' 'CALIFORNIA' 'NORTH CAROLINA']\n",
      "32 Competitor Non Addressable ---- 14 [    0. 18429. 15000. 28000.  2500.]\n",
      "33 Competitor Spend ---- 225 [0.000000e+00 5.040000e+04 8.148637e+06 1.000000e+04 5.400000e+03]\n",
      "34 Customer Spend ---- 566 [    0 50400 17350   782  3574]\n",
      "35 TCS.UPS_Revenue_Manual__c ---- 469 [    0. 17350.   782.  3574.  2600.]\n",
      "36 US Miscellaneous Competitor Spend ---- 20 ['$0.00' '$6.00' '$50.00' '$10.00' '$500.00']\n",
      "37 US Miscellaneous CustomerSpend ---- 154 ['$0.00' '$739.00' '$1,290.00' '$1,069.00' '$724.00']\n",
      "38 TCS_US_Access.UPS_Revenue_Manual__c ---- 147 [   0.  739. 1290. 1069.  724.]\n",
      "39 US Air Competitor Spend ---- 77 ['$0.00' '$16,650.00' '$188.00' '$101,152.00' '$5,000.00']\n",
      "40 US Air Customer Spend ---- 287 ['$0.00' '$2,875.00' '$43.00' '$550.00' '$23,064.00']\n",
      "41 US Air UPS Revenue ---- 258 ['$0.00' '$2,875.00' '$43.00' '$550.00' '$23,064.00']\n",
      "42 US Ground Competitor Spend ---- 140 ['$0.00' '$50,400.00' '$3,800.00' '$10,000.00' '$5,400.00']\n",
      "43 US Ground Customer Spend ---- 418 ['$0.00' '$50,400.00' '$10,475.00' '$3,024.00' '$2,600.00']\n",
      "44 US Ground UPS Revenue ---- 362 ['$0.00' '$10,475.00' '$3,024.00' '$2,600.00' '$1,600.00']\n",
      "45 International Competitor Spend ---- 71 ['$0.00' '$128,187.00' '$1,500.00' '$15,000.00' '$400.00']\n",
      "46 International Customer Spend ---- 210 ['$0.00' '$4,000.00' '$2,000.00' '$67.00' '$200.00']\n",
      "47 TCS_US_Intl.UPS_Revenue_Manual__c ---- 180 [   0. 4000. 2000.   67.  200.]\n",
      "48 UPS SurePost Customer ---- 2 ['No' 'Yes']\n",
      "49 USPK Competitor Spend ---- 179 [    0. 50400. 20450. 10000.  5400.]\n",
      "50 USPK Customer Spend ---- 501 [0.000e+00 5.040e+04 1.335e+04 4.300e+01 3.574e+03]\n",
      "51 USPK Spend Scope ---- 526 [ 0.000e+00 -5.040e+04  1.335e+04  4.300e+01  3.574e+03]\n",
      "52 USPK UPS Spend ---- 421 [    0. 13350.    43.  3574.  2600.]\n",
      "53 US International IFC Customer ---- 2 ['No' 'Yes']\n",
      "54 VNR.Rev_Net_USD ---- 9753 [14004.99  9742.68  5598.71  2596.49  2272.86]\n",
      "55 VNR.Volume_Qty ---- 1867 [806. 405. 422.  67. 141.]\n",
      "56 WW Economy Customer ---- 1 ['No']\n",
      "57 WW Expedited Transborder Customer ---- 2 ['No' 'Yes']\n",
      "58 WW Express Freight Customer ---- 2 ['No' 'Yes']\n",
      "59 WW Express Freight IFC Customer ---- 2 ['No' 'Yes']\n",
      "60 WW Express Saver Customer ---- 2 ['No' 'Yes']\n",
      "61 Window Won ---- 2 ['No' 'Yes']\n",
      "62 # Won Opps in Last 90Days ---- 4 [0 1 3 2]\n",
      "63 iparcel Select Customer ---- 1 ['No']\n",
      "64 Prod_1_Rev_Net_USD ---- 9344 [17943.93  9925.79  6939.94  1543.22  2471.94]\n",
      "65 Prod_3_Rev_Net_USD ---- 871 [   0.     90.26   84.43 1180.84 1073.02]\n",
      "66 Prod_27_Rev_Net_USD ---- 8725 [1739.45 1421.72 1542.43 1070.25 1208.04]\n",
      "67 Prod_33_Rev_Net_USD ---- 1215 [   0.    176.28 3350.18 1165.7    45.68]\n",
      "68 Prod_35_Rev_Net_USD ---- 7893 [3636.37 1507.2   392.89  283.62  204.85]\n",
      "69 Prod_38_Rev_Net_USD ---- 7340 [1803.94  639.12  195.46   58.15   90.11]\n",
      "70 Prod_79_Rev_Net_USD ---- 1513 [   0.   1036.03  154.94 4884.93  121.9 ]\n",
      "71 Prod_102_Rev_Net_USD ---- 17 [   0.    857.3  3233.01 8938.72 1673.54]\n",
      "72 Prod_117_Rev_Net_USD ---- 142 [0.000000e+00 3.133130e+03 8.665860e+03 1.294488e+04 1.059000e+01]\n",
      "73 Prod_118_Rev_Net_USD ---- 2 [    0.   21022.62]\n",
      "74 Prod_126_Rev_Net_USD ---- 1775 [   0.   1248.04 1113.62   47.84  299.52]\n",
      "75 Prod_352_Rev_Net_USD ---- 7966 [1018.74 1652.73  930.1   130.79  263.69]\n",
      "76 Prod_360_Rev_Net_USD ---- 5 [    0.     930.31  2086.68 11271.92  4444.07]\n",
      "77 Prod_1_Volume_Qty ---- 1675 [1311.  591.  699.   93.  244.]\n",
      "78 Prod_3_Volume_Qty ---- 244 [ 0.  2.  7. 57. 63.]\n",
      "79 Prod_27_Volume_Qty ---- 1 [0.]\n",
      "80 Prod_33_Volume_Qty ---- 91 [ 0.  1.  7. 17.  3.]\n",
      "81 Prod_35_Volume_Qty ---- 1152 [55.  9. 13.  2.  1.]\n",
      "82 Prod_38_Volume_Qty ---- 604 [72.  9.  8.  2. 89.]\n",
      "83 Prod_79_Volume_Qty ---- 135 [ 0.  3.  6. 57.  2.]\n",
      "84 Prod_102_Volume_Qty ---- 6 [0. 1. 3. 5. 2.]\n",
      "85 Prod_117_Volume_Qty ---- 118 [0.00e+00 3.66e+02 8.82e+02 2.08e+03 1.00e+00]\n",
      "86 Prod_118_Volume_Qty ---- 2 [  0. 117.]\n",
      "87 Prod_126_Volume_Qty ---- 116 [ 0. 17. 37.  1.  3.]\n",
      "88 Prod_352_Volume_Qty ---- 925 [62. 73. 60.  7. 18.]\n",
      "89 Prod_360_Volume_Qty ---- 4 [0. 1. 2. 3.]\n",
      "90 Prod_577_Rev_Net_USD ---- 2 [ 0. nan]\n",
      "91 Prod_577_Volume_Qty ---- 2 [ 0. nan]\n",
      "92 Id ---- 10000 ['0012A00001wR97TQAS' '0012A00001wR97cQAC' '0012A00001wR97dQAC'\n",
      " '0012A00001wR97qQAC' '0012A00001wR97rQAC']\n"
     ]
    }
   ],
   "source": [
    "cols = list(df.columns.values)[:]\n",
    "for i,col in enumerate(cols):\n",
    "    print(i+1,col,\"----\",len(df[col].unique()),df[col].unique()[0:5])"
   ]
  },
  {
   "cell_type": "markdown",
   "metadata": {},
   "source": [
    "## EDA"
   ]
  },
  {
   "cell_type": "markdown",
   "metadata": {},
   "source": [
    "<b> Check whether there is duplicated account </b>"
   ]
  },
  {
   "cell_type": "code",
   "execution_count": 7,
   "metadata": {
    "scrolled": true
   },
   "outputs": [
    {
     "data": {
      "text/plain": [
       "False"
      ]
     },
     "execution_count": 7,
     "metadata": {},
     "output_type": "execute_result"
    }
   ],
   "source": [
    "df['Account ID'].duplicated().any()"
   ]
  },
  {
   "cell_type": "markdown",
   "metadata": {},
   "source": [
    "<b> Compare the accounts </b>"
   ]
  },
  {
   "cell_type": "code",
   "execution_count": 8,
   "metadata": {},
   "outputs": [
    {
     "data": {
      "text/plain": [
       "Product Commercial Customer  Residential Customer\n",
       "No                           No                       636\n",
       "                             Yes                       72\n",
       "Yes                          No                      1437\n",
       "                             Yes                     7855\n",
       "dtype: int64"
      ]
     },
     "execution_count": 8,
     "metadata": {},
     "output_type": "execute_result"
    }
   ],
   "source": [
    "df.groupby(['Product Commercial Customer', 'Residential Customer']).size()"
   ]
  },
  {
   "cell_type": "markdown",
   "metadata": {},
   "source": [
    "<i> Should the customers with 2x No be dropped? No ,these products are not really for sale because we cannot force the customer to ship residential only or otherwise. </i> "
   ]
  },
  {
   "cell_type": "markdown",
   "metadata": {},
   "source": [
    "<b> Check the differences between 'DnB Bus State Province Name', 'State/Province' </b>"
   ]
  },
  {
   "cell_type": "code",
   "execution_count": 9,
   "metadata": {},
   "outputs": [],
   "source": [
    "# Check on same account, and for all data point\n",
    "# How many missing data in each one\n",
    "# Pick the most reliable, and fill in the null with second reliable"
   ]
  },
  {
   "cell_type": "code",
   "execution_count": 10,
   "metadata": {},
   "outputs": [
    {
     "data": {
      "text/html": [
       "<div>\n",
       "<style scoped>\n",
       "    .dataframe tbody tr th:only-of-type {\n",
       "        vertical-align: middle;\n",
       "    }\n",
       "\n",
       "    .dataframe tbody tr th {\n",
       "        vertical-align: top;\n",
       "    }\n",
       "\n",
       "    .dataframe thead th {\n",
       "        text-align: right;\n",
       "    }\n",
       "</style>\n",
       "<table border=\"1\" class=\"dataframe\">\n",
       "  <thead>\n",
       "    <tr style=\"text-align: right;\">\n",
       "      <th></th>\n",
       "      <th>State/Province</th>\n",
       "      <th>Billing State/Province</th>\n",
       "      <th>DnB Bus State Province Name</th>\n",
       "    </tr>\n",
       "  </thead>\n",
       "  <tbody>\n",
       "    <tr>\n",
       "      <th>2</th>\n",
       "      <td>ARIZONA</td>\n",
       "      <td>NaN</td>\n",
       "      <td>ARIZONA</td>\n",
       "    </tr>\n",
       "    <tr>\n",
       "      <th>3</th>\n",
       "      <td>ARIZONA</td>\n",
       "      <td>NaN</td>\n",
       "      <td>ARIZONA</td>\n",
       "    </tr>\n",
       "    <tr>\n",
       "      <th>4</th>\n",
       "      <td>ARIZONA</td>\n",
       "      <td>NaN</td>\n",
       "      <td>ARIZONA</td>\n",
       "    </tr>\n",
       "    <tr>\n",
       "      <th>6</th>\n",
       "      <td>ARIZONA</td>\n",
       "      <td>NaN</td>\n",
       "      <td>ARIZONA</td>\n",
       "    </tr>\n",
       "    <tr>\n",
       "      <th>7</th>\n",
       "      <td>CALIFORNIA</td>\n",
       "      <td>NaN</td>\n",
       "      <td>CALIFORNIA</td>\n",
       "    </tr>\n",
       "    <tr>\n",
       "      <th>...</th>\n",
       "      <td>...</td>\n",
       "      <td>...</td>\n",
       "      <td>...</td>\n",
       "    </tr>\n",
       "    <tr>\n",
       "      <th>7030</th>\n",
       "      <td>NaN</td>\n",
       "      <td>NaN</td>\n",
       "      <td>NaN</td>\n",
       "    </tr>\n",
       "    <tr>\n",
       "      <th>7032</th>\n",
       "      <td>NaN</td>\n",
       "      <td>NaN</td>\n",
       "      <td>NaN</td>\n",
       "    </tr>\n",
       "    <tr>\n",
       "      <th>7033</th>\n",
       "      <td>TEXAS</td>\n",
       "      <td>NaN</td>\n",
       "      <td>TEXAS</td>\n",
       "    </tr>\n",
       "    <tr>\n",
       "      <th>7034</th>\n",
       "      <td>NaN</td>\n",
       "      <td>NaN</td>\n",
       "      <td>NaN</td>\n",
       "    </tr>\n",
       "    <tr>\n",
       "      <th>7039</th>\n",
       "      <td>NEW YORK</td>\n",
       "      <td>NaN</td>\n",
       "      <td>NEW YORK</td>\n",
       "    </tr>\n",
       "  </tbody>\n",
       "</table>\n",
       "<p>3224 rows × 3 columns</p>\n",
       "</div>"
      ],
      "text/plain": [
       "     State/Province Billing State/Province DnB Bus State Province Name\n",
       "2           ARIZONA                    NaN                     ARIZONA\n",
       "3           ARIZONA                    NaN                     ARIZONA\n",
       "4           ARIZONA                    NaN                     ARIZONA\n",
       "6           ARIZONA                    NaN                     ARIZONA\n",
       "7        CALIFORNIA                    NaN                  CALIFORNIA\n",
       "...             ...                    ...                         ...\n",
       "7030            NaN                    NaN                         NaN\n",
       "7032            NaN                    NaN                         NaN\n",
       "7033          TEXAS                    NaN                       TEXAS\n",
       "7034            NaN                    NaN                         NaN\n",
       "7039       NEW YORK                    NaN                    NEW YORK\n",
       "\n",
       "[3224 rows x 3 columns]"
      ]
     },
     "execution_count": 10,
     "metadata": {},
     "output_type": "execute_result"
    }
   ],
   "source": [
    "df[['State/Province', 'Billing State/Province', 'DnB Bus State Province Name']].loc[df['State/Province'].str.lower() != df['Billing State/Province'].str.lower()]"
   ]
  },
  {
   "cell_type": "markdown",
   "metadata": {},
   "source": [
    "<b> Check the differences between 'NAICS', 'SIC' </b>"
   ]
  },
  {
   "cell_type": "code",
   "execution_count": 11,
   "metadata": {},
   "outputs": [],
   "source": [
    "l11 = df['DnB Primary NAICS Industry Sub Segment Level2 Description'].str.lower().unique().tolist()\n",
    "l12 = df['DnB Primary SIC Industry 4 Description'].str.lower().unique().tolist()"
   ]
  },
  {
   "cell_type": "code",
   "execution_count": 12,
   "metadata": {},
   "outputs": [
    {
     "data": {
      "text/plain": [
       "89"
      ]
     },
     "execution_count": 12,
     "metadata": {},
     "output_type": "execute_result"
    }
   ],
   "source": [
    "len(l11)"
   ]
  },
  {
   "cell_type": "code",
   "execution_count": 13,
   "metadata": {
    "scrolled": true
   },
   "outputs": [
    {
     "data": {
      "text/plain": [
       "663"
      ]
     },
     "execution_count": 13,
     "metadata": {},
     "output_type": "execute_result"
    }
   ],
   "source": [
    "len(l12)"
   ]
  },
  {
   "cell_type": "code",
   "execution_count": 14,
   "metadata": {
    "scrolled": true
   },
   "outputs": [
    {
     "name": "stdout",
     "output_type": "stream",
     "text": [
      "['industrial distributor', 'automotive sales & distribution', 'wholesale', 'non-targeted', 'fabricated materials', 'regulated', 'miscellaneous', 'general', 'general merchandise stores', 'insurance carriers', 'engineering, architecture, & research', 'animal health', 'other services', 'telecom and broadcasting services', 'apparel retailers', 'banking and credit unions', 'healthcare providers excluding some', 'furnishings', 'chemicals', 'dealerships', 'fulfillment', 'eating and drinking', 'specialty retail', 'raw materials manufacturing', 'management, scientific, & tech consulting', 'construction', 'hotels and lodging', 'real estate', 'high tech stores', 'medical device & supplies general', 'printing', 'automotive related services', 'specialty schools', 'industrial assemblies and machinery', 'clinical trials', 'food', 'higher education', 'tier 1 - 5 parts manufacturing', 'data and systems services', 'manufacturing', 'oil and gas', 'building materials and hardware', 'tourism', 'pharma', 'apparel manufacturers', 'nutraceutical', 'labs dental', 'bldg materials, hardware, & garden supply stores', 'computers and peripherals', 'administration of public programs', 'aerospace industry', 'accounting, bookkeeping, & payroll', 'direct to consumer retailers', 'packaged software', 'industrial textile', 'k-12 schools', 'custom programming', 'implantable medical device', 'home health & care facilities', 'financial planning/investment advice', 'components', 'direct mail advertising', 'optical', 'utilities', 'publishing', 'staffing services', 'appliances', 'industrial components', 'exec, legislative & local government', 'justice, public order and safety', 'securities brokers', 'labs', 'payors & service providers', 'misc. industrial manufacturing & distribution', 'telecom and broadcasting manufacturing', 'semiconductors', 'finished vehicle manufacturers', 'training', 'passenger transportation', 'public relations agencies', 'tradeshow', 'bio pharma', 'performing arts and spectator sports', 'in-vitro diagnostics (ivd)']\n"
     ]
    }
   ],
   "source": [
    "r1 = [x for x in l11 + l12 if x not in l12]\n",
    "print(r1)"
   ]
  },
  {
   "cell_type": "markdown",
   "metadata": {},
   "source": [
    "<i> Too many categories in SIC Industry 4 (i.e. beet sugar vs sugarcane and sugar beets) </i>"
   ]
  },
  {
   "cell_type": "markdown",
   "metadata": {},
   "source": [
    "<b> Check the differences between 'Industry', 'Industry Updated' </b>"
   ]
  },
  {
   "cell_type": "code",
   "execution_count": 15,
   "metadata": {},
   "outputs": [],
   "source": [
    "l21 = df['Industry'].str.lower().unique().tolist()\n",
    "l22 = df['Industry Updated'].str.lower().unique().tolist()"
   ]
  },
  {
   "cell_type": "code",
   "execution_count": 16,
   "metadata": {},
   "outputs": [
    {
     "name": "stdout",
     "output_type": "stream",
     "text": [
      "['industrial products', 'apparel and consumer goods', 'diversified vehicles & parts', 'high tech', 'professional services', 'government', 'healthcare', 'other', 'not available']\n"
     ]
    }
   ],
   "source": [
    "print(l21)"
   ]
  },
  {
   "cell_type": "code",
   "execution_count": 17,
   "metadata": {},
   "outputs": [
    {
     "name": "stdout",
     "output_type": "stream",
     "text": [
      "['industrial products', 'apparel and consumer goods', 'diversified vehicles & parts', 'high tech', 'professional services', 'government', 'healthcare', 'other', 'miscellaneous']\n"
     ]
    }
   ],
   "source": [
    "print(l22)"
   ]
  },
  {
   "cell_type": "code",
   "execution_count": 18,
   "metadata": {},
   "outputs": [
    {
     "name": "stdout",
     "output_type": "stream",
     "text": [
      "['not available', 'miscellaneous']\n"
     ]
    }
   ],
   "source": [
    "r2 = [x for x in l21 + l22 if x not in l21 or x not in l22]\n",
    "print(r2)"
   ]
  },
  {
   "cell_type": "markdown",
   "metadata": {},
   "source": [
    "<i> Nothing major here, but it can be seen that 'DnB Primary NAICS Industry Sub Segment Level2 Description' is good enough </i>\n",
    "\n",
    "Combine Other and not available. Use One-hot for feature engineering (If not using NAICS)"
   ]
  },
  {
   "cell_type": "markdown",
   "metadata": {},
   "source": [
    "<b> Check for missing values </b>"
   ]
  },
  {
   "cell_type": "code",
   "execution_count": 19,
   "metadata": {},
   "outputs": [
    {
     "data": {
      "text/html": [
       "<div>\n",
       "<style scoped>\n",
       "    .dataframe tbody tr th:only-of-type {\n",
       "        vertical-align: middle;\n",
       "    }\n",
       "\n",
       "    .dataframe tbody tr th {\n",
       "        vertical-align: top;\n",
       "    }\n",
       "\n",
       "    .dataframe thead th {\n",
       "        text-align: right;\n",
       "    }\n",
       "</style>\n",
       "<table border=\"1\" class=\"dataframe\">\n",
       "  <thead>\n",
       "    <tr style=\"text-align: right;\">\n",
       "      <th></th>\n",
       "      <th>column name</th>\n",
       "      <th>missing%</th>\n",
       "    </tr>\n",
       "  </thead>\n",
       "  <tbody>\n",
       "    <tr>\n",
       "      <th>0</th>\n",
       "      <td>DnB Bus State Province Name</td>\n",
       "      <td>40.15</td>\n",
       "    </tr>\n",
       "    <tr>\n",
       "      <th>1</th>\n",
       "      <td>DnB Primary NAICS Industry Sub Segment Level2 ...</td>\n",
       "      <td>40.15</td>\n",
       "    </tr>\n",
       "    <tr>\n",
       "      <th>2</th>\n",
       "      <td>DnB Primary SIC Industry 4 Description</td>\n",
       "      <td>40.15</td>\n",
       "    </tr>\n",
       "    <tr>\n",
       "      <th>3</th>\n",
       "      <td>Billing State/Province</td>\n",
       "      <td>32.24</td>\n",
       "    </tr>\n",
       "    <tr>\n",
       "      <th>4</th>\n",
       "      <td>State/Province</td>\n",
       "      <td>12.32</td>\n",
       "    </tr>\n",
       "    <tr>\n",
       "      <th>5</th>\n",
       "      <td>Prod_577_Volume_Qty</td>\n",
       "      <td>0.19</td>\n",
       "    </tr>\n",
       "    <tr>\n",
       "      <th>6</th>\n",
       "      <td>Prod_577_Rev_Net_USD</td>\n",
       "      <td>0.19</td>\n",
       "    </tr>\n",
       "  </tbody>\n",
       "</table>\n",
       "</div>"
      ],
      "text/plain": [
       "                                         column name  missing%\n",
       "0                        DnB Bus State Province Name     40.15\n",
       "1  DnB Primary NAICS Industry Sub Segment Level2 ...     40.15\n",
       "2             DnB Primary SIC Industry 4 Description     40.15\n",
       "3                             Billing State/Province     32.24\n",
       "4                                     State/Province     12.32\n",
       "5                                Prod_577_Volume_Qty      0.19\n",
       "6                               Prod_577_Rev_Net_USD      0.19"
      ]
     },
     "metadata": {},
     "output_type": "display_data"
    }
   ],
   "source": [
    "percent_missing = df.isnull().sum() * 100 / len(df)\n",
    "missing_value_df = pd.DataFrame({\"column name\": df.columns, \"missing%\": percent_missing}).reset_index(drop=True)\n",
    "missing_value_df.sort_values(\"missing%\", inplace=True, ascending=False)\n",
    "# display the missing percentage\n",
    "missing_value_df = missing_value_df[missing_value_df['missing%']>0].reset_index(drop=True)\n",
    "display(missing_value_df)"
   ]
  },
  {
   "cell_type": "markdown",
   "metadata": {},
   "source": [
    "<i> Will select NAICS column && separate State and Country into 2 columns </i> +\n",
    "\n",
    "Most reliable State/Province"
   ]
  },
  {
   "cell_type": "markdown",
   "metadata": {},
   "source": [
    "<b> Check for Yes/No Ratio per product </b>"
   ]
  },
  {
   "cell_type": "markdown",
   "metadata": {},
   "source": [
    "<span> List of Product (Unsure its category)\n",
    "\n",
    "<ul>\n",
    "    <li>Ground CWT  </li>\n",
    "    <li>Deferred Air  </li>\n",
    "    <li>Next Day Air  </li>\n",
    "    <li>iparcel Select  </li>\n",
    "    <li>US International IFC  </li>\n",
    "</ul> \n",
    "<ul>    \n",
    "    <li>WW Economy  </li>\n",
    "    <li>WW Expedited Transborder  </li>\n",
    "    <li>WW Express Freight  </li>\n",
    "    <li>WW Express Freight IFC  </li>\n",
    "    <li>WW Express Saver  </li>\n",
    "</ul>      \n",
    "</span>"
   ]
  },
  {
   "cell_type": "code",
   "execution_count": 20,
   "metadata": {},
   "outputs": [],
   "source": [
    "df2 = df[['Deferred Air Customer'\n",
    "          ,'Ground CWT Customer'\n",
    "          ,'Next Day Air Customer'\n",
    "          ,'UPS SurePost Customer'\n",
    "          ,'US International IFC Customer'\n",
    "          ,'WW Economy Customer'\n",
    "          ,'WW Expedited Transborder Customer'\n",
    "          ,'WW Express Freight Customer'\n",
    "          ,'WW Express Freight IFC Customer'\n",
    "          ,'WW Express Saver Customer'\n",
    "          ,'iparcel Select Customer'\n",
    "          ,'Window Won']]"
   ]
  },
  {
   "cell_type": "code",
   "execution_count": 21,
   "metadata": {
    "scrolled": false
   },
   "outputs": [
    {
     "data": {
      "image/png": "[encoded data removed]",
      "text/plain": [
       "<Figure size 1440x2160 with 12 Axes>"
      ]
     },
     "metadata": {
      "needs_background": "light"
     },
     "output_type": "display_data"
    }
   ],
   "source": [
    "fig, axes = plt.subplots(4,3,sharex=False,sharey=False,figsize=(20,30))\n",
    "counter=0\n",
    "for cat_col in df2:\n",
    "    if cat_col in df2.columns.values:\n",
    "        value_counts = df[cat_col].value_counts()\n",
    "        trace_x = counter // 3\n",
    "        trace_y = counter % 3\n",
    "        x_pos = np.arange(0, len(value_counts))\n",
    "        axes[trace_x, trace_y].bar(x_pos, value_counts.values, tick_label=value_counts.index, color=\"MediumAquaMarine\", width=0.6)\n",
    "        axes[trace_x, trace_y].set_title(cat_col)\n",
    "        for tick in axes[trace_x, trace_y].get_xticklabels():\n",
    "            tick.set_rotation(90)\n",
    "        counter += 1\n",
    "plt.show()"
   ]
  },
  {
   "cell_type": "markdown",
   "metadata": {},
   "source": [
    "<li><i> Most customers have deferred air and next day air </i>\n",
    "<li><i> Most customers do not have iparcel select, WW Express Freight (and IFC), WW Economy </i>\n"
   ]
  },
  {
   "cell_type": "markdown",
   "metadata": {},
   "source": [
    "Average Sale Cycle (Set to 60), Total Gross Revenue, VNR.Volume_Qty, UPS Spend (Set to 0) "
   ]
  },
  {
   "cell_type": "markdown",
   "metadata": {},
   "source": [
    "<b> Each Product versus Window Won </b>"
   ]
  },
  {
   "cell_type": "code",
   "execution_count": 22,
   "metadata": {
    "scrolled": true
   },
   "outputs": [
    {
     "data": {
      "image/png": "[encoded data removed]",
      "text/plain": [
       "<Figure size 432x288 with 1 Axes>"
      ]
     },
     "metadata": {
      "needs_background": "light"
     },
     "output_type": "display_data"
    },
    {
     "data": {
      "image/png": "[encoded data removed]",
      "text/plain": [
       "<Figure size 432x288 with 1 Axes>"
      ]
     },
     "metadata": {
      "needs_background": "light"
     },
     "output_type": "display_data"
    },
    {
     "data": {
      "image/png": "[encoded data removed]",
      "text/plain": [
       "<Figure size 432x288 with 1 Axes>"
      ]
     },
     "metadata": {
      "needs_background": "light"
     },
     "output_type": "display_data"
    },
    {
     "data": {
      "image/png": "[encoded data removed]",
      "text/plain": [
       "<Figure size 432x288 with 1 Axes>"
      ]
     },
     "metadata": {
      "needs_background": "light"
     },
     "output_type": "display_data"
    },
    {
     "data": {
      "image/png": "[encoded data removed]",
      "text/plain": [
       "<Figure size 432x288 with 1 Axes>"
      ]
     },
     "metadata": {
      "needs_background": "light"
     },
     "output_type": "display_data"
    },
    {
     "data": {
      "image/png": "[encoded data removed]",
      "text/plain": [
       "<Figure size 432x288 with 1 Axes>"
      ]
     },
     "metadata": {
      "needs_background": "light"
     },
     "output_type": "display_data"
    },
    {
     "data": {
      "image/png": "[encoded data removed]",
      "text/plain": [
       "<Figure size 432x288 with 1 Axes>"
      ]
     },
     "metadata": {
      "needs_background": "light"
     },
     "output_type": "display_data"
    },
    {
     "data": {
      "image/png": "[encoded data removed]",
      "text/plain": [
       "<Figure size 432x288 with 1 Axes>"
      ]
     },
     "metadata": {
      "needs_background": "light"
     },
     "output_type": "display_data"
    },
    {
     "data": {
      "image/png": "[encoded data removed]",
      "text/plain": [
       "<Figure size 432x288 with 1 Axes>"
      ]
     },
     "metadata": {
      "needs_background": "light"
     },
     "output_type": "display_data"
    },
    {
     "data": {
      "image/png": "[encoded data removed]",
      "text/plain": [
       "<Figure size 432x288 with 1 Axes>"
      ]
     },
     "metadata": {
      "needs_background": "light"
     },
     "output_type": "display_data"
    },
    {
     "data": {
      "image/png": "[encoded data removed]",
      "text/plain": [
       "<Figure size 432x288 with 1 Axes>"
      ]
     },
     "metadata": {
      "needs_background": "light"
     },
     "output_type": "display_data"
    }
   ],
   "source": [
    "for col in df2:\n",
    "    if col == \"Window Won\":\n",
    "        pass\n",
    "    else:\n",
    "        c_df = pd.DataFrame()\n",
    "        c_df[\"Window Won -- Yes\"] = df2[df2[\"Window Won\"] == \"Yes\"][col].value_counts()\n",
    "        c_df[\"Window Won -- No\"] = df2[df2[\"Window Won\"] == \"No\"][col].value_counts()\n",
    "        fig = c_df.plot.bar(title=col,logy=False,colormap='Set1')\n",
    "        fig.set_ylabel(\"Counts\")\n",
    "        "
   ]
  },
  {
   "cell_type": "markdown",
   "metadata": {},
   "source": [
    "Window Won in Yes - Does that mean the salesperson ask the customer for the same product again?"
   ]
  },
  {
   "cell_type": "markdown",
   "metadata": {},
   "source": [
    "<b> Check for correlation with new df</b>"
   ]
  },
  {
   "cell_type": "code",
   "execution_count": 23,
   "metadata": {},
   "outputs": [
    {
     "data": {
      "image/png": "[encoded data removed]",
      "text/plain": [
       "<Figure size 1008x720 with 2 Axes>"
      ]
     },
     "metadata": {
      "needs_background": "light"
     },
     "output_type": "display_data"
    }
   ],
   "source": [
    "fig, ax = plt.subplots()\n",
    "fig.set_size_inches(14, 10)\n",
    "\n",
    "subjective_corr = df.corr()\n",
    "mask = np.zeros_like(subjective_corr, dtype=np.bool)\n",
    "mask[np.triu_indices_from(mask)] = True\n",
    "subjective_corr[np.abs(subjective_corr)<.2] = 0\n",
    "\n",
    "sns.heatmap(subjective_corr,\n",
    "            vmin = -1,\n",
    "            cmap = 'coolwarm',\n",
    "            annot = True,\n",
    "            mask = mask);"
   ]
  },
  {
   "cell_type": "markdown",
   "metadata": {},
   "source": [
    "# Clean Data & Feature Selection"
   ]
  },
  {
   "cell_type": "markdown",
   "metadata": {},
   "source": [
    "<b> Replace Null value in State/Province </b>"
   ]
  },
  {
   "cell_type": "code",
   "execution_count": 24,
   "metadata": {},
   "outputs": [],
   "source": [
    "# Replace NaN in State/Province\n",
    "# Either with DnB Bus State Province Name or Billing State/Province \n",
    "# Or set as \"Unknown\""
   ]
  },
  {
   "cell_type": "code",
   "execution_count": 25,
   "metadata": {},
   "outputs": [],
   "source": [
    "# There was a NoneType conflict result from NaN so I changed to String value called NA\n",
    "df.fillna({'State/Province' : 'NA',\n",
    "           'DnB Bus State Province Name': 'NA',\n",
    "           'Billing State/Province': 'NA'}, inplace=True)"
   ]
  },
  {
   "cell_type": "code",
   "execution_count": 26,
   "metadata": {},
   "outputs": [
    {
     "data": {
      "text/html": [
       "<div>\n",
       "<style scoped>\n",
       "    .dataframe tbody tr th:only-of-type {\n",
       "        vertical-align: middle;\n",
       "    }\n",
       "\n",
       "    .dataframe tbody tr th {\n",
       "        vertical-align: top;\n",
       "    }\n",
       "\n",
       "    .dataframe thead th {\n",
       "        text-align: right;\n",
       "    }\n",
       "</style>\n",
       "<table border=\"1\" class=\"dataframe\">\n",
       "  <thead>\n",
       "    <tr style=\"text-align: right;\">\n",
       "      <th></th>\n",
       "      <th>State/Province</th>\n",
       "      <th>DnB Bus State Province Name</th>\n",
       "      <th>Billing State/Province</th>\n",
       "    </tr>\n",
       "  </thead>\n",
       "  <tbody>\n",
       "    <tr>\n",
       "      <th>0</th>\n",
       "      <td>TEXAS</td>\n",
       "      <td>NA</td>\n",
       "      <td>Texas</td>\n",
       "    </tr>\n",
       "    <tr>\n",
       "      <th>1</th>\n",
       "      <td>ARIZONA</td>\n",
       "      <td>NA</td>\n",
       "      <td>Arizona</td>\n",
       "    </tr>\n",
       "    <tr>\n",
       "      <th>2</th>\n",
       "      <td>ARIZONA</td>\n",
       "      <td>ARIZONA</td>\n",
       "      <td>NA</td>\n",
       "    </tr>\n",
       "    <tr>\n",
       "      <th>3</th>\n",
       "      <td>ARIZONA</td>\n",
       "      <td>ARIZONA</td>\n",
       "      <td>NA</td>\n",
       "    </tr>\n",
       "    <tr>\n",
       "      <th>4</th>\n",
       "      <td>ARIZONA</td>\n",
       "      <td>ARIZONA</td>\n",
       "      <td>NA</td>\n",
       "    </tr>\n",
       "  </tbody>\n",
       "</table>\n",
       "</div>"
      ],
      "text/plain": [
       "  State/Province DnB Bus State Province Name Billing State/Province\n",
       "0          TEXAS                          NA                  Texas\n",
       "1        ARIZONA                          NA                Arizona\n",
       "2        ARIZONA                     ARIZONA                     NA\n",
       "3        ARIZONA                     ARIZONA                     NA\n",
       "4        ARIZONA                     ARIZONA                     NA"
      ]
     },
     "execution_count": 26,
     "metadata": {},
     "output_type": "execute_result"
    }
   ],
   "source": [
    "df[['State/Province','DnB Bus State Province Name','Billing State/Province']].head()"
   ]
  },
  {
   "cell_type": "code",
   "execution_count": 27,
   "metadata": {},
   "outputs": [],
   "source": [
    "df['State/Province'] = np.where(df['State/Province'] == 'NA',                   # If Col1 contains NA value\n",
    "                          np.where(df['DnB Bus State Province Name'] == 'NA',   # Replace with Col2 but if Col2 contains NA value\n",
    "                                   df['Billing State/Province'],                # Replace Col2 with Col3\n",
    "                                   df['DnB Bus State Province Name']),          # Else keep value of Col2 and replace for Col1\n",
    "                                   df['State/Province'])                        # It will not change if the value is not NA at that row"
   ]
  },
  {
   "cell_type": "code",
   "execution_count": 28,
   "metadata": {},
   "outputs": [],
   "source": [
    "# The left over NA will be assigned as \"Unknown\"\n",
    "df['State/Province'] = np.where(df['State/Province'] == 'NA', 'UNKNOWN', df['State/Province'])"
   ]
  },
  {
   "cell_type": "code",
   "execution_count": 29,
   "metadata": {},
   "outputs": [],
   "source": [
    "# Convert to all uppercases\n",
    "df['State/Province'] = df['State/Province'].str.lower() "
   ]
  },
  {
   "cell_type": "code",
   "execution_count": 30,
   "metadata": {
    "scrolled": true
   },
   "outputs": [
    {
     "data": {
      "text/plain": [
       "0"
      ]
     },
     "execution_count": 30,
     "metadata": {},
     "output_type": "execute_result"
    }
   ],
   "source": [
    "# Make sure all rows are filled \n",
    "sum(df['State/Province'] == 'NA')"
   ]
  },
  {
   "cell_type": "code",
   "execution_count": 31,
   "metadata": {},
   "outputs": [
    {
     "data": {
      "text/plain": [
       "9990        california\n",
       "9991             texas\n",
       "9992             texas\n",
       "9993          delaware\n",
       "9994    north carolina\n",
       "9995    north carolina\n",
       "9996    north carolina\n",
       "9997          maryland\n",
       "9998        washington\n",
       "9999         minnesota\n",
       "Name: State/Province, dtype: object"
      ]
     },
     "execution_count": 31,
     "metadata": {},
     "output_type": "execute_result"
    }
   ],
   "source": [
    "df['State/Province'].tail(10)"
   ]
  },
  {
   "cell_type": "code",
   "execution_count": 32,
   "metadata": {},
   "outputs": [
    {
     "name": "stdout",
     "output_type": "stream",
     "text": [
      "Number of accounts: 10000\n",
      "Number of Uknown: 0\n",
      "The difference: 10000\n"
     ]
    }
   ],
   "source": [
    "# How many accounts with Unknown location?\n",
    "print (\"Number of accounts:\", df.shape[0])\n",
    "\n",
    "print (\"Number of Uknown:\", sum(df['State/Province'] == 'UNKNOWN'))\n",
    "\n",
    "print (\"The difference:\", (df.shape[0] - sum(df['State/Province'] == 'UNKNOWN')))"
   ]
  },
  {
   "cell_type": "markdown",
   "metadata": {},
   "source": [
    "<b> Drop the features </b>"
   ]
  },
  {
   "cell_type": "code",
   "execution_count": 33,
   "metadata": {},
   "outputs": [],
   "source": [
    "whole_df = df.drop([ 'Unnamed: 0' ,                                 # Just an index\n",
    "                     'Id',                                          # Will join this id back later\n",
    "                     'Account ID',                                  # or this\n",
    "                     'Accessorial Miscellaneous Customer',          # This is not something we can recommend to customers\n",
    "                     'Residential Customer',                        # We cannot decide whether customers should ship residential products\n",
    "                     'Product Commercial Customer',                 # We cannot decide whether customers should ship commercial products\n",
    "                     'Billing State/Province',                      # Combined with State/Province column \n",
    "                     'DnB Bus State Province Name',                 # Combined with State/Province column\n",
    "                     'DnB Primary SIC Industry 4 Description',      # Decided to use NAICS over SIC for industry code\n",
    "                     'Industry',                                    # Decided to use NAICS\n",
    "                     'Industry Updated',                            # Decided to use NAICS\n",
    "                     'Spend Scope',                                 # Decided to use DnB Bus Total Gross Revenue\n",
    "                     'Annual Revenue',                              # Decided to use DnB Bus Total Gross Revenue\n",
    "                     'DnB Bus Property Size',                       # Not sure if it has enough data to check the similarity at the account-level\n",
    "                    \n",
    "                     'TCS.UPS_Revenue_Manual__c',                   # Not sure what it is but it is manually inputted\n",
    "                     'TCS_US_Access.UPS_Revenue_Manual__c',         # Not sure what it is but it is manually inputted\n",
    "                     'TCS_US_Intl.UPS_Revenue_Manual__c',           # Not sure what it is but it is manually inputted\n",
    "                     \n",
    "                     'Average Sales Cycle',                         # Does not have influence in recommendation\n",
    "                     'Active Opportunites Count',                   # Does not have influence in recommendation\n",
    "                     'Existing Sales Initiative',                   # Does not have influence in recommendation\n",
    "                     '# Activity in Last 90Days',                   # Does not have influence in recommendation\n",
    "                     'Activity exists in Last 90Days',              # Does not have influence in recommendation\n",
    "                     'Lost Opps exist in Last 90Days',              # Does not have influence in recommendation\n",
    "                     'Won Opps exist in Last 90Days',               # Does not have influence in recommendation\n",
    "                     'Number of Preceding Account Tasks',           # Does not have influence in recommendation\n",
    "                     '# Lost Opps in Last 90Days',                  # Does not have influence in recommendation\n",
    "                     '# Won Opps in Last 90Days',                   # Does not have influence in recommendation\n",
    "                    \n",
    "                     'USPK Spend Scope',                            # Use VnR data instead\n",
    "                     'USPK UPS Spend',                              # Use VnR data instead\n",
    "                     'USPK Customer Spend',                         # Use VnR data instead\n",
    "                     'US Air Customer Spend',                       # Use VnR data instead\n",
    "                     'US Ground Customer Spend',                    # Use VnR data instead\n",
    "                     'International Customer Spend',                # Use VnR data instead\n",
    "                     'US Miscellaneous CustomerSpend',              # Use VnR data instead\n",
    "                     'VNR.Rev_Net_USD',                             # Use VnR data instead\n",
    "                     'VNR.Volume_Qty',                              # Use VnR data instead\n",
    "                     'US Air UPS Revenue',                          # Use VnR data instead\n",
    "                     'US Ground UPS Revenue',                       # Use VnR data instead\n",
    "                    \n",
    "                     'US Miscellaneous Competitor Spend',           # This product is not part of the recommender\n",
    "                     'Competitor Non Addressable',                  # Does not influence the model\n",
    "            \n",
    "                     \n",
    "                     'Deferred Air Customer',                       # Will use spending instead of binary values\n",
    "                     'Ground CWT Customer',                         # Will use spending instead of binary values\n",
    "                     'Next Day Air Customer',                       # Will use spending instead of binary values\n",
    "                     'UPS SurePost Customer',                       # Will use spending instead of binary values\n",
    "                     'US International IFC Customer',               # Will use spending instead of binary values\n",
    "                     'WW Economy Customer',                         # Will use spending instead of binary values\n",
    "                     'WW Expedited Transborder Customer',           # Will use spending instead of binary values\n",
    "                     'WW Express Freight Customer',                 # Will use spending instead of binary values\n",
    "                     'WW Express Freight IFC Customer',             # Will use spending instead of binary values\n",
    "                     'WW Express Saver Customer',                   # Will use spending instead of binary values\n",
    "                     'iparcel Select Customer',                     # Will use spending instead of binary values\n",
    "                     'Window Won'                                   # Target of PTW PTB model. Not recommender\n",
    "                   ], axis=1)"
   ]
  },
  {
   "cell_type": "code",
   "execution_count": 34,
   "metadata": {
    "scrolled": true
   },
   "outputs": [
    {
     "data": {
      "text/html": [
       "<div>\n",
       "<style scoped>\n",
       "    .dataframe tbody tr th:only-of-type {\n",
       "        vertical-align: middle;\n",
       "    }\n",
       "\n",
       "    .dataframe tbody tr th {\n",
       "        vertical-align: top;\n",
       "    }\n",
       "\n",
       "    .dataframe thead th {\n",
       "        text-align: right;\n",
       "    }\n",
       "</style>\n",
       "<table border=\"1\" class=\"dataframe\">\n",
       "  <thead>\n",
       "    <tr style=\"text-align: right;\">\n",
       "      <th></th>\n",
       "      <th>Unnamed: 0.1</th>\n",
       "      <th>DnB Base Year Sales Qty</th>\n",
       "      <th>DnB Bus Num Of Clients</th>\n",
       "      <th>DnB Bus Total Gross Revenue</th>\n",
       "      <th>DnB Primary NAICS Industry Sub Segment Level2 Description</th>\n",
       "      <th>State/Province</th>\n",
       "      <th>Competitor Spend</th>\n",
       "      <th>Customer Spend</th>\n",
       "      <th>US Air Competitor Spend</th>\n",
       "      <th>US Ground Competitor Spend</th>\n",
       "      <th>International Competitor Spend</th>\n",
       "      <th>USPK Competitor Spend</th>\n",
       "      <th>Prod_1_Rev_Net_USD</th>\n",
       "      <th>Prod_3_Rev_Net_USD</th>\n",
       "      <th>Prod_27_Rev_Net_USD</th>\n",
       "      <th>Prod_33_Rev_Net_USD</th>\n",
       "      <th>Prod_35_Rev_Net_USD</th>\n",
       "      <th>Prod_38_Rev_Net_USD</th>\n",
       "      <th>Prod_79_Rev_Net_USD</th>\n",
       "      <th>Prod_102_Rev_Net_USD</th>\n",
       "      <th>Prod_117_Rev_Net_USD</th>\n",
       "      <th>Prod_118_Rev_Net_USD</th>\n",
       "      <th>Prod_126_Rev_Net_USD</th>\n",
       "      <th>Prod_352_Rev_Net_USD</th>\n",
       "      <th>Prod_360_Rev_Net_USD</th>\n",
       "      <th>Prod_1_Volume_Qty</th>\n",
       "      <th>Prod_3_Volume_Qty</th>\n",
       "      <th>Prod_27_Volume_Qty</th>\n",
       "      <th>Prod_33_Volume_Qty</th>\n",
       "      <th>Prod_35_Volume_Qty</th>\n",
       "      <th>Prod_38_Volume_Qty</th>\n",
       "      <th>Prod_79_Volume_Qty</th>\n",
       "      <th>Prod_102_Volume_Qty</th>\n",
       "      <th>Prod_117_Volume_Qty</th>\n",
       "      <th>Prod_118_Volume_Qty</th>\n",
       "      <th>Prod_126_Volume_Qty</th>\n",
       "      <th>Prod_352_Volume_Qty</th>\n",
       "      <th>Prod_360_Volume_Qty</th>\n",
       "      <th>Prod_577_Rev_Net_USD</th>\n",
       "      <th>Prod_577_Volume_Qty</th>\n",
       "    </tr>\n",
       "  </thead>\n",
       "  <tbody>\n",
       "    <tr>\n",
       "      <th>0</th>\n",
       "      <td>0</td>\n",
       "      <td>0</td>\n",
       "      <td>0</td>\n",
       "      <td>0.00</td>\n",
       "      <td>NaN</td>\n",
       "      <td>texas</td>\n",
       "      <td>0.00</td>\n",
       "      <td>0</td>\n",
       "      <td>$0.00</td>\n",
       "      <td>$0.00</td>\n",
       "      <td>$0.00</td>\n",
       "      <td>0.00</td>\n",
       "      <td>17943.93</td>\n",
       "      <td>0.00</td>\n",
       "      <td>1739.45</td>\n",
       "      <td>0.00</td>\n",
       "      <td>3636.37</td>\n",
       "      <td>1803.94</td>\n",
       "      <td>0.00</td>\n",
       "      <td>0.00</td>\n",
       "      <td>0.00</td>\n",
       "      <td>0.00</td>\n",
       "      <td>0.00</td>\n",
       "      <td>1018.74</td>\n",
       "      <td>0.00</td>\n",
       "      <td>1311.00</td>\n",
       "      <td>0.00</td>\n",
       "      <td>0.00</td>\n",
       "      <td>0.00</td>\n",
       "      <td>55.00</td>\n",
       "      <td>72.00</td>\n",
       "      <td>0.00</td>\n",
       "      <td>0.00</td>\n",
       "      <td>0.00</td>\n",
       "      <td>0.00</td>\n",
       "      <td>0.00</td>\n",
       "      <td>62.00</td>\n",
       "      <td>0.00</td>\n",
       "      <td>0.00</td>\n",
       "      <td>0.00</td>\n",
       "    </tr>\n",
       "    <tr>\n",
       "      <th>1</th>\n",
       "      <td>1</td>\n",
       "      <td>0</td>\n",
       "      <td>0</td>\n",
       "      <td>0.00</td>\n",
       "      <td>NaN</td>\n",
       "      <td>arizona</td>\n",
       "      <td>0.00</td>\n",
       "      <td>0</td>\n",
       "      <td>$0.00</td>\n",
       "      <td>$0.00</td>\n",
       "      <td>$0.00</td>\n",
       "      <td>0.00</td>\n",
       "      <td>9925.79</td>\n",
       "      <td>0.00</td>\n",
       "      <td>1421.72</td>\n",
       "      <td>0.00</td>\n",
       "      <td>1507.20</td>\n",
       "      <td>639.12</td>\n",
       "      <td>0.00</td>\n",
       "      <td>0.00</td>\n",
       "      <td>0.00</td>\n",
       "      <td>0.00</td>\n",
       "      <td>0.00</td>\n",
       "      <td>1652.73</td>\n",
       "      <td>0.00</td>\n",
       "      <td>591.00</td>\n",
       "      <td>0.00</td>\n",
       "      <td>0.00</td>\n",
       "      <td>0.00</td>\n",
       "      <td>9.00</td>\n",
       "      <td>9.00</td>\n",
       "      <td>0.00</td>\n",
       "      <td>0.00</td>\n",
       "      <td>0.00</td>\n",
       "      <td>0.00</td>\n",
       "      <td>0.00</td>\n",
       "      <td>73.00</td>\n",
       "      <td>0.00</td>\n",
       "      <td>0.00</td>\n",
       "      <td>0.00</td>\n",
       "    </tr>\n",
       "    <tr>\n",
       "      <th>2</th>\n",
       "      <td>2</td>\n",
       "      <td>0</td>\n",
       "      <td>0</td>\n",
       "      <td>-9999999999999.99</td>\n",
       "      <td>Industrial Distributor</td>\n",
       "      <td>arizona</td>\n",
       "      <td>0.00</td>\n",
       "      <td>0</td>\n",
       "      <td>$0.00</td>\n",
       "      <td>$0.00</td>\n",
       "      <td>$0.00</td>\n",
       "      <td>0.00</td>\n",
       "      <td>6939.94</td>\n",
       "      <td>0.00</td>\n",
       "      <td>1542.43</td>\n",
       "      <td>0.00</td>\n",
       "      <td>392.89</td>\n",
       "      <td>195.46</td>\n",
       "      <td>0.00</td>\n",
       "      <td>0.00</td>\n",
       "      <td>0.00</td>\n",
       "      <td>0.00</td>\n",
       "      <td>0.00</td>\n",
       "      <td>930.10</td>\n",
       "      <td>0.00</td>\n",
       "      <td>699.00</td>\n",
       "      <td>0.00</td>\n",
       "      <td>0.00</td>\n",
       "      <td>0.00</td>\n",
       "      <td>13.00</td>\n",
       "      <td>8.00</td>\n",
       "      <td>0.00</td>\n",
       "      <td>0.00</td>\n",
       "      <td>0.00</td>\n",
       "      <td>0.00</td>\n",
       "      <td>0.00</td>\n",
       "      <td>60.00</td>\n",
       "      <td>0.00</td>\n",
       "      <td>0.00</td>\n",
       "      <td>0.00</td>\n",
       "    </tr>\n",
       "    <tr>\n",
       "      <th>3</th>\n",
       "      <td>3</td>\n",
       "      <td>2302644</td>\n",
       "      <td>200</td>\n",
       "      <td>2127273.00</td>\n",
       "      <td>Automotive Sales &amp; Distribution</td>\n",
       "      <td>arizona</td>\n",
       "      <td>0.00</td>\n",
       "      <td>0</td>\n",
       "      <td>$0.00</td>\n",
       "      <td>$0.00</td>\n",
       "      <td>$0.00</td>\n",
       "      <td>0.00</td>\n",
       "      <td>1543.22</td>\n",
       "      <td>0.00</td>\n",
       "      <td>1070.25</td>\n",
       "      <td>0.00</td>\n",
       "      <td>283.62</td>\n",
       "      <td>58.15</td>\n",
       "      <td>0.00</td>\n",
       "      <td>0.00</td>\n",
       "      <td>0.00</td>\n",
       "      <td>0.00</td>\n",
       "      <td>0.00</td>\n",
       "      <td>130.79</td>\n",
       "      <td>0.00</td>\n",
       "      <td>93.00</td>\n",
       "      <td>0.00</td>\n",
       "      <td>0.00</td>\n",
       "      <td>0.00</td>\n",
       "      <td>2.00</td>\n",
       "      <td>2.00</td>\n",
       "      <td>0.00</td>\n",
       "      <td>0.00</td>\n",
       "      <td>0.00</td>\n",
       "      <td>0.00</td>\n",
       "      <td>0.00</td>\n",
       "      <td>7.00</td>\n",
       "      <td>0.00</td>\n",
       "      <td>0.00</td>\n",
       "      <td>0.00</td>\n",
       "    </tr>\n",
       "    <tr>\n",
       "      <th>4</th>\n",
       "      <td>4</td>\n",
       "      <td>8061618</td>\n",
       "      <td>2600</td>\n",
       "      <td>8061618.00</td>\n",
       "      <td>Wholesale</td>\n",
       "      <td>arizona</td>\n",
       "      <td>0.00</td>\n",
       "      <td>0</td>\n",
       "      <td>$0.00</td>\n",
       "      <td>$0.00</td>\n",
       "      <td>$0.00</td>\n",
       "      <td>0.00</td>\n",
       "      <td>2471.94</td>\n",
       "      <td>0.00</td>\n",
       "      <td>1208.04</td>\n",
       "      <td>0.00</td>\n",
       "      <td>204.85</td>\n",
       "      <td>90.11</td>\n",
       "      <td>0.00</td>\n",
       "      <td>0.00</td>\n",
       "      <td>0.00</td>\n",
       "      <td>0.00</td>\n",
       "      <td>0.00</td>\n",
       "      <td>263.69</td>\n",
       "      <td>0.00</td>\n",
       "      <td>244.00</td>\n",
       "      <td>0.00</td>\n",
       "      <td>0.00</td>\n",
       "      <td>0.00</td>\n",
       "      <td>1.00</td>\n",
       "      <td>2.00</td>\n",
       "      <td>0.00</td>\n",
       "      <td>0.00</td>\n",
       "      <td>0.00</td>\n",
       "      <td>0.00</td>\n",
       "      <td>0.00</td>\n",
       "      <td>18.00</td>\n",
       "      <td>0.00</td>\n",
       "      <td>0.00</td>\n",
       "      <td>0.00</td>\n",
       "    </tr>\n",
       "  </tbody>\n",
       "</table>\n",
       "</div>"
      ],
      "text/plain": [
       "   Unnamed: 0.1  DnB Base Year Sales Qty  DnB Bus Num Of Clients  \\\n",
       "0             0                        0                       0   \n",
       "1             1                        0                       0   \n",
       "2             2                        0                       0   \n",
       "3             3                  2302644                     200   \n",
       "4             4                  8061618                    2600   \n",
       "\n",
       "   DnB Bus Total Gross Revenue  \\\n",
       "0                         0.00   \n",
       "1                         0.00   \n",
       "2            -9999999999999.99   \n",
       "3                   2127273.00   \n",
       "4                   8061618.00   \n",
       "\n",
       "  DnB Primary NAICS Industry Sub Segment Level2 Description State/Province  \\\n",
       "0                                                NaN                 texas   \n",
       "1                                                NaN               arizona   \n",
       "2                             Industrial Distributor               arizona   \n",
       "3                    Automotive Sales & Distribution               arizona   \n",
       "4                                          Wholesale               arizona   \n",
       "\n",
       "   Competitor Spend  Customer Spend US Air Competitor Spend  \\\n",
       "0              0.00               0                   $0.00   \n",
       "1              0.00               0                   $0.00   \n",
       "2              0.00               0                   $0.00   \n",
       "3              0.00               0                   $0.00   \n",
       "4              0.00               0                   $0.00   \n",
       "\n",
       "  US Ground Competitor Spend International Competitor Spend  \\\n",
       "0                      $0.00                          $0.00   \n",
       "1                      $0.00                          $0.00   \n",
       "2                      $0.00                          $0.00   \n",
       "3                      $0.00                          $0.00   \n",
       "4                      $0.00                          $0.00   \n",
       "\n",
       "   USPK Competitor Spend  Prod_1_Rev_Net_USD  Prod_3_Rev_Net_USD  \\\n",
       "0                   0.00            17943.93                0.00   \n",
       "1                   0.00             9925.79                0.00   \n",
       "2                   0.00             6939.94                0.00   \n",
       "3                   0.00             1543.22                0.00   \n",
       "4                   0.00             2471.94                0.00   \n",
       "\n",
       "   Prod_27_Rev_Net_USD  Prod_33_Rev_Net_USD  Prod_35_Rev_Net_USD  \\\n",
       "0              1739.45                 0.00              3636.37   \n",
       "1              1421.72                 0.00              1507.20   \n",
       "2              1542.43                 0.00               392.89   \n",
       "3              1070.25                 0.00               283.62   \n",
       "4              1208.04                 0.00               204.85   \n",
       "\n",
       "   Prod_38_Rev_Net_USD  Prod_79_Rev_Net_USD  Prod_102_Rev_Net_USD  \\\n",
       "0              1803.94                 0.00                  0.00   \n",
       "1               639.12                 0.00                  0.00   \n",
       "2               195.46                 0.00                  0.00   \n",
       "3                58.15                 0.00                  0.00   \n",
       "4                90.11                 0.00                  0.00   \n",
       "\n",
       "   Prod_117_Rev_Net_USD  Prod_118_Rev_Net_USD  Prod_126_Rev_Net_USD  \\\n",
       "0                  0.00                  0.00                  0.00   \n",
       "1                  0.00                  0.00                  0.00   \n",
       "2                  0.00                  0.00                  0.00   \n",
       "3                  0.00                  0.00                  0.00   \n",
       "4                  0.00                  0.00                  0.00   \n",
       "\n",
       "   Prod_352_Rev_Net_USD  Prod_360_Rev_Net_USD  Prod_1_Volume_Qty  \\\n",
       "0               1018.74                  0.00            1311.00   \n",
       "1               1652.73                  0.00             591.00   \n",
       "2                930.10                  0.00             699.00   \n",
       "3                130.79                  0.00              93.00   \n",
       "4                263.69                  0.00             244.00   \n",
       "\n",
       "   Prod_3_Volume_Qty  Prod_27_Volume_Qty  Prod_33_Volume_Qty  \\\n",
       "0               0.00                0.00                0.00   \n",
       "1               0.00                0.00                0.00   \n",
       "2               0.00                0.00                0.00   \n",
       "3               0.00                0.00                0.00   \n",
       "4               0.00                0.00                0.00   \n",
       "\n",
       "   Prod_35_Volume_Qty  Prod_38_Volume_Qty  Prod_79_Volume_Qty  \\\n",
       "0               55.00               72.00                0.00   \n",
       "1                9.00                9.00                0.00   \n",
       "2               13.00                8.00                0.00   \n",
       "3                2.00                2.00                0.00   \n",
       "4                1.00                2.00                0.00   \n",
       "\n",
       "   Prod_102_Volume_Qty  Prod_117_Volume_Qty  Prod_118_Volume_Qty  \\\n",
       "0                 0.00                 0.00                 0.00   \n",
       "1                 0.00                 0.00                 0.00   \n",
       "2                 0.00                 0.00                 0.00   \n",
       "3                 0.00                 0.00                 0.00   \n",
       "4                 0.00                 0.00                 0.00   \n",
       "\n",
       "   Prod_126_Volume_Qty  Prod_352_Volume_Qty  Prod_360_Volume_Qty  \\\n",
       "0                 0.00                62.00                 0.00   \n",
       "1                 0.00                73.00                 0.00   \n",
       "2                 0.00                60.00                 0.00   \n",
       "3                 0.00                 7.00                 0.00   \n",
       "4                 0.00                18.00                 0.00   \n",
       "\n",
       "   Prod_577_Rev_Net_USD  Prod_577_Volume_Qty  \n",
       "0                  0.00                 0.00  \n",
       "1                  0.00                 0.00  \n",
       "2                  0.00                 0.00  \n",
       "3                  0.00                 0.00  \n",
       "4                  0.00                 0.00  "
      ]
     },
     "execution_count": 34,
     "metadata": {},
     "output_type": "execute_result"
    }
   ],
   "source": [
    "whole_df.head(5)"
   ]
  },
  {
   "cell_type": "markdown",
   "metadata": {},
   "source": [
    "<b> Convert Spending values in String to Float </b>"
   ]
  },
  {
   "cell_type": "code",
   "execution_count": 35,
   "metadata": {},
   "outputs": [],
   "source": [
    "whole_df['US Air Competitor Spend'] = whole_df['US Air Competitor Spend'].str.replace('$', '').str.replace(',', '').astype(float)\n",
    "whole_df['US Ground Competitor Spend'] = whole_df['US Ground Competitor Spend'].str.replace('$', '').str.replace(',', '').astype(float)\n",
    "whole_df['International Competitor Spend'] = whole_df['International Competitor Spend'].str.replace('$', '').str.replace(',', '').astype(float)"
   ]
  },
  {
   "cell_type": "markdown",
   "metadata": {},
   "source": [
    "# Customer Segmentation Clustering"
   ]
  },
  {
   "cell_type": "code",
   "execution_count": 36,
   "metadata": {},
   "outputs": [],
   "source": [
    "# About the Customer\n",
    "\n",
    "# 1. DnB Base Year Sales Qty                                             | Number of unit sale by the account\n",
    "# 2. DnB Bus Num Of Clients                                              | Number of clients each account has\n",
    "# 3. DnB Bus Total Gross Revenue                                         | How much account makes\n",
    "# 4. DnB Primary NAICS Industry Sub Segment Level2 Description           | What type of industry\n",
    "# 5. State/Province                                                      | Where do they locate\n",
    "# 6. Competitor Spend                                                    | How much account spend on other places\n",
    "# 7. Customer Spend                                                      | how much customer spend in total\n",
    "\n",
    "# The product spends are just at UPS. If there's Customer Spend, it should be the total (UPS + Competitor)."
   ]
  },
  {
   "cell_type": "markdown",
   "metadata": {},
   "source": [
    "## Normalization"
   ]
  },
  {
   "cell_type": "code",
   "execution_count": 37,
   "metadata": {},
   "outputs": [],
   "source": [
    "customer = whole_df[['DnB Base Year Sales Qty','DnB Bus Num Of Clients',\n",
    "               'DnB Bus Total Gross Revenue','Competitor Spend','Customer Spend',\n",
    "                'DnB Primary NAICS Industry Sub Segment Level2 Description', 'State/Province']]"
   ]
  },
  {
   "cell_type": "code",
   "execution_count": 38,
   "metadata": {},
   "outputs": [
    {
     "data": {
      "text/html": [
       "<div>\n",
       "<style scoped>\n",
       "    .dataframe tbody tr th:only-of-type {\n",
       "        vertical-align: middle;\n",
       "    }\n",
       "\n",
       "    .dataframe tbody tr th {\n",
       "        vertical-align: top;\n",
       "    }\n",
       "\n",
       "    .dataframe thead th {\n",
       "        text-align: right;\n",
       "    }\n",
       "</style>\n",
       "<table border=\"1\" class=\"dataframe\">\n",
       "  <thead>\n",
       "    <tr style=\"text-align: right;\">\n",
       "      <th></th>\n",
       "      <th>column name</th>\n",
       "      <th>Negative%</th>\n",
       "      <th>Zero%</th>\n",
       "    </tr>\n",
       "  </thead>\n",
       "  <tbody>\n",
       "    <tr>\n",
       "      <th>0</th>\n",
       "      <td>DnB Base Year Sales Qty</td>\n",
       "      <td>0.00</td>\n",
       "      <td>62.40</td>\n",
       "    </tr>\n",
       "    <tr>\n",
       "      <th>1</th>\n",
       "      <td>DnB Bus Num Of Clients</td>\n",
       "      <td>0.00</td>\n",
       "      <td>89.67</td>\n",
       "    </tr>\n",
       "    <tr>\n",
       "      <th>2</th>\n",
       "      <td>DnB Bus Total Gross Revenue</td>\n",
       "      <td>20.36</td>\n",
       "      <td>40.18</td>\n",
       "    </tr>\n",
       "    <tr>\n",
       "      <th>3</th>\n",
       "      <td>Competitor Spend</td>\n",
       "      <td>0.00</td>\n",
       "      <td>95.52</td>\n",
       "    </tr>\n",
       "    <tr>\n",
       "      <th>4</th>\n",
       "      <td>Customer Spend</td>\n",
       "      <td>0.00</td>\n",
       "      <td>90.73</td>\n",
       "    </tr>\n",
       "  </tbody>\n",
       "</table>\n",
       "</div>"
      ],
      "text/plain": [
       "                   column name  Negative%  Zero%\n",
       "0      DnB Base Year Sales Qty       0.00  62.40\n",
       "1       DnB Bus Num Of Clients       0.00  89.67\n",
       "2  DnB Bus Total Gross Revenue      20.36  40.18\n",
       "3             Competitor Spend       0.00  95.52\n",
       "4               Customer Spend       0.00  90.73"
      ]
     },
     "metadata": {},
     "output_type": "display_data"
    }
   ],
   "source": [
    "# count negative values and zeros for each numerical column\n",
    "neg_per, zero_per = [], []\n",
    "num_cols = [col for col,dt in customer.dtypes.items() if (dt == 'float64' or dt == 'int64')]\n",
    "\n",
    "for num_col in num_cols:\n",
    "    num_list = sorted(list(customer[num_col].values))\n",
    "    neg_count, zero_count = 0, 0\n",
    "    for i in num_list:\n",
    "        if i < 0:\n",
    "            neg_count += 1\n",
    "        elif i == 0:\n",
    "            zero_count += 1\n",
    "    neg_p = round(neg_count/len(num_list)*100,4)\n",
    "    zero_p = round(zero_count/len(num_list)*100,4)\n",
    "    neg_per.append(neg_p)\n",
    "    zero_per.append(zero_p)\n",
    "\n",
    "count_df = pd.DataFrame(list(zip(num_cols, neg_per, zero_per)), columns =['column name', 'Negative%', 'Zero%']) \n",
    "display(count_df)"
   ]
  },
  {
   "cell_type": "code",
   "execution_count": 39,
   "metadata": {},
   "outputs": [],
   "source": [
    "# https://towardsdatascience.com/transforming-skewed-data-73da4c2d0d16\n",
    "# Different way of normalizing\n",
    "\n",
    "def normalize(column):                                    # Normalization converts data to 0-1 but it is still skewed as before.\n",
    "    upper = column.max()\n",
    "    lower = column.min()\n",
    "    y = (column - lower)/(upper-lower)\n",
    "    return y\n",
    "\n",
    "def sigmoid(column):                                      # Data has been distorted. \n",
    "    e = np.exp(1)\n",
    "    y = 1/(1+e**(-column))\n",
    "    return y\n",
    "\n",
    "def log(column):                                          # Data contains value less than 0, so log didn't work\n",
    "    return np.log(column)\n",
    "\n",
    "def logPlusOne(column):                                   # Change 0 to 1. The range is 0 to 26. Much better.\n",
    "    return log(column + 1)\n",
    "\n",
    "def logPlusOne_Normalize(column):                         # After normalizing it, it seems very reasonable.\n",
    "    return normalize(logPlusOne(column))\n",
    "\n",
    "def cubeRoot(column):                                     # The range is larger than logPlusOne\n",
    "    return column**(1/3)\n",
    "\n",
    "def cubeRoot_Normalize(column):                           # 50% to 75% is too close (0.1 apart) for a 700k dataset\n",
    "    return normalize(cubeRoot(column))\n",
    "\n",
    "def logMAX(column):                                       # There seems like a good range but the spread between 50% to 75% quite cluster\n",
    "    x = np.log(column.max())\n",
    "    return column**(1/x)\n",
    "\n",
    "def logMAX_Normalize(column):                             # As expected, the overall spread is more desirable, but it’s not quite sufficient here.\n",
    "    return normalize(logMAX(column))\n",
    "\n",
    "def hyperbolic_tangent(column):                           # There is 0 difference between 25% and 50%. Very Skewed Right.\n",
    "    return np.tanh(column)\n",
    "\n",
    "def percentile_linearization(column):                     # There is 0 difference between 25% and 50%\n",
    "    size = len(column)-1\n",
    "    return column.rank(method='min').apply(lambda x: (x-1)/size)\n",
    "\n",
    "def All(column):\n",
    "    print('Normalize'               , normalize(column).describe())\n",
    "    print('Sigmoid'                 , sigmoid(column).describe())\n",
    "    print('Log'                     , log(column).describe())\n",
    "    print('LogPlusOne'              , logPlusOne(column).describe())\n",
    "    print('LogPlusOne_Normalize'    , logPlusOne_Normalize(column).describe())\n",
    "    print('CubeRoot'                , cubeRoot(column).describe())\n",
    "    print('CubeRoot_Normalize'      , cubeRoot_Normalize(column).describe())\n",
    "    print('LogMAX'                  , logMAX(column).describe())\n",
    "    print('LogMAX_Normalize'        , logMAX_Normalize(column).describe())\n",
    "    print('Hyperbolic_tangent'      , hyperbolic_tangent(column).describe())\n",
    "    print('Percentile_linearization', percentile_linearization(column).describe())"
   ]
  },
  {
   "cell_type": "code",
   "execution_count": 40,
   "metadata": {},
   "outputs": [
    {
     "name": "stdout",
     "output_type": "stream",
     "text": [
      "       DnB Bus Total Gross Revenue\n",
      "count                      7964.00\n",
      "mean                          0.28\n",
      "std                           0.28\n",
      "min                           0.00\n",
      "25%                           0.00\n",
      "50%                           0.00\n",
      "75%                           0.55\n",
      "max                           1.00\n"
     ]
    }
   ],
   "source": [
    "column = customer[['DnB Bus Total Gross Revenue']]\n",
    "print(logPlusOne_Normalize(column).describe())"
   ]
  },
  {
   "cell_type": "markdown",
   "metadata": {},
   "source": [
    "<span style='color:Red'> Ultimately, logPlusOne_Normalize is the most ideal one and it also includes zero </span>"
   ]
  },
  {
   "cell_type": "code",
   "execution_count": 41,
   "metadata": {},
   "outputs": [],
   "source": [
    "# DnB Base Year Sales Qty\tDnB Bus Num Of Clients\tDnB Bus Total Gross Revenue\tCompetitor Spend\tCustomer Spend\tregion"
   ]
  },
  {
   "cell_type": "markdown",
   "metadata": {},
   "source": [
    "<b> Gross Revenue vs Spending </b>"
   ]
  },
  {
   "cell_type": "code",
   "execution_count": 42,
   "metadata": {},
   "outputs": [],
   "source": [
    "def histogram(col):\n",
    "    col= str(col)\n",
    "    fig, ax = plt.subplots()\n",
    "    logPlusOne_Normalize(customer[col]).hist(bins=30, color='#A9C5D3', edgecolor='black', grid=False)\n",
    "    ax.set_title(col+' Histogram', fontsize=12)\n",
    "    ax.set_xlabel(col, fontsize=12)\n",
    "    ax.set_ylabel('Frequency', fontsize=12)\n"
   ]
  },
  {
   "cell_type": "code",
   "execution_count": 43,
   "metadata": {},
   "outputs": [
    {
     "data": {
      "image/png": "[encoded data removed]",
      "text/plain": [
       "<Figure size 432x288 with 1 Axes>"
      ]
     },
     "metadata": {
      "needs_background": "light"
     },
     "output_type": "display_data"
    },
    {
     "data": {
      "image/png": "[encoded data removed]",
      "text/plain": [
       "<Figure size 432x288 with 1 Axes>"
      ]
     },
     "metadata": {
      "needs_background": "light"
     },
     "output_type": "display_data"
    },
    {
     "data": {
      "image/png": "[encoded data removed]",
      "text/plain": [
       "<Figure size 432x288 with 1 Axes>"
      ]
     },
     "metadata": {
      "needs_background": "light"
     },
     "output_type": "display_data"
    },
    {
     "data": {
      "image/png": "[encoded data removed]",
      "text/plain": [
       "<Figure size 432x288 with 1 Axes>"
      ]
     },
     "metadata": {
      "needs_background": "light"
     },
     "output_type": "display_data"
    },
    {
     "data": {
      "image/png": "[encoded data removed]",
      "text/plain": [
       "<Figure size 432x288 with 1 Axes>"
      ]
     },
     "metadata": {
      "needs_background": "light"
     },
     "output_type": "display_data"
    }
   ],
   "source": [
    "col_list = ['DnB Base Year Sales Qty','DnB Bus Num Of Clients',\n",
    "            'DnB Bus Total Gross Revenue','Competitor Spend','Customer Spend']\n",
    "\n",
    "for i in col_list:\n",
    "    histogram(i)"
   ]
  },
  {
   "cell_type": "code",
   "execution_count": 44,
   "metadata": {
    "scrolled": false
   },
   "outputs": [
    {
     "data": {
      "image/png": "[encoded data removed]",
      "text/plain": [
       "<Figure size 432x288 with 1 Axes>"
      ]
     },
     "metadata": {
      "needs_background": "light"
     },
     "output_type": "display_data"
    }
   ],
   "source": [
    "x = logPlusOne_Normalize(customer['Customer Spend'])\n",
    "y = logPlusOne_Normalize(customer['DnB Bus Total Gross Revenue']) \n",
    "\n",
    "fig = plt.figure()\n",
    "fig.suptitle('Gross Revenue vs Spending')\n",
    "plt.scatter(x, y)\n",
    "plt.xlabel(\"Total Gross Revenue\")\n",
    "plt.ylabel(\"Customer Spend\")\n",
    "plt.show()\n",
    "# fig.savefig('test.jpg')"
   ]
  },
  {
   "cell_type": "code",
   "execution_count": 45,
   "metadata": {},
   "outputs": [],
   "source": [
    "# Region dictionary\n",
    "ca_prov = ['Alberta','British Columbia','Manitoba','New Brunswick','Newfoundland and Labrador','Northwest Territories',\n",
    "           'Nova Scotia','Nunavut','Ontario','Prince Edward Island','Quebec','Saskatchewan','Yukon']\n",
    "\n",
    "mx_state = ['Aguascalientes','Baja California','Baja California Sur','Campeche','Coahuila','Colima','Chiapas','Chihuahua',\n",
    "            'Durango','Mexico City','Guanajuato','Guerrero','Hidalgo','Jalisco','Mexico','Michoacan','Morelos','Nayarit',\n",
    "            'Nuevo León','Oaxaca','Puebla','Queretaro','Quintana Roo','San Luis Potosi','Sinaloa','Sonora','Tabasco',\n",
    "            'Tamaulipas','Tlaxcala','Veracruz','Yucatán','Zacatecas']\n",
    "\n",
    "region = {'West':['Washington','Oregon','California','Idaho','Nevada','Utah','Montana','Wyoming','Colorado','Alaska','Havaii'],\n",
    "          'Midwest':['North Dakota','South Dakota','Nebraska','Kansas','Minnesota','Iowa','Missouri','Wisconsin','Illinois','Michigan','Indiana','Ohio'],\n",
    "          'Northeast':['Maine','New York','Pennsylvania','Vermont','New Hampshire','Massachusetts','Rhode Island','Connecticut','New Jersey','Delaware','Maryland'],\n",
    "          'Southeast':['West Virginia','Virginia','District of Columbia','kentucky','North Carolina','Tennessee','South Carolina','Arkansas','Georgia','Alabama','Mississippi','Louisiana','Florida'],\n",
    "          'Southwest':['Arizona','New Mexico','Texas','Oklahoma'],\n",
    "          'other':['American Samoa','Guam','Northern Mariana Islands','Puerto Rico','Virgin Islands'],\n",
    "          'Canada':ca_prov,\n",
    "          'Mexico':mx_state}"
   ]
  },
  {
   "cell_type": "code",
   "execution_count": 46,
   "metadata": {},
   "outputs": [],
   "source": [
    "# lower case region dictionary\n",
    "region_dict = defaultdict(list)\n",
    "for key, value in region.items():\n",
    "    value_lower = []\n",
    "    for val in value:\n",
    "        value_lower.append(val.lower())\n",
    "    region_dict[key] = value_lower\n",
    "    \n",
    "    \n",
    "# get region for state/province\n",
    "def get_region(row, column_name): \n",
    "    val = row[column_name]\n",
    "    val_lower = val.lower()\n",
    "    for _,(key,value) in enumerate(list(region_dict.items())):\n",
    "        for j in range(len(value)):\n",
    "            if val_lower in value[j]: \n",
    "                return key\n",
    "    else:\n",
    "        return 'unknown'"
   ]
  },
  {
   "cell_type": "code",
   "execution_count": 47,
   "metadata": {},
   "outputs": [],
   "source": [
    "region_cols = ['State/Province']\n",
    "region_df = customer.copy()\n",
    "for col in region_cols:\n",
    "    if col in region_df.columns.values:\n",
    "        region_df[col+'_region'] = region_df.apply(lambda row: get_region(row, col),axis=1)\n",
    "        region_df = region_df.drop(columns = col)"
   ]
  },
  {
   "cell_type": "code",
   "execution_count": 48,
   "metadata": {},
   "outputs": [],
   "source": [
    "# Replace String to numerical\n",
    "\n",
    "region_df['region'] = pd.factorize(region_df['State/Province_region'])[0] + 1"
   ]
  },
  {
   "cell_type": "code",
   "execution_count": 49,
   "metadata": {},
   "outputs": [
    {
     "data": {
      "text/html": [
       "<div>\n",
       "<style scoped>\n",
       "    .dataframe tbody tr th:only-of-type {\n",
       "        vertical-align: middle;\n",
       "    }\n",
       "\n",
       "    .dataframe tbody tr th {\n",
       "        vertical-align: top;\n",
       "    }\n",
       "\n",
       "    .dataframe thead th {\n",
       "        text-align: right;\n",
       "    }\n",
       "</style>\n",
       "<table border=\"1\" class=\"dataframe\">\n",
       "  <thead>\n",
       "    <tr style=\"text-align: right;\">\n",
       "      <th></th>\n",
       "      <th>DnB Base Year Sales Qty</th>\n",
       "      <th>DnB Bus Num Of Clients</th>\n",
       "      <th>DnB Bus Total Gross Revenue</th>\n",
       "      <th>Competitor Spend</th>\n",
       "      <th>Customer Spend</th>\n",
       "      <th>DnB Primary NAICS Industry Sub Segment Level2 Description</th>\n",
       "      <th>State/Province_region</th>\n",
       "      <th>region</th>\n",
       "    </tr>\n",
       "  </thead>\n",
       "  <tbody>\n",
       "    <tr>\n",
       "      <th>9995</th>\n",
       "      <td>32323350</td>\n",
       "      <td>0</td>\n",
       "      <td>25517538.00</td>\n",
       "      <td>0.00</td>\n",
       "      <td>0</td>\n",
       "      <td>Non-Targeted</td>\n",
       "      <td>Southeast</td>\n",
       "      <td>2</td>\n",
       "    </tr>\n",
       "    <tr>\n",
       "      <th>9996</th>\n",
       "      <td>0</td>\n",
       "      <td>0</td>\n",
       "      <td>0.00</td>\n",
       "      <td>0.00</td>\n",
       "      <td>0</td>\n",
       "      <td>NaN</td>\n",
       "      <td>Southeast</td>\n",
       "      <td>2</td>\n",
       "    </tr>\n",
       "    <tr>\n",
       "      <th>9997</th>\n",
       "      <td>0</td>\n",
       "      <td>0</td>\n",
       "      <td>-9999999999999.99</td>\n",
       "      <td>0.00</td>\n",
       "      <td>0</td>\n",
       "      <td>Industrial Distributor</td>\n",
       "      <td>Northeast</td>\n",
       "      <td>6</td>\n",
       "    </tr>\n",
       "    <tr>\n",
       "      <th>9998</th>\n",
       "      <td>0</td>\n",
       "      <td>0</td>\n",
       "      <td>225134.00</td>\n",
       "      <td>0.00</td>\n",
       "      <td>0</td>\n",
       "      <td>Dealerships</td>\n",
       "      <td>West</td>\n",
       "      <td>3</td>\n",
       "    </tr>\n",
       "    <tr>\n",
       "      <th>9999</th>\n",
       "      <td>0</td>\n",
       "      <td>0</td>\n",
       "      <td>-9999999999999.99</td>\n",
       "      <td>0.00</td>\n",
       "      <td>0</td>\n",
       "      <td>Industrial Distributor</td>\n",
       "      <td>Midwest</td>\n",
       "      <td>4</td>\n",
       "    </tr>\n",
       "  </tbody>\n",
       "</table>\n",
       "</div>"
      ],
      "text/plain": [
       "      DnB Base Year Sales Qty  DnB Bus Num Of Clients  \\\n",
       "9995                 32323350                       0   \n",
       "9996                        0                       0   \n",
       "9997                        0                       0   \n",
       "9998                        0                       0   \n",
       "9999                        0                       0   \n",
       "\n",
       "      DnB Bus Total Gross Revenue  Competitor Spend  Customer Spend  \\\n",
       "9995                  25517538.00              0.00               0   \n",
       "9996                         0.00              0.00               0   \n",
       "9997            -9999999999999.99              0.00               0   \n",
       "9998                    225134.00              0.00               0   \n",
       "9999            -9999999999999.99              0.00               0   \n",
       "\n",
       "     DnB Primary NAICS Industry Sub Segment Level2 Description  \\\n",
       "9995                                       Non-Targeted          \n",
       "9996                                                NaN          \n",
       "9997                             Industrial Distributor          \n",
       "9998                                        Dealerships          \n",
       "9999                             Industrial Distributor          \n",
       "\n",
       "     State/Province_region  region  \n",
       "9995             Southeast       2  \n",
       "9996             Southeast       2  \n",
       "9997             Northeast       6  \n",
       "9998                  West       3  \n",
       "9999               Midwest       4  "
      ]
     },
     "execution_count": 49,
     "metadata": {},
     "output_type": "execute_result"
    }
   ],
   "source": [
    "region_df.tail(5)"
   ]
  },
  {
   "cell_type": "code",
   "execution_count": 50,
   "metadata": {},
   "outputs": [
    {
     "data": {
      "text/html": [
       "<div>\n",
       "<style scoped>\n",
       "    .dataframe tbody tr th:only-of-type {\n",
       "        vertical-align: middle;\n",
       "    }\n",
       "\n",
       "    .dataframe tbody tr th {\n",
       "        vertical-align: top;\n",
       "    }\n",
       "\n",
       "    .dataframe thead th {\n",
       "        text-align: right;\n",
       "    }\n",
       "</style>\n",
       "<table border=\"1\" class=\"dataframe\">\n",
       "  <thead>\n",
       "    <tr style=\"text-align: right;\">\n",
       "      <th></th>\n",
       "      <th>State/Province_region</th>\n",
       "      <th>region</th>\n",
       "      <th>Freq</th>\n",
       "    </tr>\n",
       "  </thead>\n",
       "  <tbody>\n",
       "    <tr>\n",
       "      <th>4</th>\n",
       "      <td>Southwest</td>\n",
       "      <td>1</td>\n",
       "      <td>1285</td>\n",
       "    </tr>\n",
       "    <tr>\n",
       "      <th>3</th>\n",
       "      <td>Southeast</td>\n",
       "      <td>2</td>\n",
       "      <td>1794</td>\n",
       "    </tr>\n",
       "    <tr>\n",
       "      <th>5</th>\n",
       "      <td>West</td>\n",
       "      <td>3</td>\n",
       "      <td>2790</td>\n",
       "    </tr>\n",
       "    <tr>\n",
       "      <th>1</th>\n",
       "      <td>Midwest</td>\n",
       "      <td>4</td>\n",
       "      <td>1560</td>\n",
       "    </tr>\n",
       "    <tr>\n",
       "      <th>6</th>\n",
       "      <td>unknown</td>\n",
       "      <td>5</td>\n",
       "      <td>1251</td>\n",
       "    </tr>\n",
       "    <tr>\n",
       "      <th>2</th>\n",
       "      <td>Northeast</td>\n",
       "      <td>6</td>\n",
       "      <td>1305</td>\n",
       "    </tr>\n",
       "    <tr>\n",
       "      <th>0</th>\n",
       "      <td>Canada</td>\n",
       "      <td>7</td>\n",
       "      <td>15</td>\n",
       "    </tr>\n",
       "  </tbody>\n",
       "</table>\n",
       "</div>"
      ],
      "text/plain": [
       "  State/Province_region  region  Freq\n",
       "4             Southwest       1  1285\n",
       "3             Southeast       2  1794\n",
       "5                  West       3  2790\n",
       "1               Midwest       4  1560\n",
       "6               unknown       5  1251\n",
       "2             Northeast       6  1305\n",
       "0                Canada       7    15"
      ]
     },
     "execution_count": 50,
     "metadata": {},
     "output_type": "execute_result"
    }
   ],
   "source": [
    "code_df = region_df.groupby(['State/Province_region', 'region']).size().reset_index(name='Freq').sort_values(by=['region'])\n",
    "code_df"
   ]
  },
  {
   "cell_type": "code",
   "execution_count": 51,
   "metadata": {
    "scrolled": true
   },
   "outputs": [
    {
     "data": {
      "text/plain": [
       "10000"
      ]
     },
     "execution_count": 51,
     "metadata": {},
     "output_type": "execute_result"
    }
   ],
   "source": [
    "# Check whether the sum of Freq equals to the number of rows\n",
    "code_df['Freq'].sum() "
   ]
  },
  {
   "cell_type": "markdown",
   "metadata": {},
   "source": [
    "<b> Gross Revenue vs Spending in each region </b>"
   ]
  },
  {
   "cell_type": "code",
   "execution_count": 52,
   "metadata": {},
   "outputs": [],
   "source": [
    "x = logPlusOne_Normalize(region_df['DnB Bus Total Gross Revenue'])\n",
    "y = logPlusOne_Normalize(region_df['Customer Spend'])"
   ]
  },
  {
   "cell_type": "code",
   "execution_count": 53,
   "metadata": {},
   "outputs": [
    {
     "data": {
      "image/png": "[encoded data removed]",
      "text/plain": [
       "<Figure size 432x288 with 1 Axes>"
      ]
     },
     "metadata": {
      "needs_background": "light"
     },
     "output_type": "display_data"
    }
   ],
   "source": [
    "# https://matplotlib.org/gallery/lines_bars_and_markers/scatter_with_legend.html\n",
    "fig,ax = plt.subplots()\n",
    "scatter = ax.scatter(x, y, c = region_df['region'], cmap=\"Spectral\")"
   ]
  },
  {
   "cell_type": "markdown",
   "metadata": {},
   "source": [
    "### k-Means clustering algorithm\n",
    " 1. Randomly placing k centroids, one for each cluster.\n",
    " 2. Calculate the distance of each point from each centroid.\n",
    " 3. Assign each data point (feature values) to its nearest centroid, creating a cluster.\n",
    " 4. Recalculate the position of the k centroids.\n",
    " 5. Repeat steps 2–4 until the centroids no longer move.\n"
   ]
  },
  {
   "cell_type": "code",
   "execution_count": 100,
   "metadata": {},
   "outputs": [],
   "source": [
    "region_df2 = region_df.drop(['DnB Bus Num Of Clients', \n",
    "                             'Competitor Spend',\n",
    "                             'DnB Primary NAICS Industry Sub Segment Level2 Description', \n",
    "                             'State/Province_region'], axis = 1)"
   ]
  },
  {
   "cell_type": "code",
   "execution_count": 86,
   "metadata": {},
   "outputs": [
    {
     "data": {
      "text/html": [
       "<div>\n",
       "<style scoped>\n",
       "    .dataframe tbody tr th:only-of-type {\n",
       "        vertical-align: middle;\n",
       "    }\n",
       "\n",
       "    .dataframe tbody tr th {\n",
       "        vertical-align: top;\n",
       "    }\n",
       "\n",
       "    .dataframe thead th {\n",
       "        text-align: right;\n",
       "    }\n",
       "</style>\n",
       "<table border=\"1\" class=\"dataframe\">\n",
       "  <thead>\n",
       "    <tr style=\"text-align: right;\">\n",
       "      <th></th>\n",
       "      <th>DnB Base Year Sales Qty</th>\n",
       "      <th>DnB Bus Total Gross Revenue</th>\n",
       "      <th>Customer Spend</th>\n",
       "      <th>region</th>\n",
       "    </tr>\n",
       "  </thead>\n",
       "  <tbody>\n",
       "    <tr>\n",
       "      <th>0</th>\n",
       "      <td>0</td>\n",
       "      <td>0.00</td>\n",
       "      <td>0</td>\n",
       "      <td>1</td>\n",
       "    </tr>\n",
       "    <tr>\n",
       "      <th>1</th>\n",
       "      <td>0</td>\n",
       "      <td>0.00</td>\n",
       "      <td>0</td>\n",
       "      <td>1</td>\n",
       "    </tr>\n",
       "    <tr>\n",
       "      <th>2</th>\n",
       "      <td>0</td>\n",
       "      <td>-9999999999999.99</td>\n",
       "      <td>0</td>\n",
       "      <td>1</td>\n",
       "    </tr>\n",
       "    <tr>\n",
       "      <th>3</th>\n",
       "      <td>2302644</td>\n",
       "      <td>2127273.00</td>\n",
       "      <td>0</td>\n",
       "      <td>1</td>\n",
       "    </tr>\n",
       "    <tr>\n",
       "      <th>4</th>\n",
       "      <td>8061618</td>\n",
       "      <td>8061618.00</td>\n",
       "      <td>0</td>\n",
       "      <td>1</td>\n",
       "    </tr>\n",
       "    <tr>\n",
       "      <th>...</th>\n",
       "      <td>...</td>\n",
       "      <td>...</td>\n",
       "      <td>...</td>\n",
       "      <td>...</td>\n",
       "    </tr>\n",
       "    <tr>\n",
       "      <th>9995</th>\n",
       "      <td>32323350</td>\n",
       "      <td>25517538.00</td>\n",
       "      <td>0</td>\n",
       "      <td>2</td>\n",
       "    </tr>\n",
       "    <tr>\n",
       "      <th>9996</th>\n",
       "      <td>0</td>\n",
       "      <td>0.00</td>\n",
       "      <td>0</td>\n",
       "      <td>2</td>\n",
       "    </tr>\n",
       "    <tr>\n",
       "      <th>9997</th>\n",
       "      <td>0</td>\n",
       "      <td>-9999999999999.99</td>\n",
       "      <td>0</td>\n",
       "      <td>6</td>\n",
       "    </tr>\n",
       "    <tr>\n",
       "      <th>9998</th>\n",
       "      <td>0</td>\n",
       "      <td>225134.00</td>\n",
       "      <td>0</td>\n",
       "      <td>3</td>\n",
       "    </tr>\n",
       "    <tr>\n",
       "      <th>9999</th>\n",
       "      <td>0</td>\n",
       "      <td>-9999999999999.99</td>\n",
       "      <td>0</td>\n",
       "      <td>4</td>\n",
       "    </tr>\n",
       "  </tbody>\n",
       "</table>\n",
       "<p>10000 rows × 4 columns</p>\n",
       "</div>"
      ],
      "text/plain": [
       "      DnB Base Year Sales Qty  DnB Bus Total Gross Revenue  Customer Spend  \\\n",
       "0                           0                         0.00               0   \n",
       "1                           0                         0.00               0   \n",
       "2                           0            -9999999999999.99               0   \n",
       "3                     2302644                   2127273.00               0   \n",
       "4                     8061618                   8061618.00               0   \n",
       "...                       ...                          ...             ...   \n",
       "9995                 32323350                  25517538.00               0   \n",
       "9996                        0                         0.00               0   \n",
       "9997                        0            -9999999999999.99               0   \n",
       "9998                        0                    225134.00               0   \n",
       "9999                        0            -9999999999999.99               0   \n",
       "\n",
       "      region  \n",
       "0          1  \n",
       "1          1  \n",
       "2          1  \n",
       "3          1  \n",
       "4          1  \n",
       "...      ...  \n",
       "9995       2  \n",
       "9996       2  \n",
       "9997       6  \n",
       "9998       3  \n",
       "9999       4  \n",
       "\n",
       "[10000 rows x 4 columns]"
      ]
     },
     "execution_count": 86,
     "metadata": {},
     "output_type": "execute_result"
    }
   ],
   "source": [
    "region_df2"
   ]
  },
  {
   "cell_type": "code",
   "execution_count": 87,
   "metadata": {},
   "outputs": [],
   "source": [
    "region_df2 = region_df2.clip(lower = 0)"
   ]
  },
  {
   "cell_type": "code",
   "execution_count": 88,
   "metadata": {},
   "outputs": [
    {
     "data": {
      "text/html": [
       "<div>\n",
       "<style scoped>\n",
       "    .dataframe tbody tr th:only-of-type {\n",
       "        vertical-align: middle;\n",
       "    }\n",
       "\n",
       "    .dataframe tbody tr th {\n",
       "        vertical-align: top;\n",
       "    }\n",
       "\n",
       "    .dataframe thead th {\n",
       "        text-align: right;\n",
       "    }\n",
       "</style>\n",
       "<table border=\"1\" class=\"dataframe\">\n",
       "  <thead>\n",
       "    <tr style=\"text-align: right;\">\n",
       "      <th></th>\n",
       "      <th>DnB Base Year Sales Qty</th>\n",
       "      <th>DnB Bus Total Gross Revenue</th>\n",
       "      <th>Customer Spend</th>\n",
       "      <th>region</th>\n",
       "    </tr>\n",
       "  </thead>\n",
       "  <tbody>\n",
       "    <tr>\n",
       "      <th>0</th>\n",
       "      <td>0</td>\n",
       "      <td>0.00</td>\n",
       "      <td>0</td>\n",
       "      <td>1</td>\n",
       "    </tr>\n",
       "    <tr>\n",
       "      <th>1</th>\n",
       "      <td>0</td>\n",
       "      <td>0.00</td>\n",
       "      <td>0</td>\n",
       "      <td>1</td>\n",
       "    </tr>\n",
       "    <tr>\n",
       "      <th>2</th>\n",
       "      <td>0</td>\n",
       "      <td>0.00</td>\n",
       "      <td>0</td>\n",
       "      <td>1</td>\n",
       "    </tr>\n",
       "    <tr>\n",
       "      <th>3</th>\n",
       "      <td>2302644</td>\n",
       "      <td>2127273.00</td>\n",
       "      <td>0</td>\n",
       "      <td>1</td>\n",
       "    </tr>\n",
       "    <tr>\n",
       "      <th>4</th>\n",
       "      <td>8061618</td>\n",
       "      <td>8061618.00</td>\n",
       "      <td>0</td>\n",
       "      <td>1</td>\n",
       "    </tr>\n",
       "    <tr>\n",
       "      <th>...</th>\n",
       "      <td>...</td>\n",
       "      <td>...</td>\n",
       "      <td>...</td>\n",
       "      <td>...</td>\n",
       "    </tr>\n",
       "    <tr>\n",
       "      <th>9995</th>\n",
       "      <td>32323350</td>\n",
       "      <td>25517538.00</td>\n",
       "      <td>0</td>\n",
       "      <td>2</td>\n",
       "    </tr>\n",
       "    <tr>\n",
       "      <th>9996</th>\n",
       "      <td>0</td>\n",
       "      <td>0.00</td>\n",
       "      <td>0</td>\n",
       "      <td>2</td>\n",
       "    </tr>\n",
       "    <tr>\n",
       "      <th>9997</th>\n",
       "      <td>0</td>\n",
       "      <td>0.00</td>\n",
       "      <td>0</td>\n",
       "      <td>6</td>\n",
       "    </tr>\n",
       "    <tr>\n",
       "      <th>9998</th>\n",
       "      <td>0</td>\n",
       "      <td>225134.00</td>\n",
       "      <td>0</td>\n",
       "      <td>3</td>\n",
       "    </tr>\n",
       "    <tr>\n",
       "      <th>9999</th>\n",
       "      <td>0</td>\n",
       "      <td>0.00</td>\n",
       "      <td>0</td>\n",
       "      <td>4</td>\n",
       "    </tr>\n",
       "  </tbody>\n",
       "</table>\n",
       "<p>10000 rows × 4 columns</p>\n",
       "</div>"
      ],
      "text/plain": [
       "      DnB Base Year Sales Qty  DnB Bus Total Gross Revenue  Customer Spend  \\\n",
       "0                           0                         0.00               0   \n",
       "1                           0                         0.00               0   \n",
       "2                           0                         0.00               0   \n",
       "3                     2302644                   2127273.00               0   \n",
       "4                     8061618                   8061618.00               0   \n",
       "...                       ...                          ...             ...   \n",
       "9995                 32323350                  25517538.00               0   \n",
       "9996                        0                         0.00               0   \n",
       "9997                        0                         0.00               0   \n",
       "9998                        0                    225134.00               0   \n",
       "9999                        0                         0.00               0   \n",
       "\n",
       "      region  \n",
       "0          1  \n",
       "1          1  \n",
       "2          1  \n",
       "3          1  \n",
       "4          1  \n",
       "...      ...  \n",
       "9995       2  \n",
       "9996       2  \n",
       "9997       6  \n",
       "9998       3  \n",
       "9999       4  \n",
       "\n",
       "[10000 rows x 4 columns]"
      ]
     },
     "execution_count": 88,
     "metadata": {},
     "output_type": "execute_result"
    }
   ],
   "source": [
    "region_df2"
   ]
  },
  {
   "cell_type": "code",
   "execution_count": 89,
   "metadata": {},
   "outputs": [],
   "source": [
    "for col in region_df2:\n",
    "    region_df2[col] = logPlusOne_Normalize(region_df2[col])"
   ]
  },
  {
   "cell_type": "code",
   "execution_count": 90,
   "metadata": {},
   "outputs": [
    {
     "data": {
      "text/html": [
       "<div>\n",
       "<style scoped>\n",
       "    .dataframe tbody tr th:only-of-type {\n",
       "        vertical-align: middle;\n",
       "    }\n",
       "\n",
       "    .dataframe tbody tr th {\n",
       "        vertical-align: top;\n",
       "    }\n",
       "\n",
       "    .dataframe thead th {\n",
       "        text-align: right;\n",
       "    }\n",
       "</style>\n",
       "<table border=\"1\" class=\"dataframe\">\n",
       "  <thead>\n",
       "    <tr style=\"text-align: right;\">\n",
       "      <th></th>\n",
       "      <th>DnB Base Year Sales Qty</th>\n",
       "      <th>DnB Bus Total Gross Revenue</th>\n",
       "      <th>Customer Spend</th>\n",
       "      <th>region</th>\n",
       "    </tr>\n",
       "  </thead>\n",
       "  <tbody>\n",
       "    <tr>\n",
       "      <th>count</th>\n",
       "      <td>10000.00</td>\n",
       "      <td>10000.00</td>\n",
       "      <td>10000.00</td>\n",
       "      <td>10000.00</td>\n",
       "    </tr>\n",
       "    <tr>\n",
       "      <th>mean</th>\n",
       "      <td>0.21</td>\n",
       "      <td>0.22</td>\n",
       "      <td>0.05</td>\n",
       "      <td>0.51</td>\n",
       "    </tr>\n",
       "    <tr>\n",
       "      <th>std</th>\n",
       "      <td>0.28</td>\n",
       "      <td>0.28</td>\n",
       "      <td>0.16</td>\n",
       "      <td>0.28</td>\n",
       "    </tr>\n",
       "    <tr>\n",
       "      <th>min</th>\n",
       "      <td>0.00</td>\n",
       "      <td>0.00</td>\n",
       "      <td>0.00</td>\n",
       "      <td>0.00</td>\n",
       "    </tr>\n",
       "    <tr>\n",
       "      <th>25%</th>\n",
       "      <td>0.00</td>\n",
       "      <td>0.00</td>\n",
       "      <td>0.00</td>\n",
       "      <td>0.29</td>\n",
       "    </tr>\n",
       "    <tr>\n",
       "      <th>50%</th>\n",
       "      <td>0.00</td>\n",
       "      <td>0.00</td>\n",
       "      <td>0.00</td>\n",
       "      <td>0.50</td>\n",
       "    </tr>\n",
       "    <tr>\n",
       "      <th>75%</th>\n",
       "      <td>0.52</td>\n",
       "      <td>0.52</td>\n",
       "      <td>0.00</td>\n",
       "      <td>0.79</td>\n",
       "    </tr>\n",
       "    <tr>\n",
       "      <th>max</th>\n",
       "      <td>1.00</td>\n",
       "      <td>1.00</td>\n",
       "      <td>1.00</td>\n",
       "      <td>1.00</td>\n",
       "    </tr>\n",
       "  </tbody>\n",
       "</table>\n",
       "</div>"
      ],
      "text/plain": [
       "       DnB Base Year Sales Qty  DnB Bus Total Gross Revenue  Customer Spend  \\\n",
       "count                 10000.00                     10000.00        10000.00   \n",
       "mean                      0.21                         0.22            0.05   \n",
       "std                       0.28                         0.28            0.16   \n",
       "min                       0.00                         0.00            0.00   \n",
       "25%                       0.00                         0.00            0.00   \n",
       "50%                       0.00                         0.00            0.00   \n",
       "75%                       0.52                         0.52            0.00   \n",
       "max                       1.00                         1.00            1.00   \n",
       "\n",
       "        region  \n",
       "count 10000.00  \n",
       "mean      0.51  \n",
       "std       0.28  \n",
       "min       0.00  \n",
       "25%       0.29  \n",
       "50%       0.50  \n",
       "75%       0.79  \n",
       "max       1.00  "
      ]
     },
     "execution_count": 90,
     "metadata": {},
     "output_type": "execute_result"
    }
   ],
   "source": [
    "region_df2.describe()"
   ]
  },
  {
   "cell_type": "code",
   "execution_count": 91,
   "metadata": {},
   "outputs": [],
   "source": [
    "X = region_df2"
   ]
  },
  {
   "cell_type": "code",
   "execution_count": 92,
   "metadata": {},
   "outputs": [
    {
     "data": {
      "text/html": [
       "<div>\n",
       "<style scoped>\n",
       "    .dataframe tbody tr th:only-of-type {\n",
       "        vertical-align: middle;\n",
       "    }\n",
       "\n",
       "    .dataframe tbody tr th {\n",
       "        vertical-align: top;\n",
       "    }\n",
       "\n",
       "    .dataframe thead th {\n",
       "        text-align: right;\n",
       "    }\n",
       "</style>\n",
       "<table border=\"1\" class=\"dataframe\">\n",
       "  <thead>\n",
       "    <tr style=\"text-align: right;\">\n",
       "      <th></th>\n",
       "      <th>DnB Base Year Sales Qty</th>\n",
       "      <th>DnB Bus Total Gross Revenue</th>\n",
       "      <th>Customer Spend</th>\n",
       "      <th>region</th>\n",
       "    </tr>\n",
       "  </thead>\n",
       "  <tbody>\n",
       "    <tr>\n",
       "      <th>0</th>\n",
       "      <td>0.00</td>\n",
       "      <td>0.00</td>\n",
       "      <td>0.00</td>\n",
       "      <td>0.00</td>\n",
       "    </tr>\n",
       "    <tr>\n",
       "      <th>1</th>\n",
       "      <td>0.00</td>\n",
       "      <td>0.00</td>\n",
       "      <td>0.00</td>\n",
       "      <td>0.00</td>\n",
       "    </tr>\n",
       "    <tr>\n",
       "      <th>2</th>\n",
       "      <td>0.00</td>\n",
       "      <td>0.00</td>\n",
       "      <td>0.00</td>\n",
       "      <td>0.00</td>\n",
       "    </tr>\n",
       "    <tr>\n",
       "      <th>3</th>\n",
       "      <td>0.59</td>\n",
       "      <td>0.58</td>\n",
       "      <td>0.00</td>\n",
       "      <td>0.00</td>\n",
       "    </tr>\n",
       "    <tr>\n",
       "      <th>4</th>\n",
       "      <td>0.64</td>\n",
       "      <td>0.64</td>\n",
       "      <td>0.00</td>\n",
       "      <td>0.00</td>\n",
       "    </tr>\n",
       "    <tr>\n",
       "      <th>...</th>\n",
       "      <td>...</td>\n",
       "      <td>...</td>\n",
       "      <td>...</td>\n",
       "      <td>...</td>\n",
       "    </tr>\n",
       "    <tr>\n",
       "      <th>9995</th>\n",
       "      <td>0.70</td>\n",
       "      <td>0.68</td>\n",
       "      <td>0.00</td>\n",
       "      <td>0.29</td>\n",
       "    </tr>\n",
       "    <tr>\n",
       "      <th>9996</th>\n",
       "      <td>0.00</td>\n",
       "      <td>0.00</td>\n",
       "      <td>0.00</td>\n",
       "      <td>0.29</td>\n",
       "    </tr>\n",
       "    <tr>\n",
       "      <th>9997</th>\n",
       "      <td>0.00</td>\n",
       "      <td>0.00</td>\n",
       "      <td>0.00</td>\n",
       "      <td>0.90</td>\n",
       "    </tr>\n",
       "    <tr>\n",
       "      <th>9998</th>\n",
       "      <td>0.00</td>\n",
       "      <td>0.49</td>\n",
       "      <td>0.00</td>\n",
       "      <td>0.50</td>\n",
       "    </tr>\n",
       "    <tr>\n",
       "      <th>9999</th>\n",
       "      <td>0.00</td>\n",
       "      <td>0.00</td>\n",
       "      <td>0.00</td>\n",
       "      <td>0.66</td>\n",
       "    </tr>\n",
       "  </tbody>\n",
       "</table>\n",
       "<p>10000 rows × 4 columns</p>\n",
       "</div>"
      ],
      "text/plain": [
       "      DnB Base Year Sales Qty  DnB Bus Total Gross Revenue  Customer Spend  \\\n",
       "0                        0.00                         0.00            0.00   \n",
       "1                        0.00                         0.00            0.00   \n",
       "2                        0.00                         0.00            0.00   \n",
       "3                        0.59                         0.58            0.00   \n",
       "4                        0.64                         0.64            0.00   \n",
       "...                       ...                          ...             ...   \n",
       "9995                     0.70                         0.68            0.00   \n",
       "9996                     0.00                         0.00            0.00   \n",
       "9997                     0.00                         0.00            0.00   \n",
       "9998                     0.00                         0.49            0.00   \n",
       "9999                     0.00                         0.00            0.00   \n",
       "\n",
       "      region  \n",
       "0       0.00  \n",
       "1       0.00  \n",
       "2       0.00  \n",
       "3       0.00  \n",
       "4       0.00  \n",
       "...      ...  \n",
       "9995    0.29  \n",
       "9996    0.29  \n",
       "9997    0.90  \n",
       "9998    0.50  \n",
       "9999    0.66  \n",
       "\n",
       "[10000 rows x 4 columns]"
      ]
     },
     "execution_count": 92,
     "metadata": {},
     "output_type": "execute_result"
    }
   ],
   "source": [
    "X"
   ]
  },
  {
   "cell_type": "code",
   "execution_count": 111,
   "metadata": {},
   "outputs": [],
   "source": [
    "from sklearn.cluster import KMeans \n",
    "from sklearn import metrics \n",
    "from scipy.spatial.distance import cdist \n",
    "\n",
    "distortions = [] #  It is calculated as the average of the squared distances from the cluster centers of the respective clusters.\n",
    "inertias = [] # It is the sum of squared distances of samples to their closest cluster center.\n",
    "mapping1 = {} \n",
    "mapping2 = {} \n",
    "K = range(1,10) \n",
    "  \n",
    "for k in K: \n",
    "    #Building and fitting the model \n",
    "    kmeanModel = KMeans(n_clusters = k).fit(X) \n",
    "    #y_kmeans = kmeanModel.fit(X)     \n",
    "      \n",
    "    distortions.append(sum(np.min(cdist(X, kmeanModel.cluster_centers_, \n",
    "                      'euclidean'),axis=1)) / X.shape[0]) \n",
    "    inertias.append(kmeanModel.inertia_) \n",
    "  \n",
    "    mapping1[k] = sum(np.min(cdist(X, kmeanModel.cluster_centers_, \n",
    "                 'euclidean'),axis=1)) / X.shape[0] \n",
    "    mapping2[k] = kmeanModel.inertia_ "
   ]
  },
  {
   "cell_type": "code",
   "execution_count": 112,
   "metadata": {},
   "outputs": [
    {
     "name": "stdout",
     "output_type": "stream",
     "text": [
      "1 : 0.4838696240078216\n",
      "2 : 0.29096495508202286\n",
      "3 : 0.2351197015139284\n",
      "4 : 0.2047626274369874\n",
      "5 : 0.1887914516424888\n",
      "6 : 0.17853179230389518\n",
      "7 : 0.15208063533017752\n",
      "8 : 0.13927021518496283\n",
      "9 : 0.12941336779827795\n"
     ]
    }
   ],
   "source": [
    "for key,val in mapping1.items(): \n",
    "    print(str(key)+' : '+str(val)) "
   ]
  },
  {
   "cell_type": "code",
   "execution_count": 113,
   "metadata": {},
   "outputs": [
    {
     "data": {
      "image/png": "[encoded data removed]",
      "text/plain": [
       "<Figure size 432x288 with 1 Axes>"
      ]
     },
     "metadata": {
      "needs_background": "light"
     },
     "output_type": "display_data"
    }
   ],
   "source": [
    "plt.plot(K, distortions, 'bx-') \n",
    "plt.xlabel('Values of K') \n",
    "plt.ylabel('Distortion') \n",
    "plt.title('The Elbow Method using Distortion') \n",
    "plt.show() "
   ]
  },
  {
   "cell_type": "code",
   "execution_count": 114,
   "metadata": {},
   "outputs": [
    {
     "name": "stdout",
     "output_type": "stream",
     "text": [
      "1 : 2559.9427716628193\n",
      "2 : 1170.8980267171355\n",
      "3 : 832.0294312517098\n",
      "4 : 652.853918306349\n",
      "5 : 556.6627854617471\n",
      "6 : 441.61357799497824\n",
      "7 : 381.08805668415533\n",
      "8 : 316.49976997049725\n",
      "9 : 268.9290478230743\n"
     ]
    }
   ],
   "source": [
    "for key,val in mapping2.items(): \n",
    "    print(str(key)+' : '+str(val)) "
   ]
  },
  {
   "cell_type": "code",
   "execution_count": 115,
   "metadata": {
    "scrolled": true
   },
   "outputs": [
    {
     "data": {
      "image/png": "[encoded data removed]",
      "text/plain": [
       "<Figure size 432x288 with 1 Axes>"
      ]
     },
     "metadata": {
      "needs_background": "light"
     },
     "output_type": "display_data"
    }
   ],
   "source": [
    "plt.plot(K, inertias, 'bx-') \n",
    "plt.xlabel('Values of K') \n",
    "plt.ylabel('Inertia') \n",
    "plt.title('The Elbow Method using Inertia') \n",
    "plt.show() "
   ]
  },
  {
   "cell_type": "code",
   "execution_count": 123,
   "metadata": {},
   "outputs": [],
   "source": [
    "y_kmeans = pd.DataFrame(kmeanModel.fit_predict(X), columns = ['Cluster'])"
   ]
  },
  {
   "cell_type": "code",
   "execution_count": 124,
   "metadata": {},
   "outputs": [
    {
     "data": {
      "text/html": [
       "<div>\n",
       "<style scoped>\n",
       "    .dataframe tbody tr th:only-of-type {\n",
       "        vertical-align: middle;\n",
       "    }\n",
       "\n",
       "    .dataframe tbody tr th {\n",
       "        vertical-align: top;\n",
       "    }\n",
       "\n",
       "    .dataframe thead th {\n",
       "        text-align: right;\n",
       "    }\n",
       "</style>\n",
       "<table border=\"1\" class=\"dataframe\">\n",
       "  <thead>\n",
       "    <tr style=\"text-align: right;\">\n",
       "      <th></th>\n",
       "      <th>Cluster</th>\n",
       "    </tr>\n",
       "  </thead>\n",
       "  <tbody>\n",
       "    <tr>\n",
       "      <th>0</th>\n",
       "      <td>3</td>\n",
       "    </tr>\n",
       "    <tr>\n",
       "      <th>1</th>\n",
       "      <td>3</td>\n",
       "    </tr>\n",
       "    <tr>\n",
       "      <th>2</th>\n",
       "      <td>3</td>\n",
       "    </tr>\n",
       "    <tr>\n",
       "      <th>3</th>\n",
       "      <td>1</td>\n",
       "    </tr>\n",
       "    <tr>\n",
       "      <th>4</th>\n",
       "      <td>1</td>\n",
       "    </tr>\n",
       "    <tr>\n",
       "      <th>...</th>\n",
       "      <td>...</td>\n",
       "    </tr>\n",
       "    <tr>\n",
       "      <th>9995</th>\n",
       "      <td>1</td>\n",
       "    </tr>\n",
       "    <tr>\n",
       "      <th>9996</th>\n",
       "      <td>4</td>\n",
       "    </tr>\n",
       "    <tr>\n",
       "      <th>9997</th>\n",
       "      <td>7</td>\n",
       "    </tr>\n",
       "    <tr>\n",
       "      <th>9998</th>\n",
       "      <td>0</td>\n",
       "    </tr>\n",
       "    <tr>\n",
       "      <th>9999</th>\n",
       "      <td>0</td>\n",
       "    </tr>\n",
       "  </tbody>\n",
       "</table>\n",
       "<p>10000 rows × 1 columns</p>\n",
       "</div>"
      ],
      "text/plain": [
       "      Cluster\n",
       "0           3\n",
       "1           3\n",
       "2           3\n",
       "3           1\n",
       "4           1\n",
       "...       ...\n",
       "9995        1\n",
       "9996        4\n",
       "9997        7\n",
       "9998        0\n",
       "9999        0\n",
       "\n",
       "[10000 rows x 1 columns]"
      ]
     },
     "execution_count": 124,
     "metadata": {},
     "output_type": "execute_result"
    }
   ],
   "source": [
    "y_kmeans"
   ]
  },
  {
   "cell_type": "code",
   "execution_count": 131,
   "metadata": {},
   "outputs": [],
   "source": [
    "X['Cluster'] = y_kmeans"
   ]
  },
  {
   "cell_type": "code",
   "execution_count": 132,
   "metadata": {},
   "outputs": [
    {
     "data": {
      "text/html": [
       "<div>\n",
       "<style scoped>\n",
       "    .dataframe tbody tr th:only-of-type {\n",
       "        vertical-align: middle;\n",
       "    }\n",
       "\n",
       "    .dataframe tbody tr th {\n",
       "        vertical-align: top;\n",
       "    }\n",
       "\n",
       "    .dataframe thead th {\n",
       "        text-align: right;\n",
       "    }\n",
       "</style>\n",
       "<table border=\"1\" class=\"dataframe\">\n",
       "  <thead>\n",
       "    <tr style=\"text-align: right;\">\n",
       "      <th></th>\n",
       "      <th>DnB Base Year Sales Qty</th>\n",
       "      <th>DnB Bus Total Gross Revenue</th>\n",
       "      <th>Customer Spend</th>\n",
       "      <th>region</th>\n",
       "      <th>Cluster</th>\n",
       "    </tr>\n",
       "  </thead>\n",
       "  <tbody>\n",
       "    <tr>\n",
       "      <th>0</th>\n",
       "      <td>0.00</td>\n",
       "      <td>0.00</td>\n",
       "      <td>0.00</td>\n",
       "      <td>0.00</td>\n",
       "      <td>3</td>\n",
       "    </tr>\n",
       "    <tr>\n",
       "      <th>1</th>\n",
       "      <td>0.00</td>\n",
       "      <td>0.00</td>\n",
       "      <td>0.00</td>\n",
       "      <td>0.00</td>\n",
       "      <td>3</td>\n",
       "    </tr>\n",
       "    <tr>\n",
       "      <th>2</th>\n",
       "      <td>0.00</td>\n",
       "      <td>0.00</td>\n",
       "      <td>0.00</td>\n",
       "      <td>0.00</td>\n",
       "      <td>3</td>\n",
       "    </tr>\n",
       "    <tr>\n",
       "      <th>3</th>\n",
       "      <td>0.59</td>\n",
       "      <td>0.58</td>\n",
       "      <td>0.00</td>\n",
       "      <td>0.00</td>\n",
       "      <td>1</td>\n",
       "    </tr>\n",
       "    <tr>\n",
       "      <th>4</th>\n",
       "      <td>0.64</td>\n",
       "      <td>0.64</td>\n",
       "      <td>0.00</td>\n",
       "      <td>0.00</td>\n",
       "      <td>1</td>\n",
       "    </tr>\n",
       "    <tr>\n",
       "      <th>...</th>\n",
       "      <td>...</td>\n",
       "      <td>...</td>\n",
       "      <td>...</td>\n",
       "      <td>...</td>\n",
       "      <td>...</td>\n",
       "    </tr>\n",
       "    <tr>\n",
       "      <th>9995</th>\n",
       "      <td>0.70</td>\n",
       "      <td>0.68</td>\n",
       "      <td>0.00</td>\n",
       "      <td>0.29</td>\n",
       "      <td>1</td>\n",
       "    </tr>\n",
       "    <tr>\n",
       "      <th>9996</th>\n",
       "      <td>0.00</td>\n",
       "      <td>0.00</td>\n",
       "      <td>0.00</td>\n",
       "      <td>0.29</td>\n",
       "      <td>4</td>\n",
       "    </tr>\n",
       "    <tr>\n",
       "      <th>9997</th>\n",
       "      <td>0.00</td>\n",
       "      <td>0.00</td>\n",
       "      <td>0.00</td>\n",
       "      <td>0.90</td>\n",
       "      <td>7</td>\n",
       "    </tr>\n",
       "    <tr>\n",
       "      <th>9998</th>\n",
       "      <td>0.00</td>\n",
       "      <td>0.49</td>\n",
       "      <td>0.00</td>\n",
       "      <td>0.50</td>\n",
       "      <td>0</td>\n",
       "    </tr>\n",
       "    <tr>\n",
       "      <th>9999</th>\n",
       "      <td>0.00</td>\n",
       "      <td>0.00</td>\n",
       "      <td>0.00</td>\n",
       "      <td>0.66</td>\n",
       "      <td>0</td>\n",
       "    </tr>\n",
       "  </tbody>\n",
       "</table>\n",
       "<p>10000 rows × 5 columns</p>\n",
       "</div>"
      ],
      "text/plain": [
       "      DnB Base Year Sales Qty  DnB Bus Total Gross Revenue  Customer Spend  \\\n",
       "0                        0.00                         0.00            0.00   \n",
       "1                        0.00                         0.00            0.00   \n",
       "2                        0.00                         0.00            0.00   \n",
       "3                        0.59                         0.58            0.00   \n",
       "4                        0.64                         0.64            0.00   \n",
       "...                       ...                          ...             ...   \n",
       "9995                     0.70                         0.68            0.00   \n",
       "9996                     0.00                         0.00            0.00   \n",
       "9997                     0.00                         0.00            0.00   \n",
       "9998                     0.00                         0.49            0.00   \n",
       "9999                     0.00                         0.00            0.00   \n",
       "\n",
       "      region  Cluster  \n",
       "0       0.00        3  \n",
       "1       0.00        3  \n",
       "2       0.00        3  \n",
       "3       0.00        1  \n",
       "4       0.00        1  \n",
       "...      ...      ...  \n",
       "9995    0.29        1  \n",
       "9996    0.29        4  \n",
       "9997    0.90        7  \n",
       "9998    0.50        0  \n",
       "9999    0.66        0  \n",
       "\n",
       "[10000 rows x 5 columns]"
      ]
     },
     "execution_count": 132,
     "metadata": {},
     "output_type": "execute_result"
    }
   ],
   "source": [
    "X"
   ]
  },
  {
   "cell_type": "code",
   "execution_count": 116,
   "metadata": {},
   "outputs": [],
   "source": [
    "import matplotlib.pyplot as plt\n",
    "from mpl_toolkits.mplot3d import Axes3D\n",
    "import pandas as pd\n",
    "import numpy as np"
   ]
  },
  {
   "cell_type": "code",
   "execution_count": 137,
   "metadata": {},
   "outputs": [
    {
     "data": {
      "image/png": "[encoded data removed]",
      "text/plain": [
       "<Figure size 432x288 with 1 Axes>"
      ]
     },
     "metadata": {
      "needs_background": "light"
     },
     "output_type": "display_data"
    }
   ],
   "source": [
    "fig = plt.figure()\n",
    "ax = fig.add_subplot(111, projection='3d')\n",
    "x = np.array(X['DnB Base Year Sales Qty'])\n",
    "y = np.array(X['DnB Bus Total Gross Revenue'])\n",
    "z = np.array(X['Customer Spend'])\n",
    "w = np.array(X['region'])\n",
    "\n",
    "ax.scatter(x,y,z,w, marker=\"s\", c=X[\"Cluster\"], s=40, cmap=\"RdBu\")\n",
    "\n",
    "plt.show()"
   ]
  },
  {
   "cell_type": "code",
   "execution_count": 138,
   "metadata": {},
   "outputs": [],
   "source": [
    "ax.scatter?"
   ]
  }
 ],
 "metadata": {
  "kernelspec": {
   "display_name": "Python 3",
   "language": "python",
   "name": "python3"
  },
  "language_info": {
   "codemirror_mode": {
    "name": "ipython",
    "version": 3
   },
   "file_extension": ".py",
   "mimetype": "text/x-python",
   "name": "python",
   "nbconvert_exporter": "python",
   "pygments_lexer": "ipython3",
   "version": "3.7.3"
  }
 },
 "nbformat": 4,
 "nbformat_minor": 4
}
