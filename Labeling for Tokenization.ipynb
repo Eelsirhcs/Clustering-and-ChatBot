{
 "cells": [
  {
   "cell_type": "code",
   "execution_count": 1,
   "metadata": {},
   "outputs": [],
   "source": [
    "import pandas as pd\n",
    "import re\n",
    "import nltk"
   ]
  },
  {
   "cell_type": "code",
   "execution_count": 2,
   "metadata": {},
   "outputs": [],
   "source": [
    "# read all the datasets\n",
    "df_2014 = pd.read_csv('sample2014.csv')\n",
    "df_2015 = pd.read_csv('sample2015.csv')\n",
    "df_2016 = pd.read_csv('sample2016.csv')\n",
    "df_2017 = pd.read_csv('sample2017.csv')\n",
    "df_2018 = pd.read_csv('sample2018.csv')\n",
    "\n",
    "df = pd.concat([df_2014,df_2015,df_2016,df_2017,df_2018]).reset_index(drop=True)"
   ]
  },
  {
   "cell_type": "code",
   "execution_count": 3,
   "metadata": {},
   "outputs": [
    {
     "data": {
      "text/html": [
       "<div>\n",
       "<style scoped>\n",
       "    .dataframe tbody tr th:only-of-type {\n",
       "        vertical-align: middle;\n",
       "    }\n",
       "\n",
       "    .dataframe tbody tr th {\n",
       "        vertical-align: top;\n",
       "    }\n",
       "\n",
       "    .dataframe thead th {\n",
       "        text-align: right;\n",
       "    }\n",
       "</style>\n",
       "<table border=\"1\" class=\"dataframe\">\n",
       "  <thead>\n",
       "    <tr style=\"text-align: right;\">\n",
       "      <th></th>\n",
       "      <th>Unnamed: 0</th>\n",
       "      <th>accession#</th>\n",
       "      <th>filing_year</th>\n",
       "      <th>principal_risks</th>\n",
       "    </tr>\n",
       "  </thead>\n",
       "  <tbody>\n",
       "    <tr>\n",
       "      <th>0</th>\n",
       "      <td>49664</td>\n",
       "      <td>0001193125-13-488627</td>\n",
       "      <td>2014</td>\n",
       "      <td>it is possible to lose money on an investment ...</td>\n",
       "    </tr>\n",
       "    <tr>\n",
       "      <th>1</th>\n",
       "      <td>49665</td>\n",
       "      <td>0001193125-13-488628</td>\n",
       "      <td>2014</td>\n",
       "      <td>it is possible to lose money on an investment ...</td>\n",
       "    </tr>\n",
       "    <tr>\n",
       "      <th>2</th>\n",
       "      <td>49666</td>\n",
       "      <td>0001193125-13-488629</td>\n",
       "      <td>2014</td>\n",
       "      <td>it is possible to lose money on an investment ...</td>\n",
       "    </tr>\n",
       "    <tr>\n",
       "      <th>3</th>\n",
       "      <td>49667</td>\n",
       "      <td>0001193125-13-488630</td>\n",
       "      <td>2014</td>\n",
       "      <td>it is possible to lose money on an investment ...</td>\n",
       "    </tr>\n",
       "    <tr>\n",
       "      <th>4</th>\n",
       "      <td>49668</td>\n",
       "      <td>0001193125-13-488631</td>\n",
       "      <td>2014</td>\n",
       "      <td>it is possible to lose money on an investment ...</td>\n",
       "    </tr>\n",
       "  </tbody>\n",
       "</table>\n",
       "</div>"
      ],
      "text/plain": [
       "   Unnamed: 0            accession#  filing_year  \\\n",
       "0       49664  0001193125-13-488627         2014   \n",
       "1       49665  0001193125-13-488628         2014   \n",
       "2       49666  0001193125-13-488629         2014   \n",
       "3       49667  0001193125-13-488630         2014   \n",
       "4       49668  0001193125-13-488631         2014   \n",
       "\n",
       "                                     principal_risks  \n",
       "0  it is possible to lose money on an investment ...  \n",
       "1  it is possible to lose money on an investment ...  \n",
       "2  it is possible to lose money on an investment ...  \n",
       "3  it is possible to lose money on an investment ...  \n",
       "4  it is possible to lose money on an investment ...  "
      ]
     },
     "execution_count": 3,
     "metadata": {},
     "output_type": "execute_result"
    }
   ],
   "source": [
    "df.head()"
   ]
  },
  {
   "cell_type": "code",
   "execution_count": 104,
   "metadata": {},
   "outputs": [
    {
     "data": {
      "text/plain": [
       "(81391, 4)"
      ]
     },
     "execution_count": 104,
     "metadata": {},
     "output_type": "execute_result"
    }
   ],
   "source": [
    "df.shape"
   ]
  },
  {
   "cell_type": "code",
   "execution_count": 105,
   "metadata": {},
   "outputs": [],
   "source": [
    "sample_to_label = df.principal_risks.sample(n = 20) "
   ]
  },
  {
   "cell_type": "code",
   "execution_count": 106,
   "metadata": {
    "collapsed": true
   },
   "outputs": [
    {
     "data": {
      "text/plain": [
       "29247    stock market volatility. stock markets are vol...\n",
       "21624    interest rate risk — the income from the insti...\n",
       "20134    as with any mutual fund, the fund may not achi...\n",
       "58335    : risk is inherent in all investing. many fact...\n",
       "69897    there is no assurance that the fund will achie...\n",
       "55467    of investing in the fund an investment in the ...\n",
       "71685    of investing in the fund are summarized below....\n",
       "71815    of investing in the series as with all mutual ...\n",
       "6083     there is no assurance that the fund will achie...\n",
       "75447    the investment program of the fund entails sub...\n",
       "51890    an investment in the fund may lose money, is n...\n",
       "1771     investing in other funds. the fund bears all r...\n",
       "1963     of investing in the fund losing all or a porti...\n",
       "3839     an investment in the fund could lose money ove...\n",
       "53365    there is no assurance that the fund will achie...\n",
       "1494     multiple sub-adviser risk. separate investment...\n",
       "11892    the fund cannot guarantee that it will achieve...\n",
       "28869    the fund cannot assure that it will achieve it...\n",
       "6774     like all investments, investing in the fund en...\n",
       "51721    an investment in the fund may lose money, is n...\n",
       "Name: principal_risks, dtype: object"
      ]
     },
     "execution_count": 106,
     "metadata": {},
     "output_type": "execute_result"
    }
   ],
   "source": [
    "sample_to_label"
   ]
  },
  {
   "cell_type": "markdown",
   "metadata": {},
   "source": [
    "We look at different examples from the dataset to get a better understanding of the types of regex we could use.\n",
    "\n",
    "## example 1:\n",
    "- by · "
   ]
  },
  {
   "cell_type": "code",
   "execution_count": 124,
   "metadata": {
    "scrolled": true
   },
   "outputs": [
    {
     "name": "stdout",
     "output_type": "stream",
     "text": [
      "of investing in the fund as with any mutual fund, there is no guarantee that the fund will achieve its goal.\n",
      "the fund’s returns will vary and you could lose money on your investment in the fund.\n",
      "\n",
      "· emerging market risk .\n",
      "emerging market countries may have relatively unstable governments, weaker economies, and less-developed legal systems with fewer security holder rights.\n",
      "emerging market economies may be based on only a few industries and security issuers may be more susceptible to economic weakness and more likely to default.\n",
      "emerging market securities also tend to be less liquid.\n",
      "\n",
      "· foreign investment risk .\n",
      "foreign investing involves risks not typically associated with u.s. investments, including adverse fluctuations in foreign currency values, adverse political, social and economic developments, less liquidity, greater volatility, political instability and differing auditing and legal standards.\n",
      "\n",
      "· management risk.\n",
      "the portfolio manager’s judgments about the attractiveness, value and potential appreciation of particular stocks, options or other securities in which the fund invests or sells short may prove to be incorrect and there is no guarantee that the portfolio manager’s judgment will produce the desired results.\n",
      "\n",
      "· market risk.\n",
      "overall stock market risks may also affect the value of the fund.\n",
      "factors such as domestic economic growth and market conditions, interest rate levels and political events affect the securities markets.\n",
      "\n",
      "· mlp.\n",
      "investments in mlps involve risks different from those of investing in common stock including risks related to limited control and limited rights to vote on matters affecting the mlp, risks related to potential conflicts of interest between an mlp and the mlp’s general partner, cash flow risks, dilution risks (which could occur if the mlp raises capital and then invests it in projects whose return fails to exceed the cost of capital raised) and risks related to the general partner’s limited call right.\n",
      "mlps are generally considered interest-rate sensitive investments.\n",
      "during periods of interest rate volatility, these investments may not provide attractive returns.\n",
      "depending on the state of interest rates in general, the use of mlps could enhance or harm the overall performance of the fund.\n",
      "\n",
      "· mlp tax risk .\n",
      "mlps, typically, do not pay u.s. federal income tax at the partnership level.\n",
      "instead, each partner is allocated a share of the partnership’s income, gains, losses, deductions and expenses.\n",
      "a change in current tax law or in the underlying business mix of a given mlp could result in an mlp being treated as a corporation for u.s. federal income tax purposes, which would result in such mlp being required to pay u.s. federal income tax on its taxable income.\n",
      "the classification of an mlp as a corporation for u.s. federal income tax purposes would have the effect of reducing the amount of cash available for distribution by the mlp.\n",
      "\n",
      "thus, if any of the mlps owned by the fund were treated as corporations for u.s. federal income tax purposes, it could result in a reduction of the value of your investment in the fund and lower income, as compared to an mlp that is not taxed as a corporation · non-diversification risk.\n",
      "because a relatively high percentage of a non-diversified fund’s assets may be invested in the securities of a limited number of companies that could be in the same or related economic sectors, the fund’s portfolio may be more susceptible to any single economic, technological or regulatory occurrence than the portfolio of a diversified fund.\n",
      "\n",
      "· options risk.\n",
      "there are risks associated with the sale and purchase of call and put options.\n",
      "as the seller (writer) of a put option, the fund will lose money if the value of the security falls below the strike price.\n",
      "as the seller (writer) of a covered call option, the fund assumes the risk of a decline in the market price of the underlying 3 security below the purchase price of the underlying security less the premium received, and gives up the opportunity for gain on the underlying security above the exercise option price.\n",
      "\n",
      "· preferred stock risk .\n",
      "the prices of preferred stock typically respond to interest rate changes, decreasing in value if interest rates rise and increasing in value if interest rates fall.\n",
      "preferred stocks are also subject to credit risk, which is the possibility that an issuer of preferred stock will fail to make its dividend payments.\n",
      "preferred stock prices tend to move upwards more slowly than common stock prices.\n",
      "\n",
      "· reit.\n",
      "the fund is subject to the risks of the real estate market as a whole, such as taxation, regulations and economic and political factors that negatively impact the real estate market and the direct ownership of real estate.\n",
      "these may include decreases in real estate values, overbuilding, rising operating costs, interest rates and property taxes.\n",
      "in addition, some real estate related investments are not fully diversified and are subject to the risks associated with financing a limited number of projects.\n",
      "reits are heavily dependent upon the management team and are subject to heavy cash flow dependency, defaults by borrowers and self-liquidation.\n",
      "\n",
      "· security risk.\n",
      "the value of the fund may decrease in response to the activities and financial prospects of an individual security in the fund’s portfolio.\n",
      "\n",
      "· smaller capitalization stock risk.\n",
      "smaller-sized companies may experience higher failure rates than larger companies.\n",
      "smaller-sized companies normally have a lower trading volume than larger companies, which may tend to make their market price fall more disproportionately than larger companies in response to selling pressures.\n",
      "smaller-sized companies may have limited markets, product lines or financial resources and may lack management experience.\n",
      "\n",
      "· stock market value risk .\n",
      "overall stock market risks may also affect the value of the fund.\n",
      "factors such as domestic economic growth and market conditions, interest rate levels and political events affect the securities markets.\n",
      "\n",
      "· underlying fund risk.\n",
      "other investment companies including mutual funds, etfs and closed-end funds (“underlying funds”) in which the fund invests are subject to investment advisory and other expenses, which will be indirectly paid by the fund.\n",
      "as a result, the cost of investing in the fund will be higher than the cost of investing directly in the underlying funds and may be higher than other mutual funds that invest directly in stocks and bonds.\n",
      "each of the underlying funds is subject to its own specific risks, but the advisor expects the principal investments risks of such underlying funds will be similar to the risks of investing in the fund.\n"
     ]
    }
   ],
   "source": [
    "\n",
    "for sen in nltk.tokenize.sent_tokenize(sample_to_label[46914]):\n",
    "    if re.search('·', sen):\n",
    "        print()\n",
    "        print(sen)\n",
    "    else:\n",
    "        print(sen)"
   ]
  },
  {
   "cell_type": "code",
   "execution_count": 155,
   "metadata": {
    "collapsed": true
   },
   "outputs": [
    {
     "name": "stdout",
     "output_type": "stream",
     "text": [
      "\n",
      "• market risk: the value of the fund’s assets will fluctuate as the stock or bond market fluctuates.\n",
      "the value of its investments may decline, sometimes rapidly and unpredictably, simply because of economic changes or other events that affect large portions of the market.\n",
      "it includes the risk that a particular style of investing, such as growth, may underperform the market generally.\n",
      "\n",
      "• capitalization risk: investments in small- and mid-capitalization companies may be more volatile than investments in large-capitalization companies.\n",
      "investments in small-capitalization companies may have additional risks because these companies have limited product lines, markets or financial resources.\n",
      "\n",
      "• foreign (non-u.s.) risk: investments in securities of non-u.s. issuers may involve more risk than those of u.s. issuers.\n",
      "these securities may fluctuate more widely in price and may be less liquid due to adverse market, economic, political, regulatory or other factors.\n",
      "\n",
      "• derivatives risk: derivatives may be illiquid, difficult to price, and leveraged so that small changes may produce disproportionate losses for the fund, and may be subject to counterparty risk to a greater degree than more traditional investments.\n",
      "\n",
      "• management risk: the fund is subject to management risk because it is an actively-managed investment fund.\n",
      "the adviser will apply its investment techniques and risk analyses in making investment decisions for the fund, but there is no guarantee that its techniques will produce the intended results.\n",
      "as with all investments, you may lose money by investing in the fund.\n"
     ]
    }
   ],
   "source": [
    "for sen in nltk.tokenize.sent_tokenize(sample_to_label[44042]):\n",
    "    if re.search('•', sen):\n",
    "        print()\n",
    "        print(sen)\n",
    "    else:\n",
    "        print(sen)"
   ]
  },
  {
   "cell_type": "code",
   "execution_count": 163,
   "metadata": {
    "collapsed": true
   },
   "outputs": [
    {
     "name": "stdout",
     "output_type": "stream",
     "text": [
      "\n",
      "of investing in the fund, which could adversely affect the fund’s net asset value, yield or total return are (in alphabetical order): ● interest rate risk — the value of the fund’s interest-bearing investments may decline due to an increase in interest rates.\n",
      "in general, the longer a security’s maturity, the greater the interest rate risk.\n",
      "the fund’s yield may decrease due to a decline in interest rates.\n",
      "\n",
      "● liquidity risk — certain securities may be difficult or impossible to sell at the time and the price that would normally prevail in the market.\n",
      "\n",
      "● management risk — there is no guarantee that the investment techniques and risk analyses used by the fund’s portfolio managers will produce the desired results.\n",
      "\n",
      "● market risk — the market value of a security may move up and down, sometimes rapidly and unpredictably.\n",
      "\n",
      "● redemption risk — the risk that heavy redemptions could cause the fund to liquidate its assets at inopportune times or at a loss or depressed value, particularly during periods of declining or illiquid markets, and that could affect the fund’s ability to maintain a $1.00 share price.\n",
      "redemption risk is greater to the extent that the fund has investors with large shareholdings, short investment horizons or unpredictable cash flow needs.\n",
      "the redemption by one or more large shareholders of their holdings in the fund could cause the remaining shareholders in the fund to lose money.\n",
      "\n",
      "● regulatory risk — change in laws or regulations may materially affect a security, business, sector or market.\n",
      "regulatory risk also includes the risk associated with federal and state laws which may restrict the remedies that a lender has when a borrower defaults on loans.\n",
      "to the extent that the fund makes investments with additional risks, those risks could increase volatility or reduce performance.\n",
      "the fund may trade securities actively, which could increase its transaction costs (thus lowering performance) and may increase the amount of taxes that you pay.\n",
      "for more information about these risks, please refer to the section titled “investment practices and risks” in the fund’s prospectus.\n"
     ]
    }
   ],
   "source": [
    "for sen in nltk.tokenize.sent_tokenize(sample_to_label[63658]):\n",
    "    if re.search('●', sen):\n",
    "        print()\n",
    "        print(sen)\n",
    "    else:\n",
    "        print(sen)"
   ]
  },
  {
   "cell_type": "code",
   "execution_count": 165,
   "metadata": {
    "collapsed": true
   },
   "outputs": [
    {
     "name": "stdout",
     "output_type": "stream",
     "text": [
      "\n",
      "the portfolio is designed for investors with a low tolerance for risk; however, the portfolio is subject to the following risks, which could affect the portfolio’s performance: • income risk , which is the chance that the portfolio’s income will decline because of falling interest rates.\n",
      "because the portfolio’s income is based on short-term interest rates—which can fluctuate significantly over short periods—income risk is expected to be high.\n",
      "\n",
      "• manager risk, which is the chance that poor security selection will cause the portfolio to underperform relevant benchmarks or other funds with a similar investment objective.\n",
      "\n",
      "• credit risk, which is the chance that the issuer of a security will fail to pay interest and principal in a timely manner, or that negative perceptions of the issuer’s ability to make such payments will cause the price of that security to decline.\n",
      "credit risk should be very low for the portfolio because it invests primarily in securities that are considered to be of high quality.\n",
      "\n",
      "2 • industry concentration risk , which is the chance that there will be overall problems affecting a particular industry.\n",
      "because the portfolio invests more than 25% of its assets in securities issued by companies in the financial services industry, the portfolio’s performance depends to a greater extent on the overall condition of that industry and is more susceptible to events affecting that industry.\n",
      "an investment in the portfolio is not a deposit of a bank and is not insured or guaranteed by the federal deposit insurance corporation or any other government agency.\n",
      "although the portfolio seeks to preserve the value of your investment at $1 per share, it is possible to lose money by investing in the portfolio.\n"
     ]
    }
   ],
   "source": [
    "for sen in nltk.tokenize.sent_tokenize(sample_to_label[3699]):\n",
    "    if re.search('•', sen):\n",
    "        print()\n",
    "        print(sen)\n",
    "    else:\n",
    "        print(sen)"
   ]
  },
  {
   "cell_type": "markdown",
   "metadata": {},
   "source": [
    "## example 2\n",
    "- by -"
   ]
  },
  {
   "cell_type": "code",
   "execution_count": 123,
   "metadata": {
    "collapsed": true
   },
   "outputs": [
    {
     "name": "stdout",
     "output_type": "stream",
     "text": [
      "there are risks involved with any investment.\n",
      "the principal risks associated with an investment in the fund, which could adversely affect its net asset value, yield and return, are set forth below.\n",
      "please see the section “further information about principal risks” in this prospectus for a more detailed discussion of these risks and other factors you should carefully consider before deciding to invest in the fund.\n",
      "page 2 meridian funds | www.meridianfund.com meridian growth fund link to prospectus link to sai an investment in the fund may lose money and is not a deposit of a bank or insured or guaranteed by the federal deposit insurance corporation or any other governmental agency.\n",
      "\n",
      "investment strategy risk — the investment adviser uses the fund’s principal investment strategies and other investment strategies to seek to achieve the fund’s investment objective of long-term growth of capital.\n",
      "there is no assurance that the investment adviser’s investment strategies or securities selection method will achieve that investment objective.\n",
      "\n",
      "equity securities risk — equity securities fluctuate in price and value in response to many factors including historical and prospective earnings of the issuer and its financial condition, the value of its assets, general economic conditions, interest rates, investors’ perceptions and market liquidity.\n",
      "\n",
      "market risk — the value of the fund’s investments will fluctuate in response to the activities of individual companies and general stock market and economic conditions.\n",
      "as a result, the value of your investment in the fund may be more or less than your purchase price.\n",
      "\n",
      "growth securities risk — because growth securities typically trade at a higher multiple of earnings than other types of securities, the market values of growth securities may be more sensitive to changes in current or expected earnings than the market values of other types of securities.\n",
      "in addition, growth securities, at times, may not perform as well as value securities or the stock market in general, and may be out of favor with investors for varying periods of time.\n",
      "\n",
      "small and medium company risk — generally, the smaller the capitalization of a company, the greater the risk associated with an investment in the company.\n",
      "the stock prices of small- and mid-capitalization and newer companies tend to fluctuate more than those of larger capitalized and/or more established companies and generally have a smaller market for their shares than do large capitalization companies.\n",
      "\n",
      "foreign securities risk — investments in foreign securities may be subject to more risks than those associated with u.s. investments, including currency fluctuations, political and economic instability and differences in accounting, auditing and financial reporting standards.\n",
      "foreign securities may be less liquid than domestic securities so that the fund may, at times, be unable to sell foreign securities at desirable times or prices.\n",
      "in addition, emerging market securities involve greater risk and more volatility than those of companies in more developed markets.\n",
      "significant levels of foreign taxes are also a risk related to foreign investments.\n",
      "\n",
      "sector concentration risk — the fund may concentrate its investments in companies that are in a single sector or related sector.\n",
      "concentrating investments in a single sector may make the fund more susceptible to adverse economic, business, regulatory or other developments affecting that sector.\n",
      "if an economic downturn occurs in a sector in which the fund’s investments are concentrated, the fund may perform poorly during that period.\n",
      "the fund anticipates it will typically invest a significant portion of its assets in the information technology (it) sector, the industrials sector and the consumer discretionary sector, therefore, the fund’s performance could be negatively impacted by events affecting these sectors.\n",
      "the information technology sector includes, for example, internet, semiconductor, software, hardware, and technology equipment companies.\n",
      "the it sector may be adversely affected by, among other things, the supply and demand for specific products and services, the pace of technological development, and government regulation.\n",
      "the industrials sector may be adversely affected by, among other things, changes in the supply of and demand for products and services, product obsolescence, claims for environmental damage or product liability and general economic conditions.\n",
      "the consumer discretionary sector depends heavily on disposable household income and consumer spending and may be adversly affected by, among other things, social trends and marketing campaigns.\n",
      "\n",
      "securities lending risk — the fund may engage in securities lending.\n",
      "securities lending involves the risk that the fund may lose money because the borrower of the loaned securities fails to return the securities in a timely manner or at all.\n",
      "the fund could also lose money in the event of a decline in the value of collateral provided for loaned securities or a decline in the value of any investments made with cash collateral.\n",
      "these events could also trigger adverse tax consequences for the fund.\n",
      "page 3 meridian funds | www.meridianfund.com meridian growth fund link to prospectus link to sai\n"
     ]
    }
   ],
   "source": [
    "for sen in nltk.tokenize.sent_tokenize(sample_to_label[77357]):\n",
    "    if re.search('risk —', sen):\n",
    "        print()\n",
    "        print(sen)\n",
    "    else:\n",
    "        print(sen)"
   ]
  },
  {
   "cell_type": "code",
   "execution_count": 161,
   "metadata": {
    "collapsed": true
   },
   "outputs": [
    {
     "name": "stdout",
     "output_type": "stream",
     "text": [
      "the value of your investment in this fund will change daily.\n",
      "you could lose money by investing in the fund.\n",
      "an investment in the fund is not a deposit of a bank and is not insured or guaranteed by the federal deposit insurance corporation or any other government agency.\n",
      "\n",
      "the principal risks of investing in the fund, listed alphabetically, include: commodities risk —commodities markets historically have been extremely volatile, and the performance of securities and other instruments that provide exposure to those markets therefore also may be highly volatile.\n",
      "\n",
      "credit risk —credit risk is the risk that an issuer of a debt security may be unable or unwilling to make interest and principal payments when due and the related risk that the value of a debt security may decline because of concerns about the issuer’s ability or willingness to make such payments.\n",
      "\n",
      "currency risk —changes in currency exchange rates will affect the value of non-u.s. dollar denominated securities, the value of dividends and interest earned from such securities, gains and losses realized on the sale of such securities, derivative transactions tied to such securities, and etfs designed to provide exposure to currencies.\n",
      "a strong u.s. dollar relative to these other currencies will adversely affect the value of the fund’s portfolio.\n",
      "\n",
      "derivatives risk —the use of derivatives involves additional risks and transaction costs which could leave the fund in a worse position than if it had not used these instruments.\n",
      "derivative instruments can be used to acquire or to transfer the risk and returns of a security or other asset without buying or selling the security or asset.\n",
      "these instruments may entail investment exposures that are greater than their cost would suggest.\n",
      "as a result, a small investment in derivatives can result in losses that greatly exceed the original investment.\n",
      "derivatives can be highly volatile, illiquid and difficult to value.\n",
      "a derivative transaction also involves the risk that a loss may be sustained as a result of the failure of the counterparty to the contract to make required payments.\n",
      "\n",
      "equity security risk —equity securities may decline significantly in price over short or extended periods of time, and such declines may occur because of declines in the equity market as a whole, or because of declines in only a particular country, company, industry, or sector of the market.\n",
      "\n",
      "etf risk —an etf is subject to the risks of the underlying securities that it holds.\n",
      "in addition, for index-based etfs, the performance of an etf may diverge from the performance of such index (commonly known as tracking error).\n",
      "etfs are subject to fees and expenses (like management fees and operating expenses) that do not apply to an index, and the fund will indirectly bear its proportionate share of any such fees and expenses paid by the etfs in which it invests.\n",
      "\n",
      "frequent trading risk —frequent trading of portfolio securities may produce capital gains, which are taxable to shareholders when distributed.\n",
      "frequent trading may also increase the amount of commissions or mark-ups to broker-dealers that the fund pays when it buys and sells securities, which may detract from the fund’s performance.\n",
      "\n",
      "high yield securities risk —high yield securities, which are rated below investment grade and commonly referred to as “junk” bonds, are high risk investments that may cause income and principal losses for the fund.\n",
      "they generally have greater credit risk, are less liquid and have more volatile prices than investment grade securities.\n",
      "\n",
      "index methodology risk —there can be no assurance that the u.s. or any foreign inflation index will accurately measure the real rate of inflation in the prices of goods and services.\n",
      "\n",
      "interest rate risk —interest rate risk is the risk that the value of the fund’s portfolio will decline because of rising interest rates.\n",
      "the fund may be subject to a greater risk of rising interest rates than would normally be the case due to the current period of historically low rates and the effect of potential government fiscal policy initiatives and resulting market reaction to those initiatives.\n",
      "when interest rates change, the values of longer-duration debt securities usually change more than the values of shorter-duration debt securities.\n",
      "\n",
      "mortgage- and asset-backed securities risk —these securities generally can be prepaid at any time, and prepayments that occur either more quickly or more slowly than expected can adversely impact the value of such securities.\n",
      "they are also subject to extension risk, which is the risk that rising interest rates could cause mortgages or other obligations underlying the securities to be prepaid more slowly than expected, thereby lengthening the nuveen investments 3 duration of such securities, increasing their sensitivity to interest rate changes and causing their prices to decline.\n",
      "a mortgage-backed security may be negatively affected by the quality of the mortgages underlying such security, the credit quality of its issuer or guarantor, and the nature and structure of its credit support.\n",
      "\n",
      "non-u.s./emerging markets risk —non-u.s. issuers or u.s. issuers with significant non-u.s. operations may be subject to risks in addition to those of issuers located in or that principally operate in the united states as a result of, among other things, political, social and economic developments abroad and different legal, regulatory and tax environments.\n",
      "these additional risks may be heightened for securities of issuers located in, or with significant operations in, emerging market countries.\n",
      "political and economic risks —the values of municipal securities may be adversely affected by local political and economic conditions and developments.\n",
      "adverse conditions in an industry significant to a local economy could have a correspondingly adverse effect on the financial condition of local issuers.\n",
      "\n",
      "real estate investment risk —the real estate industry has been subject to substantial fluctuations and declines on a local, regional and national basis in the past and may continue to be in the future.\n",
      "also, the value of real estate-related investments can be hurt by economic downturns or by changes in real estate values, rents, property taxes, interest rates, tax treatment or regulations.\n",
      "\n",
      "smaller company risk —small-cap stocks involve substantial risk.\n",
      "prices of small-cap stocks may be subject to more abrupt or erratic movements, and to wider fluctuations, than stock prices of larger, more established companies or the market averages in general.\n",
      "it may be difficult to sell small-cap stocks at the desired time and price.\n",
      "while mid-cap stocks may be slightly less volatile than small-cap stocks, they still involve similar risks.\n",
      "\n",
      "statistical method risk —the fund attempts to keep its daily volatility within a specified range using a proprietary statistical method.\n",
      "there can be no assurance that this method will perform as anticipated or enable the fund to achieve its objective.\n"
     ]
    }
   ],
   "source": [
    "for sen in nltk.tokenize.sent_tokenize(sample_to_label[13571]):\n",
    "    if re.search('risk —', sen):\n",
    "        print()\n",
    "        print(sen)\n",
    "    else:\n",
    "        print(sen)"
   ]
  },
  {
   "cell_type": "markdown",
   "metadata": {},
   "source": [
    "## example 3\n",
    "- by ª"
   ]
  },
  {
   "cell_type": "code",
   "execution_count": 126,
   "metadata": {
    "collapsed": true
   },
   "outputs": [
    {
     "name": "stdout",
     "output_type": "stream",
     "text": [
      ": depending on the circumstances, there is always the risk that you could lose all or a portion of your investment in the fund.\n",
      "\n",
      "the following risks could also affect the value of your investment in the fund: ª interest rates.\n",
      "because the fund invests principally in debt securities, the income on and value of your shares in the fund will fluctuate along with interest rates.\n",
      "when interest rates rise, the market prices of the debt securities the fund owns usually decline.\n",
      "when interest rates fall, the prices of these securities usually increase.\n",
      "generally, the market price of debt securities with longer maturities will fluctuate more in response to changes in interest rates than the market price of shorter-term securities.\n",
      "interest rates have been historically low, so the fund faces a heightened risk that interest rates may rise.\n",
      "the negative impact on fixed income securities resulting from such rate increases could be swift and significant.\n",
      "a general rise in interest rates may cause investors to move out of fixed income securities on a large scale, which could adversely affect the price and liquidity of fixed income securities and could also result in increased redemptions from the fund.\n",
      "\n",
      "ª credit risk.\n",
      "debt securities are also subject to credit risk.\n",
      "credit risk is the risk that the issuer of a debt security will be unable to make interest or principal payments on time and the related risk that the value of a debt security may decline because of concerns about the issuer’s ability or willingness to make such payments.\n",
      "a debt security’s credit rating reflects the credit risk associated with the debt obligation.\n",
      "generally, higher-rated debt securities involve lower credit risk than lower-rated debt securities.\n",
      "credit risk is often higher for corporate, mortgage-backed, asset-backed and foreign government debt securities than for u.s. government debt securities.\n",
      "\n",
      "payden mutual funds 2 payden emerging markets corporate bond fund ª foreign investments.\n",
      "investing in foreign securities poses additional risks.\n",
      "the performance of foreign securities can be adversely affected by the different political, regulatory and economic environments in countries where the fund invests, and fluctuations in foreign currency exchange rates may also adversely affect the value of foreign securities.\n",
      "the value of the fund’s investments may decline because of factors affecting the particular issuer as well as foreign markets and issuers generally, such as unfavorable or unsuccessful government actions, reduction of government or central bank support and political or financial instability.\n",
      "lack of information may also affect the value, volatility and liquidity of these securities.\n",
      "\n",
      "ª emerging markets.\n",
      "the risks of foreign investing are heightened for securities of issuers in emerging market countries.\n",
      "emerging market countries tend to have economic structures that are less diverse and mature, and political systems that are less stable, than those of developed countries.\n",
      "in addition to all of the risks of investing in foreign developed markets, emerging markets are more susceptible to governmental interference, local taxes being imposed on foreign investments, restrictions on gaining access to sales proceeds, and less liquid and efficient trading markets.\n",
      "\n",
      "ª market events risk .\n",
      "over the past several years, financial markets, such as those in the united states, europe, asia and elsewhere, have experienced increased volatility, depressed valuations, decreased liquidity and heightened uncertainty.\n",
      "governmental and non-governmental issuers have defaulted on, or been forced to restructure, their debts.\n",
      "these conditions may continue, recur, worsen or spread.\n",
      "the u.s. government and the federal reserve, as well as certain foreign governments and central banks, have taken steps to support financial markets, including by keeping interest rates at historically low levels.\n",
      "this and other government intervention may not work as intended, particularly if the efforts are perceived by investors as being unlikely to achieve the desired results.\n",
      "the federal reserve recently has reduced its market support activities.\n",
      "further reduction or withdrawal of federal reserve or other u.s. or non-u.s. governmental or central bank support, including interest rate increases, could negatively affect the financial markets generally, increase market volatility and reduce the value and liquidity of certain securities held by the fund.\n",
      "\n",
      "ª liquidity risk .\n",
      "some investments may be difficult to purchase or sell, particularly during times of market instability.\n",
      "in addition, the fund may not receive proceeds from the sale of certain securities for an extended period of time, which in some cases could exceed several weeks or longer.\n",
      "the fund will not receive sales proceeds until settlement occurs, which may constrain the fund’s ability to meet redemption requests or other obligations.\n",
      "illiquid assets may also be difficult to value.\n",
      "if the fund must sell illiquid assets to meet redemption requests or other cash needs, the fund may be unable to sell such assets at an advantageous time or price or achieve its desired level of exposure to certain market segments.\n",
      "liquidity risk may result from the lack of an active market, as well as the reduced number and capacity of traditional market participants to make a market in fixed income securities.\n",
      "liquidity risk is likely to be magnified in a rising interest rate environment or other circumstances where investor redemptions from fixed income mutual funds are higher than normal.\n",
      "\n",
      "ª below investment grade credit.\n",
      "below investment grade securities (commonly called “junk bonds”) are speculative and involve a greater risk of default and price change due to changes in the issuer’s creditworthiness.\n",
      "the market prices of these debt securities may fluctuate more than the market prices of investment grade debt securities and may decline more significantly in periods of general economic difficulty.\n",
      "\n",
      "ª derivatives.\n",
      "the use of derivatives can lead to losses due to: (1) adverse movements in the price or value of the asset, index, rate or instrument underlying a derivative; (2) failure of a counterparty; or (3) tax or regulatory constraints.\n",
      "derivatives may create economic leverage in the fund, which magnifies the fund’s sensitivity to market events and the underlying instrument.\n",
      "derivatives risk may be more significant when derivatives are used to enhance return or as a substitute for a cash investment position, rather than solely to hedge the risk of a position held by the fund.\n",
      "when derivatives are used to gain or limit exposure to a particular market or market segment, their performance may not correlate as expected to the performance of such market thereby causing the fund to fail to achieve its original purpose for using such derivatives.\n",
      "a decision as to whether, when and how to use derivatives involves the exercise of specialized skill and judgment, and a transaction may be unsuccessful in whole or in part because of market behavior or unexpected events.\n",
      "derivative instruments may be difficult to value, may be illiquid, and may be subject to wide swings in valuation caused by changes in the value of the underlying instrument.\n",
      "if a derivative’s counterparty is unable to honor its commitments, the value of fund shares may decline and the fund could experience delays in the return of collateral or other assets held by the counterparty.\n",
      "the loss on derivative transactions may substantially exceed the initial investment.\n",
      "\n",
      "ª equity securities.\n",
      "investing in equity securities poses certain risks, including a sudden decline in a holding’s share price, or an overall decline in the stock market.\n",
      "the value of the fund’s investment in any such securities will fluctuate on a day-to-day basis with movements in the stock market, as well as in response to the activities of individual companies whose equity securities the fund owns.\n",
      "moreover, purchasing stocks perceived to be undervalued brings additional risks.\n",
      "for example, the issuing company’s condition may worsen instead of improve, or the pace and extent of any improvement may be less than expected.\n",
      "\n",
      "3 payden mutual funds payden emerging markets corporate bond fund ª investment company and exchange-traded fund risk.\n",
      "investing in an investment company or etf presents the risk that the investment company or etf in which the fund invests will not achieve its investment objective or execute its investment strategies effectively or that significant purchase or redemption activity by shareholders of such an investment company might negatively affect the value of the investment company’s shares.\n",
      "\n",
      "ª affiliated fund risk.\n",
      "when the adviser invests fund assets in an investment company that is also managed by the adviser, the risk presented is that, due to its own financial interest or other business considerations, the adviser may have had an incentive to make that investment in lieu of investments by the fund directly in portfolio securities, or in lieu of investment in investment companies sponsored or managed by others.\n",
      "\n",
      "ª redemption risk .\n",
      "the fund may experience heavy redemptions that could cause the fund to liquidate its assets at inopportune times or at a loss or depressed value, particularly during periods of declining or illiquid markets.\n",
      "redemption risk is greater to the extent that the fund has investors with large shareholdings, short investment horizons, or unpredictable cash flow needs.\n",
      "in addition, redemption risk is heightened during periods of overall market turmoil.\n",
      "the redemption by one or more large shareholders of their holdings in the fund could adversely affect the fund’s performance.\n",
      "if the fund is forced to liquidate its assets under unfavorable conditions or at inopportune times, the value of the fund’s shares may decline.\n",
      "\n",
      "ª management risk .\n",
      "the investment techniques and analysis used by the fund’s portfolio managers may not produce the desired results.\n"
     ]
    }
   ],
   "source": [
    "for sen in nltk.tokenize.sent_tokenize(sample_to_label[55405]):\n",
    "    if re.search('ª', sen):\n",
    "        print()\n",
    "        print(sen)\n",
    "    else:\n",
    "        print(sen)"
   ]
  },
  {
   "cell_type": "markdown",
   "metadata": {},
   "source": [
    "## example 4\n",
    "- by short key phrases as a sentence: for example 'risk .'"
   ]
  },
  {
   "cell_type": "code",
   "execution_count": 156,
   "metadata": {
    "collapsed": true
   },
   "outputs": [
    {
     "name": "stdout",
     "output_type": "stream",
     "text": [
      ": you can lose money by investing in the fund.\n",
      "there is no guarantee that the fund will meet its investment objective.\n",
      "the fund is intended for investors who: n are seeking an investment that offers a high level of current income, n are willing to accept a high degree of credit risk and market volatility, and n have a long-term investment horizon and are able to ride out market cycles.\n",
      "here are the principal risks of investing in the fund: credit risk .\n",
      "this is the risk that an issuer of bonds and other debt securities, including syndicated bank loans, will be unable to pay interest or principal when due.\n",
      "the price of bonds and other debt securities are affected by the credit quality of the issuer.\n",
      "\n",
      "floating rate loan risk .\n",
      "the value of any collateral securing a floating rate loan may decline, be insufficient to meet the obligations of the borrower, or be difficult or costly to liquidate.\n",
      "in the event of a default, the fund may have difficulty collecting on any collateral and a floating rate loan can decline significantly in value.\n",
      "the fund’s access to collateral may also be limited by bankruptcy or other insolvency laws.\n",
      "if a floating rate loan is acquired through an assignment, the fund may not be able to unilaterally enforce all rights and remedies under the loan and with regard to any associated collateral.\n",
      "in addition, high yield floating rate loans usually are more credit sensitive than interest rate sensitive, although the value of these instruments may be affected by interest rate swings in the overall fixed income market.\n",
      "\n",
      "high yield securities risk .\n",
      "high yield bonds and other types of high yield debt securities, including syndicated bank loans, have greater credit risk than higher quality debt securities because the companies that issue them are not as financially strong as companies with investment grade ratings.\n",
      "high yield securities, commonly referred to as junk bonds, are considered to be inherently speculative due to the risk associated with the issuer’s continuing ability to make principal and interest payments.\n",
      "during times of economic downturn, issuers of high yield debt securities may not have the ability to access the credit markets to refinance their bonds or meet other credit obligations.\n",
      "\n",
      "2 interest rate risk .\n",
      "in general, when interest rates rise, the market value of a debt security declines, and when interest rates decline, the market value of a debt security increases.\n",
      "as of the date of this prospectus, interest rates are at or near historic lows, which may increase the fund’s exposure to the risks associated with rising interest rates.\n",
      "securities with longer maturities are generally more sensitive to interest rate changes as are securities with higher credit ratings.\n",
      "\n",
      "liquidity risk .\n",
      "high yield debt securities tend to be less liquid than higher quality debt securities, meaning that it may be difficult to sell high yield debt securities at a reasonable price or at a particular time.\n",
      "assignments of syndicated bank loans may be less liquid at times, because of potential delays in the settlement process or restrictions on resale.\n",
      "\n",
      "market risk .\n",
      "the entire high yield bond market can experience sharp price swings due to a variety of factors, including changes in economic forecasts, stock market volatility, large sustained sales of high yield bonds by major investors, high-profile defaults or the market’s psychology.\n",
      "this degree of volatility in the high yield market is usually associated more with stocks than bonds.\n",
      "adverse market events may lead to increased redemptions, which could cause the fund to experience a loss when selling securities to meet redemption requests by shareholders.\n",
      "\n",
      "security selection risk .\n",
      "securities selected by the portfolio manager may perform differently than the overall market or may not meet the portfolio manager’s expectations.\n",
      "an investment in the fund is not a bank deposit and is not insured or guaranteed by the federal deposit insurance corporation or any other government agency.\n"
     ]
    }
   ],
   "source": [
    "for sen in nltk.tokenize.sent_tokenize(sample_to_label[17651]):\n",
    "    if re.search('risk', sen) and len(sen.split(' '))<=5:\n",
    "        print()\n",
    "        print(sen)\n",
    "    else:\n",
    "        print(sen)"
   ]
  },
  {
   "cell_type": "code",
   "execution_count": 157,
   "metadata": {
    "collapsed": true
   },
   "outputs": [
    {
     "name": "stdout",
     "output_type": "stream",
     "text": [
      "\" section).\n",
      "it is expected that some of the fund's portfolio securities would not qualify as an eligible investment for a money market fund.\n",
      "main risks there are several risk factors that could hurt the fund's performance, cause you to lose money or cause the fund's performance to trail that of other investments.\n",
      "the fund may not achieve its investment objective, and is not intended to be a complete investment program.\n",
      "an investment in the fund is not a deposit of a bank and is not insured or guaranteed by the federal deposit insurance corporation or any other governmental agency.\n",
      "\n",
      "interest rate risk.\n",
      "when interest rates rise, prices of debt securities generally decline.\n",
      "the fund may be subject to a greater risk of rising interest rates due to the current period of historically low rates.\n",
      "the longer the duration of the fund's debt securities, the more sensitive it will be to interest rate changes.\n",
      "(as a general rule, a 1% rise in interest rates means a 1% fall in value for every year of duration.)\n",
      "a low interest rate environment may prevent the fund from providing a positive yield or paying fund expenses out of current income.\n",
      "\n",
      "credit risk.\n",
      "the fund's performance could be hurt if an issuer of a debt security suffers an adverse change in financial condition that results in the issuer not making timely payments of interest or principal, a security downgrade or an inability to meet a financial obligation.\n",
      "for securities that rely on third-party guarantors to support their credit quality, the same risks may apply if the financial condition of the guarantor deteriorates or the guarantor ceases to insure securities.\n",
      "because guarantors may insure many types of securities, including subprime mortgage bonds and other high-risk bonds, their financial condition could deteriorate as a result of events that have little or no connection to securities owned by the fund.\n",
      "some securities issued by us government agencies or instrumentalities are backed by the full faith and credit of the us government.\n",
      "other securities that are supported only by the credit of the issuing agency or instrumentality are subject to greater credit risk than securities backed 2 deutsche ultra-short investment grade fund summary prospectus december 1, 2017 by the full faith and credit of the us government.\n",
      "this is because the us government might provide financial support, but has no obligation to do so, if there is a potential or actual loss of principal or failure to make interest payments.\n",
      "\n",
      "prepayment and extension risk.\n",
      "when interest rates fall, issuers of high interest debt obligations may pay off the debts earlier than expected (prepayment risk), and the fund may have to reinvest the proceeds at lower yields.\n",
      "when interest rates rise, issuers of lower interest debt obligations may pay off the debts later than expected (extension risk), thus keeping the fund's assets tied up in lower interest debt obligations.\n",
      "ultimately, any unexpected behavior in interest rates could increase the volatility of the fund's share price and yield and could hurt fund performance.\n",
      "prepayments could also create capital gains tax liability in some instances.\n",
      "\n",
      "market risk.\n",
      "although individual securities may outperform the market, the entire market may decline as a result of rising interest rates, regulatory developments or deteriorating economic conditions.\n",
      "\n",
      "repurchase agreement risk.\n",
      "if the party that sells the securities to the fund defaults on its obligation to repurchase them at the agreed-upon time and price, the fund could lose money.\n",
      "\n",
      "liquidity risk.\n",
      "in certain situations, it may be difficult or impossible to sell an investment and/or the fund may sell certain investments at a price or time that is not advantageous in order to meet redemption requests or other cash needs.\n",
      "unusual market conditions, such as an unusually high volume of redemptions or other similar conditions could increase liquidity risk for the fund.\n",
      "\n",
      "pricing risk.\n",
      "if market conditions make it difficult to value some investments, the fund may value these investments using more subjective methods, such as fair value pricing.\n",
      "in such cases, the value determined for an investment could be different from the value realized upon such investment's sale.\n",
      "as a result, you could pay more than the market value when buying fund shares or receive less than the market value when selling fund shares.\n",
      "\n",
      "security selection risk.\n",
      "the securities in the fund's portfolio may decline in value.\n",
      "portfolio management could be wrong in its analysis of industries, companies, economic trends, the relative attractiveness of different securities or other matters.\n",
      "\n",
      "focus risk.\n",
      "to the extent that the fund focuses its investments in particular industries, asset classes or sectors of the economy, any market price movements, regulatory or technological changes, or economic conditions affecting companies in those industries, asset classes or sectors may have a significant impact on the fund's performance.\n",
      "the fund may have significant exposure to obligations of banks and other financial institutions and industrial issuers and market price movements, regulatory or technological changes, or economic conditions affecting such issuers could significantly impact the fund's performance.\n",
      "\n",
      "municipal securities risk.\n",
      "the fund could be impacted by events in the municipal securities market, including the supply and demand for municipal securities.\n",
      "negative events, such as severe fiscal difficulties, bankruptcy of one or more issuers, an economic downturn, unfavorable legislation, court rulings or political developments, or reduced monetary support from the federal government could hurt fund performance.\n",
      "\n",
      "counterparty risk.\n",
      "a financial institution or other counterparty with whom the fund does business, or that underwrites, distributes or guarantees any investments or contracts that the fund owns or is otherwise exposed to, may decline in financial health and become unable to honor its commitments.\n",
      "this could cause losses for the fund or could delay the return or delivery of collateral or other assets to the fund.\n",
      "\n",
      "foreign investment risk.\n",
      "the fund faces the risks inherent in foreign investing.\n",
      "adverse political, economic or social developments could undermine the value of the fund's investments or prevent the fund from realizing the full value of its investments.\n",
      "financial reporting standards for companies based in foreign markets differ from those in the us.\n",
      "additionally, foreign securities markets generally are smaller and less liquid than us markets.\n",
      "\n",
      "securities lending risk.\n",
      "any decline in the value of a portfolio security that occurs while the security is out on loan is borne by the fund and will adversely affect performance.\n",
      "also, there may be delays in recovery of securities loaned or even a loss of rights in the collateral should the borrower of the securities fail financially while holding the security.\n",
      "\n",
      "operational and technology risk.\n",
      "cyber-attacks, disruptions, or failures that affect the fund's service providers or counterparties, issuers of securities held by the fund, or other market participants may adversely affect the fund and its shareholders, including by causing losses for the fund or impairing fund operations.\n"
     ]
    }
   ],
   "source": [
    "# example\n",
    "for sen in nltk.tokenize.sent_tokenize(sample_to_label[48597]):\n",
    "    if re.search('risk', sen) and len(sen.split(' '))<=5:\n",
    "        print()\n",
    "        print(sen)\n",
    "    else:\n",
    "        print(sen)"
   ]
  },
  {
   "cell_type": "code",
   "execution_count": 187,
   "metadata": {
    "collapsed": true
   },
   "outputs": [
    {
     "name": "stdout",
     "output_type": "stream",
     "text": [
      "you could lose money by investing in the fund.\n",
      "although the fund seeks to preserve the value of your investment at $1.00 per share, it cannot guarantee it will do so.\n",
      "an investment in the fund is not a deposit of a bank and is not insured or guaranteed by the federal deposit insurance corporation or any other government agency.\n",
      "the fund’s sponsor has no legal obligation to provide financial support to the fund, and you should not expect that the sponsor will provide financial support to the fund at any time.\n",
      "western asset institutional government reserves 3 if one or more money market funds were to incur a sizeable loss or impose fees on redemptions or suspend redemptions, there could be significant redemptions from money market funds in general, potentially driving the market prices of money market instruments down and adversely affecting market liquidity.\n",
      "the fund does not currently intend to avail itself of the ability to impose “liquidity fees” and/or “gates” on fund redemptions, as permitted under rule 2a-7.\n",
      "however, the board reserves the right, with notice to shareholders, to change this policy, thereby permitting the fund to impose such fees and gates in the future.\n",
      "the fund could underperform other short-term debt instruments or money market funds, or you could lose money, as a result of risks such as: market and interest rate risk.\n",
      "the market prices of the fund’s securities may go up or down, sometimes rapidly or unpredictably, due to general market conditions, such as real or perceived adverse economic or political conditions, inflation, changes in interest rates, lack of liquidity in the bond markets or adverse investor sentiment.\n",
      "while the fund seeks to maintain a $1.00 share price, if the market price of the fund’s securities fall, the value of your investment could decline.\n",
      "market prices will generally go down when interest rates rise.\n",
      "a rise in rates tends to have a greater impact on the prices of longer term securities.\n",
      "interest rates have been historically low but have begun to rise, so the fund faces a heightened risk that interest rates may continue to rise.\n",
      "a general rise in interest rates may cause investors to move out of fixed income securities on a large scale, which could adversely affect the price and liquidity of fixed income securities and could also result in increased redemptions from the fund.\n",
      "\n",
      "market events risk.\n",
      "in the past decade financial markets throughout the world have experienced increased volatility, depressed valuations, decreased liquidity and heightened uncertainty.\n",
      "these conditions may continue, recur, worsen or spread.\n",
      "events that have contributed to these market conditions include, but are not limited to, major cybersecurity events; geopolitical events (including wars and terror attacks); measures to address budget deficits; downgrading of sovereign debt; changes in oil and commodity prices; dramatic changes in currency exchange rates; and public sentiment.\n",
      "the u.s. government and the federal reserve, as well as certain non-u.s. governments and central banks, have taken steps to support financial markets, including by keeping interest rates at historically low levels.\n",
      "this and other government intervention may not work as intended, particularly if the efforts are perceived by investors as being unlikely to achieve the desired results.\n",
      "the federal reserve has reduced its market support activities and recently has begun raising interest rates.\n",
      "certain non-u.s. governments and central banks are implementing or discussing so-called negative interest rates (e.g., charging depositors who keep their cash at a bank) to spur economic growth.\n",
      "further federal reserve or other u.s. or non-u.s. governmental or central bank actions, including interest rate increases or contrary actions by different governments, could negatively affect financial markets generally, increase market volatility and reduce the value and liquidity of securities in which the fund invests.\n",
      "policy and legislative changes in the united states and in other countries are affecting many aspects of financial regulation and may in some instances contribute to decreased liquidity and 4 western asset institutional government reserves increased volatility in the financial markets.\n",
      "the impact of these changes on the markets, and the practical implications for market participants, may not be fully known for some time.\n",
      "economies and financial markets throughout the world are increasingly interconnected.\n",
      "economic, financial or political events, trading and tariff arrangements, terrorism, natural disasters and other circumstances in one country or region could have profound impacts on global economies or markets.\n",
      "as a result, whether or not the fund invests in securities of issuers located in or with significant exposure to the countries directly affected, the value and liquidity of the fund’s investments may be negatively affected.\n",
      "\n",
      "credit risk.\n",
      "an issuer or other obligor (such as a party providing insurance or other credit enhancement) of a security held by the fund or a counterparty to a financial contract with the fund may default or its credit may be downgraded or perceived to be less creditworthy, or the value of assets underlying a security may decline, causing the value of your investment to decline.\n",
      "\n",
      "yield risk.\n",
      "the amount of income received by the fund will go up or down depending on variations in short-term interest rates, and when interest rates are very low the fund’s expenses could absorb all or a significant portion of the fund’s income.\n",
      "if interest rates increase, the fund’s yield may not increase proportionately.\n",
      "for example, the fund’s manager may discontinue any temporary voluntary fee limitation or recoup amounts previously waived and/or reimbursed.\n",
      "in addition, the implementation of recently adopted requirements for money market funds may have a negative effect on the fund’s yield.\n",
      "\n",
      "portfolio management risk.\n",
      "the value of your investment may decrease if the subadviser’s judgment about the quality, relative yield, value or market trends affecting a particular security, industry, sector or region, or about interest rates, is incorrect or does not produce the desired results, or if there are imperfections, errors or limitations in the tools and data used by the subadviser.\n",
      "in addition, the fund’s investment strategies or policies may change from time to time.\n",
      "those changes may not lead to the results intended by the subadviser and could have an adverse effect on the value or performance of the fund.\n",
      "\n",
      "liquidity risk.\n",
      "the fund may make investments that are illiquid or that become illiquid after purchase.\n",
      "the liquidity and value of investments can deteriorate rapidly, and they may become difficult or impossible to sell, particularly during times of market turmoil.\n",
      "illiquid investments may also be difficult to value.\n",
      "markets may become illiquid when, for instance, there are few, if any, interested buyers or sellers or when dealers are unwilling or unable to make a market for certain securities.\n",
      "if the fund is forced to sell an illiquid investment to meet redemption requests or other cash needs, the fund may be forced to sell at a loss.\n",
      "\n",
      "valuation risk.\n",
      "the sales price the fund could receive for any particular portfolio investment may differ from the fund’s valuation of the investment, particularly for securities that trade in thin or volatile markets or that are valued using a fair value methodology.\n",
      "investors who purchase or redeem fund shares on days when the fund is holding fair-valued securities may receive fewer or more shares or lower or higher redemption proceeds than they would have received if the fund had not fair-valued securities or had used a different valuation methodology.\n",
      "the fund’s ability to value its investments may be impacted by technological issues and/or errors by pricing services or other third party service providers.\n",
      "western asset institutional government reserves 5 redemption risk.\n",
      "the fund may experience heavy redemptions that could cause the fund to liquidate its assets at inopportune times or at a loss or depressed value and that could affect the fund’s ability to maintain a $1.00 share price.\n",
      "in addition, the fund may suspend redemptions when permitted by applicable regulations.\n",
      "\n",
      "cybersecurity risk.\n",
      "cybersecurity incidents, both intentional and unintentional, may allow an unauthorized party to gain access to fund assets, fund or customer data (including private shareholder information), or proprietary information, cause the fund, the manager, the subadviser and/or their service providers (including, but not limited to, fund accountants, custodians, sub-custodians, transfer agents and financial intermediaries) to suffer data breaches, data corruption or loss of operational functionality or prevent fund investors from purchasing, redeeming or exchanging shares or receiving distributions.\n",
      "a fund, the manager, and the subadviser have limited ability to prevent or mitigate cybersecurity incidents affecting third party service providers.\n",
      "cybersecurity incidents may result in financial losses to the fund and its shareholders, and substantial costs may be incurred in order to prevent any future cybersecurity incidents.\n",
      "these and other risks are discussed in more detail in the prospectus or in the statement of additional information.\n"
     ]
    }
   ],
   "source": [
    "for sen in nltk.tokenize.sent_tokenize(sample_to_label[77932]):\n",
    "    #re.search('risk.', sen) and \n",
    "    if len(sen.split(' '))<=5:\n",
    "        print()\n",
    "        print(sen)\n",
    "    else:\n",
    "        print(sen)"
   ]
  },
  {
   "cell_type": "markdown",
   "metadata": {},
   "source": [
    "### example 6\n",
    "- by :"
   ]
  },
  {
   "cell_type": "code",
   "execution_count": 138,
   "metadata": {
    "collapsed": true
   },
   "outputs": [
    {
     "name": "stdout",
     "output_type": "stream",
     "text": [
      "of investing in the portfolio.\n",
      "\n",
      "fund of funds risk: the investment performance of the world core equity portfolio is affected by the investment performance of the underlying funds in which the portfolio invests.\n",
      "the ability of the portfolio to achieve its investment objective depends on the ability of the underlying funds to meet their investment objectives and on the advisor’s decisions regarding the allocation of the portfolio’s assets among the underlying funds.\n",
      "the portfolio may allocate assets to an underlying fund or asset class that underperforms other funds or asset classes.\n",
      "there can be no assurance that the investment objective of the portfolio or any underlying fund will be achieved.\n",
      "when the portfolio invests in underlying funds, investors are exposed to a proportionate share of the expenses of those underlying funds in addition to the expenses of the portfolio.\n",
      "through its investments in the underlying funds, the portfolio is subject to the risks of the 4 dimensional fund advisors underlying funds’ investments.\n",
      "the risks of the world core equity portfolio’s and underlying funds’ investments are described below.\n",
      "\n",
      "equity market risk: even a long-term investment approach cannot guarantee a profit.\n",
      "economic, market, political, and issuer-specific conditions and events will cause the value of equity securities, and the portfolio or underlying fund that owns them, to rise or fall.\n",
      "stock markets tend to move in cycles, with periods of rising prices and periods of falling prices.\n",
      "\n",
      "foreign securities and currencies risk: foreign securities prices may decline or fluctuate because of: (a) economic or political actions of foreign governments, and/or (b) less regulated or liquid securities markets.\n",
      "investors holding these securities may also be exposed to foreign currency risk (the possibility that foreign currency will fluctuate in value against the u.s. dollar or that a foreign government will convert, or be forced to convert, its currency to another currency, changing its value against the u.s. dollar).\n",
      "the underlying funds do not hedge foreign currency risk.\n",
      "\n",
      "small company risk: securities of small companies are often less liquid than those of large companies and this could make it difficult to sell a small company security at a desired time or price.\n",
      "as a result, small company stocks may fluctuate relatively more in price.\n",
      "in general, smaller capitalization companies are also more vulnerable than larger companies to adverse business or economic developments and they may have more limited resources.\n",
      "\n",
      "value investment risk: value stocks may perform differently from the market as a whole and following a value-oriented investment strategy may cause the world core equity portfolio and the underlying funds to at times underperform equity funds that use other investment strategies.\n",
      "\n",
      "emerging markets risk: numerous emerging market countries have a history of, and continue to experience serious, and potentially continuing, economic and political problems.\n",
      "stock markets in many emerging market countries are relatively small, expensive to trade in and generally have higher risks than those in developed markets.\n",
      "securities in emerging markets also may be less liquid than those in developed markets and foreigners are often limited in their ability to invest in, and withdraw assets from, these markets.\n",
      "additional restrictions may be imposed under other conditions.\n",
      "frontier market countries generally have smaller economies or less developed capital markets and, as a result, the risks of investing in emerging market countries are magnified in frontier market countries.\n",
      "\n",
      "derivatives risk: derivatives are instruments, such as swaps, futures and foreign currency forward contracts, whose value is derived from that of other assets, rates or indices.\n",
      "the use of derivatives for non-hedging purposes may be considered to carry more risk than other types of investments.\n",
      "when the world core equity portfolio or an underlying fund uses derivatives, the portfolio or underlying fund will be directly exposed to the risks of those derivatives.\n",
      "derivative instruments are world core equity portfolio summary prospectus 5 subject to a number of risks including counterparty, liquidity, interest rate, market, credit and management risks, and the risk of improper valuation.\n",
      "changes in the value of a derivative may not correlate perfectly with the underlying asset, rate or index, and the portfolio or underlying fund could lose more than the principal amount invested.\n",
      "\n",
      "securities lending risk: securities lending involves the risk that the borrower may fail to return the securities in a timely manner or at all.\n",
      "as a result, an underlying fund may lose money and there may be a delay in recovering the loaned securities.\n",
      "an underlying fund could also lose money if it does not recover the securities and/or the value of the collateral falls, including the value of investments made with cash collateral.\n",
      "securities lending also may have certain adverse tax consequences.\n",
      "to the extent that the portfolio holds securities directly and lends those securities, it will be also subject to the foregoing risks with respect to its loaned securities.\n",
      "\n",
      "cyber security risk: the world core equity portfolio’s and its service providers’ use of internet, technology and information systems may expose the portfolio to potential risks linked to cyber security breaches of those technological or information systems.\n",
      "cyber security breaches, amongst other things, could allow an unauthorized party to gain access to proprietary information, customer data, or fund assets, or cause the portfolio and/or its service providers to suffer data corruption or lose operational functionality.\n"
     ]
    }
   ],
   "source": [
    "# example\n",
    "for sen in nltk.tokenize.sent_tokenize(sample_to_label[72169]):\n",
    "    if re.search('risk: ', sen):\n",
    "        print()\n",
    "        print(sen)\n",
    "    else:\n",
    "        print(sen)"
   ]
  },
  {
   "cell_type": "code",
   "execution_count": 153,
   "metadata": {
    "collapsed": true
   },
   "outputs": [
    {
     "name": "stdout",
     "output_type": "stream",
     "text": [
      "of investing in the portfolio.\n",
      "\n",
      "fund of funds risk: the investment performance of the world core equity portfolio is affected by the investment performance of the underlying funds in which the portfolio invests.\n",
      "the ability of the portfolio to achieve its investment objective depends on the ability of the underlying funds to meet their investment objectives and on the advisor’s decisions regarding the allocation of the portfolio’s assets among the underlying funds.\n",
      "the portfolio may allocate assets to an underlying fund or asset class that underperforms other funds or asset classes.\n",
      "there can be no assurance that the investment objective of the portfolio or any underlying fund will be achieved.\n",
      "when the portfolio invests in underlying funds, investors are exposed to a proportionate share of the expenses of those underlying funds in addition to the expenses of the portfolio.\n",
      "through its investments in the underlying funds, the portfolio is subject to the risks of the 4 dimensional fund advisors underlying funds’ investments.\n",
      "the risks of the world core equity portfolio’s and underlying funds’ investments are described below.\n",
      "\n",
      "equity market risk: even a long-term investment approach cannot guarantee a profit.\n",
      "economic, market, political, and issuer-specific conditions and events will cause the value of equity securities, and the portfolio or underlying fund that owns them, to rise or fall.\n",
      "stock markets tend to move in cycles, with periods of rising prices and periods of falling prices.\n",
      "\n",
      "foreign securities and currencies risk: foreign securities prices may decline or fluctuate because of: (a) economic or political actions of foreign governments, and/or (b) less regulated or liquid securities markets.\n",
      "investors holding these securities may also be exposed to foreign currency risk (the possibility that foreign currency will fluctuate in value against the u.s. dollar or that a foreign government will convert, or be forced to convert, its currency to another currency, changing its value against the u.s. dollar).\n",
      "the underlying funds do not hedge foreign currency risk.\n",
      "\n",
      "small company risk: securities of small companies are often less liquid than those of large companies and this could make it difficult to sell a small company security at a desired time or price.\n",
      "as a result, small company stocks may fluctuate relatively more in price.\n",
      "in general, smaller capitalization companies are also more vulnerable than larger companies to adverse business or economic developments and they may have more limited resources.\n",
      "\n",
      "value investment risk: value stocks may perform differently from the market as a whole and following a value-oriented investment strategy may cause the world core equity portfolio and the underlying funds to at times underperform equity funds that use other investment strategies.\n",
      "\n",
      "emerging markets risk: numerous emerging market countries have a history of, and continue to experience serious, and potentially continuing, economic and political problems.\n",
      "stock markets in many emerging market countries are relatively small, expensive to trade in and generally have higher risks than those in developed markets.\n",
      "securities in emerging markets also may be less liquid than those in developed markets and foreigners are often limited in their ability to invest in, and withdraw assets from, these markets.\n",
      "additional restrictions may be imposed under other conditions.\n",
      "frontier market countries generally have smaller economies or less developed capital markets and, as a result, the risks of investing in emerging market countries are magnified in frontier market countries.\n",
      "\n",
      "derivatives risk: derivatives are instruments, such as swaps, futures and foreign currency forward contracts, whose value is derived from that of other assets, rates or indices.\n",
      "the use of derivatives for non-hedging purposes may be considered to carry more risk than other types of investments.\n",
      "when the world core equity portfolio or an underlying fund uses derivatives, the portfolio or underlying fund will be directly exposed to the risks of those derivatives.\n",
      "derivative instruments are world core equity portfolio summary prospectus 5 subject to a number of risks including counterparty, liquidity, interest rate, market, credit and management risks, and the risk of improper valuation.\n",
      "changes in the value of a derivative may not correlate perfectly with the underlying asset, rate or index, and the portfolio or underlying fund could lose more than the principal amount invested.\n",
      "\n",
      "securities lending risk: securities lending involves the risk that the borrower may fail to return the securities in a timely manner or at all.\n",
      "as a result, an underlying fund may lose money and there may be a delay in recovering the loaned securities.\n",
      "an underlying fund could also lose money if it does not recover the securities and/or the value of the collateral falls, including the value of investments made with cash collateral.\n",
      "securities lending also may have certain adverse tax consequences.\n",
      "to the extent that the portfolio holds securities directly and lends those securities, it will be also subject to the foregoing risks with respect to its loaned securities.\n",
      "\n",
      "cyber security risk: the world core equity portfolio’s and its service providers’ use of internet, technology and information systems may expose the portfolio to potential risks linked to cyber security breaches of those technological or information systems.\n",
      "cyber security breaches, amongst other things, could allow an unauthorized party to gain access to proprietary information, customer data, or fund assets, or cause the portfolio and/or its service providers to suffer data corruption or lose operational functionality.\n"
     ]
    }
   ],
   "source": [
    "# example\n",
    "for sen in nltk.tokenize.sent_tokenize(sample_to_label[72169]):\n",
    "    if re.search('risk: ', sen):\n",
    "        print()\n",
    "        print(sen)\n",
    "    else:\n",
    "        print(sen)"
   ]
  },
  {
   "cell_type": "markdown",
   "metadata": {},
   "source": [
    "# bad example"
   ]
  },
  {
   "cell_type": "code",
   "execution_count": 168,
   "metadata": {
    "collapsed": true
   },
   "outputs": [
    {
     "name": "stdout",
     "output_type": "stream",
     "text": [
      "as with any fund that invests in stocks, your investment will fluctuate in value, and the loss of your investment is a risk of investing.\n",
      "the fund's price per share will fluctuate due to changes in the market prices of its investments.\n",
      "also, the fund's investments may not grow as fast as the rate of inflation and stocks tend to be more volatile than some other investments you could make, such as bonds.\n",
      "prices of growth stocks tend to be higher in relation to their companies' earnings and may be more sensitive to market, political and economic developments than other stocks, making their prices more volatile.\n",
      "an investment in the fund may be better suited to investors who seek long-term capital growth and can tolerate fluctuations in their investment's value.\n",
      "the following risks also apply: • investing in companies of all capitalizations involves the risk that smaller issuers in which the fund invests may have limited product lines or financial resources, or lack management depth.\n",
      "• it may be difficult or impossible to liquidate a security position at a time and price acceptable to the fund owing to the potentially less frequent trading of stocks of smaller market capitalization.\n",
      "• the cost of borrowing money to leverage may exceed the returns for the securities purchased or the securities purchased may actually go down in value; thus, the fund's net asset value could decrease more quickly than if it had not borrowed.\n",
      "• the allocation of investments among the analysts may have a more significant effect on the fund's net asset value when one analyst's portion of the portfolio is performing more poorly than the others, or when the allocations are not rebalanced.\n",
      "the fund's performance will be influenced by political, social and economic factors affecting investments in foreign companies.\n",
      "special risks associated with investments in foreign companies include exposure to currency fluctuations, less liquidity, less developed or less efficient trading markets, lack of comprehensive company information, political instability and differing auditing and legal standards.\n",
      "the securities of issuers located in emerging markets can be more volatile, and less liquid, than those of issuers in more mature economies.\n",
      "an investment in the fund is not a deposit of a bank and is not insured or guaranteed by the federal deposit insurance corporation or any other government agency.\n",
      "alger analyst fund 3/4 summary prospectus march 1, 2015, as revised october 23, 2015\n"
     ]
    }
   ],
   "source": [
    "for sen in nltk.tokenize.sent_tokenize(sample_to_label[20811]):\n",
    "    #if re.search('risk .', sen):\n",
    "        #print()\n",
    "        print(sen)\n",
    "    #else:\n",
    "        #print(sen)"
   ]
  },
  {
   "cell_type": "code",
   "execution_count": 169,
   "metadata": {
    "collapsed": true
   },
   "outputs": [
    {
     "name": "stdout",
     "output_type": "stream",
     "text": [
      ": the fund’s returns will vary, and you could lose money by investing in the fund.\n",
      "because the fund invests most of its assets in equity securities of domestic growth companies, the primary risk is that the value of the equity securities it holds might decrease in response to the activities of those companies or market and economic conditions.\n",
      "in addition, there is the risk that individual securities may not perform as expected or a strategy used by the adviser may fail to produce its intended result.\n",
      "different investment styles (e.g., growth vs. value, quality bias, market capitalization focus) tend to shift in and out of favor depending on market conditions and investor sentiment, and at times when the investment style used by the adviser for the fund is out of favor, the fund may underperform other equity funds that use different investment styles.\n",
      "the securities of small capitalized (“small cap”) and medium capitalized (“mid cap”) companies may be more volatile and less liquid than the securities of large capitalized (“large cap”) companies.\n",
      "in addition, small and mid cap companies may be traded in low volumes.\n",
      "this can increase volatility and increase the risk that the fund will not be able to sell the security on short notice at a reasonable price.\n",
      "separate accounts managed by the adviser may invest in the fund and, therefore, the adviser at times may have discretionary authority over a significant portion of the assets invested in the fund.\n",
      "in such instances, the adviser’s decision to make changes to or rebalance its clients’ allocations in the separate accounts may substantially impact the fund’s performance.\n",
      "the fund is not intended to be a complete investment program.\n",
      "the fund is designed for long-term investors.\n",
      "2 fund performance history: the information below provides some indication of the risks of investing in the fund by showing changes in the fund’s performance from year to year and by showing how the fund’s average annual returns for the years indicated compare with those of broad measures of market performance.\n",
      "the fund’s past performance (before and after taxes) does not necessarily indicate how it will perform in the future.\n"
     ]
    }
   ],
   "source": [
    "for sen in nltk.tokenize.sent_tokenize(sample_to_label[25110]):\n",
    "    print(sen)"
   ]
  },
  {
   "cell_type": "markdown",
   "metadata": {},
   "source": [
    "### functon to test random text"
   ]
  },
  {
   "cell_type": "code",
   "execution_count": 227,
   "metadata": {},
   "outputs": [],
   "source": [
    "def fun(text):\n",
    "    for sen in nltk.tokenize.sent_tokenize(text):\n",
    "        # first case\n",
    "        if re.search('risk —', sen):\n",
    "            print()\n",
    "            print(sen)\n",
    "        elif re.search('risk: ', sen) or (re.search('risk', sen) and len(sen.split(' '))<=5) or re.search('•', sen) or re.search('●', sen):\n",
    "            print()\n",
    "            print(sen)\n",
    "        else:\n",
    "            print(sen)"
   ]
  },
  {
   "cell_type": "code",
   "execution_count": 220,
   "metadata": {
    "collapsed": true
   },
   "outputs": [
    {
     "name": "stdout",
     "output_type": "stream",
     "text": [
      "\n",
      "label:    of investing in the fund, which could adversely affect the fund’s net asset value, yield or total return are (in alphabetical order): ● interest rate risk — the value of the fund’s interest-bearing investments may decline due to an increase in interest rates.\n",
      "text: \n",
      "in general, the longer a security’s maturity, the greater the interest rate risk.\n",
      "the fund’s yield may decrease due to a decline in interest rates.\n",
      "\n",
      "label:    ● liquidity risk — certain securities may be difficult or impossible to sell at the time and the price that would normally prevail in the market.\n",
      "text: \n",
      "\n",
      "label:    ● management risk — there is no guarantee that the investment techniques and risk analyses used by the fund’s portfolio managers will produce the desired results.\n",
      "text: \n",
      "\n",
      "label:    ● market risk — the market value of a security may move up and down, sometimes rapidly and unpredictably.\n",
      "text: \n",
      "\n",
      "label:    ● redemption risk — the risk that heavy redemptions could cause the fund to liquidate its assets at inopportune times or at a loss or depressed value, particularly during periods of declining or illiquid markets, and that could affect the fund’s ability to maintain a $1.00 share price.\n",
      "text: \n",
      "redemption risk is greater to the extent that the fund has investors with large shareholdings, short investment horizons or unpredictable cash flow needs.\n",
      "the redemption by one or more large shareholders of their holdings in the fund could cause the remaining shareholders in the fund to lose money.\n",
      "\n",
      "label:    ● regulatory risk — change in laws or regulations may materially affect a security, business, sector or market.\n",
      "text: \n",
      "regulatory risk also includes the risk associated with federal and state laws which may restrict the remedies that a lender has when a borrower defaults on loans.\n",
      "to the extent that the fund makes investments with additional risks, those risks could increase volatility or reduce performance.\n",
      "the fund may trade securities actively, which could increase its transaction costs (thus lowering performance) and may increase the amount of taxes that you pay.\n",
      "for more information about these risks, please refer to the section titled “investment practices and risks” in the fund’s prospectus.\n"
     ]
    }
   ],
   "source": [
    "fun(sample_to_label[63658])"
   ]
  },
  {
   "cell_type": "markdown",
   "metadata": {},
   "source": [
    "### Get Labels for the data"
   ]
  },
  {
   "cell_type": "code",
   "execution_count": 4,
   "metadata": {},
   "outputs": [],
   "source": [
    "# function to split the document based on observed patterns\n",
    "def fun(df, dic):\n",
    "    for j in range(df.shape[0]):\n",
    "        text = df.principal_risks[j]\n",
    "        for sen in nltk.tokenize.sent_tokenize(text):\n",
    "            if re.search('risk —', sen):\n",
    "                dic['label'].append(sen.split(\"risk —\")[0]+' risk')\n",
    "                dic['accession#'].append(df['accession#'][j])\n",
    "                dic['sentences'].append(sen.split(\"risk —\")[1])\n",
    "            elif re.search('risk: ', sen) and re.search('are: ', sen):\n",
    "                dic['label'].append(sen.split(\"are:\")[1])\n",
    "                dic['accession#'].append(df['accession#'][j])\n",
    "                dic['sentences'].append('')\n",
    "            elif re.search('risk: ', sen):\n",
    "                dic['label'].append(sen.split(\":\")[0])\n",
    "                dic['accession#'].append(df['accession#'][j])\n",
    "                dic['sentences'].append(sen.split(\":\")[1] )\n",
    "            elif  (re.search('risk', sen) and len(sen.split(' '))<=5) or re.search('•', sen) or re.search('●', sen):\n",
    "                dic['label'].append(sen)\n",
    "                dic['accession#'].append(df['accession#'][j])\n",
    "                dic['sentences'].append('')\n",
    "            else:\n",
    "                if len(dic['label'])>0:\n",
    "                    dic['sentences'][-1] = dic['sentences'][-1]+ sen\n",
    "    return dic"
   ]
  },
  {
   "cell_type": "code",
   "execution_count": 6,
   "metadata": {},
   "outputs": [],
   "source": [
    "label_num = int(df.shape[0]*0.2) # 20% of the data\n",
    "\n",
    "df_sample = df.sample(n=label_num, random_state=231).reset_index(drop=True)"
   ]
  },
  {
   "cell_type": "code",
   "execution_count": 7,
   "metadata": {},
   "outputs": [
    {
     "data": {
      "text/html": [
       "<div>\n",
       "<style scoped>\n",
       "    .dataframe tbody tr th:only-of-type {\n",
       "        vertical-align: middle;\n",
       "    }\n",
       "\n",
       "    .dataframe tbody tr th {\n",
       "        vertical-align: top;\n",
       "    }\n",
       "\n",
       "    .dataframe thead th {\n",
       "        text-align: right;\n",
       "    }\n",
       "</style>\n",
       "<table border=\"1\" class=\"dataframe\">\n",
       "  <thead>\n",
       "    <tr style=\"text-align: right;\">\n",
       "      <th></th>\n",
       "      <th>Unnamed: 0</th>\n",
       "      <th>accession#</th>\n",
       "      <th>filing_year</th>\n",
       "      <th>principal_risks</th>\n",
       "    </tr>\n",
       "  </thead>\n",
       "  <tbody>\n",
       "    <tr>\n",
       "      <th>0</th>\n",
       "      <td>69105</td>\n",
       "      <td>0000920467-15-000013</td>\n",
       "      <td>2015</td>\n",
       "      <td>as with any mutual fund, there can be no guara...</td>\n",
       "    </tr>\n",
       "    <tr>\n",
       "      <th>1</th>\n",
       "      <td>70685</td>\n",
       "      <td>0001081402-15-000005</td>\n",
       "      <td>2015</td>\n",
       "      <td>an investment in the fund may lose money, is n...</td>\n",
       "    </tr>\n",
       "    <tr>\n",
       "      <th>2</th>\n",
       "      <td>72639</td>\n",
       "      <td>0001144204-15-037930</td>\n",
       "      <td>2015</td>\n",
       "      <td>as with any mutual fund, you could lose money ...</td>\n",
       "    </tr>\n",
       "    <tr>\n",
       "      <th>3</th>\n",
       "      <td>75388</td>\n",
       "      <td>0001193125-15-157531</td>\n",
       "      <td>2015</td>\n",
       "      <td>as with all mutual funds, there is no guarante...</td>\n",
       "    </tr>\n",
       "    <tr>\n",
       "      <th>4</th>\n",
       "      <td>101977</td>\n",
       "      <td>0000933691-17-000087</td>\n",
       "      <td>2017</td>\n",
       "      <td>of investing in the fund. an investment in the...</td>\n",
       "    </tr>\n",
       "    <tr>\n",
       "      <th>...</th>\n",
       "      <td>...</td>\n",
       "      <td>...</td>\n",
       "      <td>...</td>\n",
       "      <td>...</td>\n",
       "    </tr>\n",
       "    <tr>\n",
       "      <th>16273</th>\n",
       "      <td>52007</td>\n",
       "      <td>0000750909-14-000020</td>\n",
       "      <td>2014</td>\n",
       "      <td>market risk. the market prices of the trust’s ...</td>\n",
       "    </tr>\n",
       "    <tr>\n",
       "      <th>16274</th>\n",
       "      <td>124177</td>\n",
       "      <td>0001193125-18-118087</td>\n",
       "      <td>2018</td>\n",
       "      <td>an investment in the fund involves risks, incl...</td>\n",
       "    </tr>\n",
       "    <tr>\n",
       "      <th>16275</th>\n",
       "      <td>110505</td>\n",
       "      <td>0001193125-17-244108</td>\n",
       "      <td>2017</td>\n",
       "      <td>as with any investment, you could lose all or ...</td>\n",
       "    </tr>\n",
       "    <tr>\n",
       "      <th>16276</th>\n",
       "      <td>126841</td>\n",
       "      <td>0001193125-18-234326</td>\n",
       "      <td>2018</td>\n",
       "      <td>: an investment in the portfolio is not a depo...</td>\n",
       "    </tr>\n",
       "    <tr>\n",
       "      <th>16277</th>\n",
       "      <td>112216</td>\n",
       "      <td>0001193125-17-369490</td>\n",
       "      <td>2017</td>\n",
       "      <td>of investing in the fund as with any mutual fu...</td>\n",
       "    </tr>\n",
       "  </tbody>\n",
       "</table>\n",
       "<p>16278 rows × 4 columns</p>\n",
       "</div>"
      ],
      "text/plain": [
       "       Unnamed: 0            accession#  filing_year  \\\n",
       "0           69105  0000920467-15-000013         2015   \n",
       "1           70685  0001081402-15-000005         2015   \n",
       "2           72639  0001144204-15-037930         2015   \n",
       "3           75388  0001193125-15-157531         2015   \n",
       "4          101977  0000933691-17-000087         2017   \n",
       "...           ...                   ...          ...   \n",
       "16273       52007  0000750909-14-000020         2014   \n",
       "16274      124177  0001193125-18-118087         2018   \n",
       "16275      110505  0001193125-17-244108         2017   \n",
       "16276      126841  0001193125-18-234326         2018   \n",
       "16277      112216  0001193125-17-369490         2017   \n",
       "\n",
       "                                         principal_risks  \n",
       "0      as with any mutual fund, there can be no guara...  \n",
       "1      an investment in the fund may lose money, is n...  \n",
       "2      as with any mutual fund, you could lose money ...  \n",
       "3      as with all mutual funds, there is no guarante...  \n",
       "4      of investing in the fund. an investment in the...  \n",
       "...                                                  ...  \n",
       "16273  market risk. the market prices of the trust’s ...  \n",
       "16274  an investment in the fund involves risks, incl...  \n",
       "16275  as with any investment, you could lose all or ...  \n",
       "16276  : an investment in the portfolio is not a depo...  \n",
       "16277  of investing in the fund as with any mutual fu...  \n",
       "\n",
       "[16278 rows x 4 columns]"
      ]
     },
     "execution_count": 7,
     "metadata": {},
     "output_type": "execute_result"
    }
   ],
   "source": [
    "df_sample"
   ]
  },
  {
   "cell_type": "code",
   "execution_count": null,
   "metadata": {},
   "outputs": [],
   "source": [
    "# get the dictionary\n",
    "dic = {'accession#':[], 'label':[], 'sentences': []}\n",
    "diction = fun(df, dic)"
   ]
  },
  {
   "cell_type": "code",
   "execution_count": null,
   "metadata": {},
   "outputs": [],
   "source": [
    "# check\n",
    "len(diction['accession#'])==len(diction['label'])==len(diction['sentences'])"
   ]
  },
  {
   "cell_type": "code",
   "execution_count": null,
   "metadata": {},
   "outputs": [],
   "source": [
    "label_data = pd.DataFrame(diction)"
   ]
  },
  {
   "cell_type": "code",
   "execution_count": null,
   "metadata": {},
   "outputs": [],
   "source": [
    "label_data"
   ]
  },
  {
   "cell_type": "code",
   "execution_count": null,
   "metadata": {},
   "outputs": [],
   "source": [
    "label_data.shape[0]"
   ]
  },
  {
   "cell_type": "code",
   "execution_count": null,
   "metadata": {},
   "outputs": [],
   "source": [
    "# clean up long label\n",
    "for i in range(label_data.shape[0]):\n",
    "    \n",
    "    pattern1 = ['risk,', 'risk ,'] \n",
    "    for j in range(2):   \n",
    "        if re.search(pattern1[j], label_data['label'][i]) and re.search('•', label_data['label'][i]):\n",
    "            a = label_data['label'][i].split(pattern1[j])[0]\n",
    "            b = label_data['label'][i].split(pattern1[j])[1]\n",
    "            label_data.at[i, 'label'] = a+'risk'\n",
    "            label_data.at[i,'sentences'] = b + label_data['sentences'][i]\n",
    "    \n",
    "    if ': :' in label_data['label'][i]:\n",
    "        label_data.at[i, 'label'] = re.sub(': :', '::', label_data['label'][i])\n",
    "    \n",
    "    if '::' in label_data['label'][i]:\n",
    "        label_data.at[i, 'label'] = label_data['label'][i].split('::')[-1]    \n",
    "    elif ':' in label_data['label'][i]:\n",
    "        a = label_data['label'][i].split(':')[0]\n",
    "        b = label_data['label'][i].split(':')[1]\n",
    "        if (len(a)>len(b) and b !='') or ('•' in b):\n",
    "            label_data.at[i, 'label'] = b\n",
    "        elif len(a)<len(b) and a !='':\n",
    "            label_data.at[i, 'label'] = a\n",
    "            label_data.at[i,'sentences'] = b + label_data['sentences'][i] \n",
    "        else:\n",
    "            pass\n",
    "    else:\n",
    "        pass\n",
    "    \n",
    "    pattern2 = ['risk -','risk –', 'risk  –']\n",
    "    \n",
    "    for j in range(3):\n",
    "        if re.search(pattern2[j], label_data['label'][i]) and len(label_data['label'][i].split(pattern2[j])[1].split(' '))>10:   \n",
    "            a = label_data['label'][i].split(pattern2[j])[0]\n",
    "            b = label_data['label'][i].split(pattern2[j])[1]\n",
    "            label_data.at[i, 'label'] = a + 'risk'\n",
    "            label_data.at[i, 'sentences'] = b + label_data.at[i, 'sentences']"
   ]
  },
  {
   "cell_type": "code",
   "execution_count": null,
   "metadata": {},
   "outputs": [],
   "source": [
    "# remove unalpha\n",
    "label_data['label'] = [re.sub('[^[a-zA-Z.]+', ' ', i).strip() if ('u.s.' in i) else re.sub('[^[a-zA-Z]+', ' ', i).strip() for i in label_data['label']]\n",
    "\n",
    "# remove words with single charaters\n",
    "label_data['label'] = [re.sub(r\"\\b[a-zA-Z]\\b\", \"\", i).strip() if ('u.s.' not in i) else i for i in label_data['label']]\n"
   ]
  },
  {
   "cell_type": "code",
   "execution_count": null,
   "metadata": {},
   "outputs": [],
   "source": [
    "# remove long labels\n",
    "rows = []\n",
    "for i in range(label_data.shape[0]):\n",
    "    if len(label_data.label[i].split(' '))>10:\n",
    "        rows.append(i)\n",
    "        \n",
    "label_data2 = label_data.drop(label_data.index[rows], inplace = False).reset_index(drop=True)"
   ]
  },
  {
   "cell_type": "code",
   "execution_count": null,
   "metadata": {},
   "outputs": [],
   "source": [
    "label_data2.shape[0]"
   ]
  },
  {
   "cell_type": "code",
   "execution_count": null,
   "metadata": {},
   "outputs": [],
   "source": [
    "label_data2"
   ]
  },
  {
   "cell_type": "code",
   "execution_count": null,
   "metadata": {},
   "outputs": [],
   "source": []
  },
  {
   "cell_type": "code",
   "execution_count": null,
   "metadata": {},
   "outputs": [],
   "source": [
    "labels = label_data2.label.tolist()\n",
    "labels"
   ]
  },
  {
   "cell_type": "code",
   "execution_count": null,
   "metadata": {},
   "outputs": [],
   "source": [
    "label3 = label_data2.label.value_counts().to_frame().reset_index()\n",
    "label3.head(300)"
   ]
  },
  {
   "cell_type": "code",
   "execution_count": null,
   "metadata": {},
   "outputs": [],
   "source": [
    "label_to_keep = label3.head(300)['index'].tolist()"
   ]
  },
  {
   "cell_type": "code",
   "execution_count": null,
   "metadata": {},
   "outputs": [],
   "source": [
    "rows =[]\n",
    "for i in range(label_data2.shape[0]):\n",
    "    if label_data2['label'][i] not in label_to_keep:\n",
    "        rows.append(i)\n",
    "        \n",
    "label_data3 = label_data2.drop(label_data2.index[rows], inplace = False)"
   ]
  },
  {
   "cell_type": "code",
   "execution_count": null,
   "metadata": {},
   "outputs": [],
   "source": [
    "label_data3"
   ]
  },
  {
   "cell_type": "code",
   "execution_count": null,
   "metadata": {},
   "outputs": [],
   "source": [
    "label_data3.to_csv('labeled_data.csv')"
   ]
  }
 ],
 "metadata": {
  "kernelspec": {
   "display_name": "Python 3",
   "language": "python",
   "name": "python3"
  },
  "language_info": {
   "codemirror_mode": {
    "name": "ipython",
    "version": 3
   },
   "file_extension": ".py",
   "mimetype": "text/x-python",
   "name": "python",
   "nbconvert_exporter": "python",
   "pygments_lexer": "ipython3",
   "version": "3.8.3"
  }
 },
 "nbformat": 4,
 "nbformat_minor": 4
}
